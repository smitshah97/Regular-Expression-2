{
 "cells": [
  {
   "cell_type": "code",
   "execution_count": 5,
   "metadata": {},
   "outputs": [
    {
     "name": "stdout",
     "output_type": "stream",
     "text": [
      "The object type: <class 'requests.models.Response'>\n",
      "The object type: <class 'bs4.BeautifulSoup'>\n"
     ]
    }
   ],
   "source": [
    "#importing the BeautifulSoup Library  \n",
    "  \n",
    "import bs4  \n",
    "import requests  \n",
    "  \n",
    "#Creating the requests  \n",
    "  \n",
    "res = requests.get(\"https://en.wikipedia.org/wiki/Machine_learning\")  \n",
    "print(\"The object type:\",type(res))  \n",
    "  \n",
    "# Convert the request object to the Beautiful Soup Object  \n",
    "soup = bs4.BeautifulSoup(res.text,'html5lib')  \n",
    "print(\"The object type:\",type(soup))"
   ]
  },
  {
   "cell_type": "code",
   "execution_count": 3,
   "metadata": {},
   "outputs": [],
   "source": [
    "  \n",
    "import bs4  \n",
    "import requests  "
   ]
  },
  {
   "cell_type": "code",
   "execution_count": 10,
   "metadata": {},
   "outputs": [
    {
     "name": "stdout",
     "output_type": "stream",
     "text": [
      "Overview,Machine learning approaches,History and relationships to other fields,Artificial intelligence,Data mining,Optimization,Generalization,Statistics, Theory,Approaches,Types of learning algorithms,Supervised learning,Unsupervised learning,Semi-supervised learning,Reinforcement learning,Self learning,Feature learning,Sparse dictionary learning,Anomaly detection,Robot learning,Association rules,Models,Artificial neural networks,Decision trees,Support vector machines,Regression analysis,Bayesian networks,Genetic algorithms,Training models,Federated learning,Applications,Limitations,Bias,Model assessments,Ethics,Hardware,Software,Free and open-source software,Proprietary software with free and open-source editions,Proprietary software,Journals,Conferences,See also,References,Further reading,External links,"
     ]
    }
   ],
   "source": [
    "soup.select('.mw-headline')  \n",
    "for i in soup.select('.mw-headline'):  \n",
    "    print(i.text,end = ',')  "
   ]
  },
  {
   "cell_type": "code",
   "execution_count": 8,
   "metadata": {},
   "outputs": [
    {
     "data": {
      "text/plain": [
       "[<span class=\"mw-headline\" id=\"Overview\">Overview</span>,\n",
       " <span class=\"mw-headline\" id=\"Machine_learning_approaches\">Machine learning approaches</span>,\n",
       " <span class=\"mw-headline\" id=\"History_and_relationships_to_other_fields\">History and relationships to other fields</span>,\n",
       " <span class=\"mw-headline\" id=\"Artificial_intelligence\">Artificial intelligence</span>,\n",
       " <span class=\"mw-headline\" id=\"Data_mining\">Data mining</span>,\n",
       " <span class=\"mw-headline\" id=\"Optimization\">Optimization</span>,\n",
       " <span class=\"mw-headline\" id=\"Generalization\">Generalization</span>,\n",
       " <span class=\"mw-headline\" id=\"Statistics\">Statistics</span>,\n",
       " <span class=\"mw-headline\" id=\"Theory\"><span class=\"anchor\" id=\"Generalization\"></span> Theory</span>,\n",
       " <span class=\"mw-headline\" id=\"Approaches\">Approaches</span>,\n",
       " <span class=\"mw-headline\" id=\"Types_of_learning_algorithms\">Types of learning algorithms</span>,\n",
       " <span class=\"mw-headline\" id=\"Supervised_learning\">Supervised learning</span>,\n",
       " <span class=\"mw-headline\" id=\"Unsupervised_learning\">Unsupervised learning</span>,\n",
       " <span class=\"mw-headline\" id=\"Semi-supervised_learning\">Semi-supervised learning</span>,\n",
       " <span class=\"mw-headline\" id=\"Reinforcement_learning\">Reinforcement learning</span>,\n",
       " <span class=\"mw-headline\" id=\"Self_learning\">Self learning</span>,\n",
       " <span class=\"mw-headline\" id=\"Feature_learning\">Feature learning</span>,\n",
       " <span class=\"mw-headline\" id=\"Sparse_dictionary_learning\">Sparse dictionary learning</span>,\n",
       " <span class=\"mw-headline\" id=\"Anomaly_detection\">Anomaly detection</span>,\n",
       " <span class=\"mw-headline\" id=\"Robot_learning\">Robot learning</span>,\n",
       " <span class=\"mw-headline\" id=\"Association_rules\">Association rules</span>,\n",
       " <span class=\"mw-headline\" id=\"Models\">Models</span>,\n",
       " <span class=\"mw-headline\" id=\"Artificial_neural_networks\">Artificial neural networks</span>,\n",
       " <span class=\"mw-headline\" id=\"Decision_trees\">Decision trees</span>,\n",
       " <span class=\"mw-headline\" id=\"Support_vector_machines\">Support vector machines</span>,\n",
       " <span class=\"mw-headline\" id=\"Regression_analysis\">Regression analysis</span>,\n",
       " <span class=\"mw-headline\" id=\"Bayesian_networks\">Bayesian networks</span>,\n",
       " <span class=\"mw-headline\" id=\"Genetic_algorithms\">Genetic algorithms</span>,\n",
       " <span class=\"mw-headline\" id=\"Training_models\">Training models</span>,\n",
       " <span class=\"mw-headline\" id=\"Federated_learning\">Federated learning</span>,\n",
       " <span class=\"mw-headline\" id=\"Applications\">Applications</span>,\n",
       " <span class=\"mw-headline\" id=\"Limitations\">Limitations</span>,\n",
       " <span class=\"mw-headline\" id=\"Bias\">Bias</span>,\n",
       " <span class=\"mw-headline\" id=\"Model_assessments\">Model assessments</span>,\n",
       " <span class=\"mw-headline\" id=\"Ethics\">Ethics</span>,\n",
       " <span class=\"mw-headline\" id=\"Hardware\">Hardware</span>,\n",
       " <span class=\"mw-headline\" id=\"Software\">Software</span>,\n",
       " <span class=\"mw-headline\" id=\"Free_and_open-source_software\">Free and open-source software<span class=\"anchor\" id=\"Open-source_software\"></span></span>,\n",
       " <span class=\"mw-headline\" id=\"Proprietary_software_with_free_and_open-source_editions\">Proprietary software with free and open-source editions</span>,\n",
       " <span class=\"mw-headline\" id=\"Proprietary_software\">Proprietary software</span>,\n",
       " <span class=\"mw-headline\" id=\"Journals\">Journals</span>,\n",
       " <span class=\"mw-headline\" id=\"Conferences\">Conferences</span>,\n",
       " <span class=\"mw-headline\" id=\"See_also\">See also</span>,\n",
       " <span class=\"mw-headline\" id=\"References\">References</span>,\n",
       " <span class=\"mw-headline\" id=\"Further_reading\">Further reading</span>,\n",
       " <span class=\"mw-headline\" id=\"External_links\">External links</span>]"
      ]
     },
     "execution_count": 8,
     "metadata": {},
     "output_type": "execute_result"
    }
   ],
   "source": [
    "soup.select('.mw-headline')"
   ]
  },
  {
   "cell_type": "code",
   "execution_count": 11,
   "metadata": {},
   "outputs": [],
   "source": [
    "html = '''\n",
    "<html>\n",
    "  <head>\n",
    "    <title>Intro HTML</title>\n",
    "  </head>\n",
    "  <body>\n",
    "    <p>Hello World!</p>\n",
    "    <p>Enjoy DataCamp!</p>\n",
    "  </body>\n",
    "</html>\n",
    "'''"
   ]
  },
  {
   "cell_type": "code",
   "execution_count": 12,
   "metadata": {},
   "outputs": [
    {
     "ename": "NameError",
     "evalue": "name 'whats_my_class' is not defined",
     "output_type": "error",
     "traceback": [
      "\u001b[1;31m---------------------------------------------------------------------------\u001b[0m",
      "\u001b[1;31mNameError\u001b[0m                                 Traceback (most recent call last)",
      "\u001b[1;32m<ipython-input-12-d2426487d943>\u001b[0m in \u001b[0;36m<module>\u001b[1;34m\u001b[0m\n\u001b[0;32m     13\u001b[0m '''\n\u001b[0;32m     14\u001b[0m \u001b[1;31m# Print out the class of the second div element\u001b[0m\u001b[1;33m\u001b[0m\u001b[1;33m\u001b[0m\u001b[1;33m\u001b[0m\u001b[0m\n\u001b[1;32m---> 15\u001b[1;33m \u001b[0mwhats_my_class\u001b[0m\u001b[1;33m(\u001b[0m \u001b[0mhtml\u001b[0m \u001b[1;33m)\u001b[0m\u001b[1;33m\u001b[0m\u001b[1;33m\u001b[0m\u001b[0m\n\u001b[0m",
      "\u001b[1;31mNameError\u001b[0m: name 'whats_my_class' is not defined"
     ]
    }
   ],
   "source": [
    "# HTML code string\n",
    "html = '''\n",
    "<html>\n",
    "  <body>\n",
    "    <div class=\"class1\" id=\"div1\">\n",
    "      <p class=\"class2\">Visit DataCamp!</p>\n",
    "    </div>\n",
    "    <div class=\"you-are-classy\">\n",
    "      <p class=\"class2\">Keep up the good work!</p>\n",
    "    </div>\n",
    "  </body>\n",
    "</html>\n",
    "'''\n",
    "# Print out the class of the second div element\n",
    "whats_my_class( html )"
   ]
  },
  {
   "cell_type": "code",
   "execution_count": 13,
   "metadata": {},
   "outputs": [
    {
     "name": "stdout",
     "output_type": "stream",
     "text": [
      "<!DOCTYPE html><html lang=\"en\" class=\"text-gray-500 antialiased bg-white js-focus-visible\"><head><meta charSet=\"utf-8\"/><meta name=\"twitter:card\" content=\"summary_large_image\"/><meta name=\"twitter:site\" content=\"@codedamncom\"/><meta name=\"twitter:creator\" content=\"@mehulmpt\"/><meta property=\"fb:app_id\" content=\"261251371039658\"/><meta property=\"og:url\" content=\"https://codedamn.com/assets/images/cover.jpg\"/><meta property=\"og:type\" content=\"website\"/><meta property=\"og:title\" content=\"codedamn\"/><meta property=\"og:description\" content=\"Learn about today&#x27;s job skills - frontend, backend, fullstack, mobile app development and practice online with thousands of developers. codedamn is the best way to learn to code online. Start with HTML, CSS, JavaScript, SQL, Python, Data Science, and more\"/><meta property=\"og:image\" content=\"https://codedamn.com/assets/images/cover.jpg\"/><meta property=\"og:image:alt\" content=\"codedamn cover image\"/><meta property=\"og:image:width\" content=\"1280\"/><meta property=\"og:image:height\" content=\"720\"/><meta property=\"og:site_name\" content=\"codedamn\"/><title>codedamn - Learn coding like it&#x27;s 2026</title><meta name=\"robots\" content=\"index,follow\"/><meta name=\"googlebot\" content=\"index,follow\"/><meta name=\"description\" content=\"Learn about today&#x27;s job skills - frontend, backend, fullstack, mobile app development and practice online with thousands of developers. codedamn is the best way to learn to code online. Start with HTML, CSS, JavaScript, SQL, Python, Data Science, and more\"/><script defer=\"\">(function(i,s,o,g,r,a,m){i['GoogleAnalyticsObject']=r;i[r]=i[r]||function(){\n",
      "(i[r].q=i[r].q||[]).push(arguments)},i[r].l=1*new Date();a=s.createElement(o),\n",
      "m=s.getElementsByTagName(o)[0];a.async=1;a.src=g;m.parentNode.insertBefore(a,m)\n",
      "})(window,document,'script','https://www.google-analytics.com/analytics.js','ga');\n",
      "ga('create', 'UA-120902510-1', 'auto');\n",
      "ga('send', 'pageview');</script><script defer=\"\">!function(f,b,e,v,n,t,s)\n",
      "  {if(f.fbq)return;n=f.fbq=function(){n.callMethod?\n",
      "  n.callMethod.apply(n,arguments):n.queue.push(arguments)};\n",
      "  if(!f._fbq)f._fbq=n;n.push=n;n.loaded=!0;n.version='2.0';\n",
      "  n.queue=[];t=b.createElement(e);t.async=!0;\n",
      "  t.src=v;s=b.getElementsByTagName(e)[0];\n",
      "  s.parentNode.insertBefore(t,s)}(window, document,'script',\n",
      "  'https://connect.facebook.net/en_US/fbevents.js');\n",
      "  fbq('init', '471148730684170');\n",
      "  fbq('track', 'PageView');</script><noscript><img\n",
      "\t\t\t\t\t\t\t\theight=\"1\"\n",
      "\t\t\t\t\t\t\t\twidth=\"1\"\n",
      "\t\t\t\t\t\t\t\tstyle=\"display:none\"\n",
      "\t\t\t\t\t\t\t\tsrc=\"https://www.facebook.com/tr?id=471148730684170&ev=PageView&noscript=1\"\n",
      "\t\t\t\t\t\t\t/></noscript><meta name=\"viewport\" content=\"minimum-scale=1, initial-scale=1, width=device-width, shrink-to-fit=no\"/><meta name=\"application-name\" content=\"codedamn\"/><meta name=\"apple-mobile-web-app-capable\" content=\"yes\"/><meta name=\"apple-mobile-web-app-status-bar-style\" content=\"default\"/><meta name=\"apple-mobile-web-app-title\" content=\"codedamn\"/><meta name=\"format-detection\" content=\"telephone=no\"/><meta name=\"mobile-web-app-capable\" content=\"yes\"/><meta name=\"msapplication-config\" content=\"/assets/images/favicons/browserconfig.xml\"/><meta name=\"msapplication-TileColor\" content=\"#000000\"/><meta name=\"msapplication-tap-highlight\" content=\"no\"/><link rel=\"apple-touch-icon\" sizes=\"180x180\" href=\"/assets/images/favicons/apple-icon-180x180.png\"/><link rel=\"icon\" type=\"image/png\" sizes=\"32x32\" href=\"/assets/images/favicons/favicon-32x32.png\"/><link rel=\"icon\" type=\"image/png\" sizes=\"16x16\" href=\"/assets/images/favicons/favicon-16x16.png\"/><link rel=\"manifest\" href=\"/manifest.json\"/><link rel=\"shortcut icon\" href=\"/assets/images/favicons/favicon-96x96.png\"/><link rel=\"preload\" href=\"/_next/static/css/codedamn-css-files.8dbd3381.css\" as=\"style\"/><link rel=\"stylesheet\" href=\"/_next/static/css/codedamn-css-files.8dbd3381.css\" data-n-g=\"\"/><link rel=\"preload\" href=\"/_next/static/css/pages/index.4fad51e7.css\" as=\"style\"/><link rel=\"stylesheet\" href=\"/_next/static/css/pages/index.4fad51e7.css\" data-n-p=\"\"/><noscript data-n-css=\"true\"></noscript><link rel=\"preload\" href=\"/_next/static/chunks/main-0581ef54591f3828db54.js\" as=\"script\"/><link rel=\"preload\" href=\"/_next/static/chunks/webpack-3ef406eee9db7106b4c2.js\" as=\"script\"/><link rel=\"preload\" href=\"/_next/static/chunks/framework.a4fd7167b233464d44bd.js\" as=\"script\"/><link rel=\"preload\" href=\"/_next/static/chunks/codedamn-css-files.d3f3b9dee2de5d1be764.js\" as=\"script\"/><link rel=\"preload\" href=\"/_next/static/chunks/pages/_app-19f5f921e60cabcd9a2e.js\" as=\"script\"/><link rel=\"preload\" href=\"/_next/static/chunks/c0d53ec4.9785fcfc57c773dba832.js\" as=\"script\"/><link rel=\"preload\" href=\"/_next/static/chunks/pages/index-90fce1aa6da7b3f92de9.js\" as=\"script\"/><style id=\"jss-server-side\">.MuiSvgIcon-root {\n",
      "  fill: currentColor;\n",
      "  width: 1em;\n",
      "  height: 1em;\n",
      "  display: inline-block;\n",
      "  font-size: 1.5rem;\n",
      "  transition: fill 200ms cubic-bezier(0.4, 0, 0.2, 1) 0ms;\n",
      "  flex-shrink: 0;\n",
      "  user-select: none;\n",
      "}\n",
      ".MuiSvgIcon-colorPrimary {\n",
      "  color: #3f51b5;\n",
      "}\n",
      ".MuiSvgIcon-colorSecondary {\n",
      "  color: #f50057;\n",
      "}\n",
      ".MuiSvgIcon-colorAction {\n",
      "  color: rgba(0, 0, 0, 0.54);\n",
      "}\n",
      ".MuiSvgIcon-colorError {\n",
      "  color: #f44336;\n",
      "}\n",
      ".MuiSvgIcon-colorDisabled {\n",
      "  color: rgba(0, 0, 0, 0.26);\n",
      "}\n",
      ".MuiSvgIcon-fontSizeInherit {\n",
      "  font-size: inherit;\n",
      "}\n",
      ".MuiSvgIcon-fontSizeSmall {\n",
      "  font-size: 1.25rem;\n",
      "}\n",
      ".MuiSvgIcon-fontSizeLarge {\n",
      "  font-size: 2.1875rem;\n",
      "}\n",
      "@media print {\n",
      "  .MuiDialog-root {\n",
      "    position: absolute !important;\n",
      "  }\n",
      "}\n",
      "  .MuiDialog-scrollPaper {\n",
      "    display: flex;\n",
      "    align-items: center;\n",
      "    justify-content: center;\n",
      "  }\n",
      "  .MuiDialog-scrollBody {\n",
      "    overflow-x: hidden;\n",
      "    overflow-y: auto;\n",
      "    text-align: center;\n",
      "  }\n",
      "  .MuiDialog-scrollBody:after {\n",
      "    width: 0;\n",
      "    height: 100%;\n",
      "    content: \"\";\n",
      "    display: inline-block;\n",
      "    vertical-align: middle;\n",
      "  }\n",
      "  .MuiDialog-container {\n",
      "    height: 100%;\n",
      "    outline: 0;\n",
      "  }\n",
      "@media print {\n",
      "  .MuiDialog-container {\n",
      "    height: auto;\n",
      "  }\n",
      "}\n",
      "  .MuiDialog-paper {\n",
      "    margin: 32px;\n",
      "    position: relative;\n",
      "    overflow-y: auto;\n",
      "  }\n",
      "@media print {\n",
      "  .MuiDialog-paper {\n",
      "    box-shadow: none;\n",
      "    overflow-y: visible;\n",
      "  }\n",
      "}\n",
      "  .MuiDialog-paperScrollPaper {\n",
      "    display: flex;\n",
      "    max-height: calc(100% - 64px);\n",
      "    flex-direction: column;\n",
      "  }\n",
      "  .MuiDialog-paperScrollBody {\n",
      "    display: inline-block;\n",
      "    text-align: left;\n",
      "    vertical-align: middle;\n",
      "  }\n",
      "  .MuiDialog-paperWidthFalse {\n",
      "    max-width: calc(100% - 64px);\n",
      "  }\n",
      "  .MuiDialog-paperWidthXs {\n",
      "    max-width: 444px;\n",
      "  }\n",
      "@media (max-width:507.95px) {\n",
      "  .MuiDialog-paperWidthXs.MuiDialog-paperScrollBody {\n",
      "    max-width: calc(100% - 64px);\n",
      "  }\n",
      "}\n",
      "  .MuiDialog-paperWidthSm {\n",
      "    max-width: 600px;\n",
      "  }\n",
      "@media (max-width:663.95px) {\n",
      "  .MuiDialog-paperWidthSm.MuiDialog-paperScrollBody {\n",
      "    max-width: calc(100% - 64px);\n",
      "  }\n",
      "}\n",
      "  .MuiDialog-paperWidthMd {\n",
      "    max-width: 960px;\n",
      "  }\n",
      "@media (max-width:1023.95px) {\n",
      "  .MuiDialog-paperWidthMd.MuiDialog-paperScrollBody {\n",
      "    max-width: calc(100% - 64px);\n",
      "  }\n",
      "}\n",
      "  .MuiDialog-paperWidthLg {\n",
      "    max-width: 1280px;\n",
      "  }\n",
      "@media (max-width:1343.95px) {\n",
      "  .MuiDialog-paperWidthLg.MuiDialog-paperScrollBody {\n",
      "    max-width: calc(100% - 64px);\n",
      "  }\n",
      "}\n",
      "  .MuiDialog-paperWidthXl {\n",
      "    max-width: 1920px;\n",
      "  }\n",
      "@media (max-width:1983.95px) {\n",
      "  .MuiDialog-paperWidthXl.MuiDialog-paperScrollBody {\n",
      "    max-width: calc(100% - 64px);\n",
      "  }\n",
      "}\n",
      "  .MuiDialog-paperFullWidth {\n",
      "    width: calc(100% - 64px);\n",
      "  }\n",
      "  .MuiDialog-paperFullScreen {\n",
      "    width: 100%;\n",
      "    height: 100%;\n",
      "    margin: 0;\n",
      "    max-width: 100%;\n",
      "    max-height: none;\n",
      "    border-radius: 0;\n",
      "  }\n",
      "  .MuiDialog-paperFullScreen.MuiDialog-paperScrollBody {\n",
      "    margin: 0;\n",
      "    max-width: 100%;\n",
      "  }\n",
      "  .MuiDrawer-docked {\n",
      "    flex: 0 0 auto;\n",
      "  }\n",
      "  .MuiDrawer-paper {\n",
      "    top: 0;\n",
      "    flex: 1 0 auto;\n",
      "    height: 100%;\n",
      "    display: flex;\n",
      "    outline: 0;\n",
      "    z-index: 1200;\n",
      "    position: fixed;\n",
      "    overflow-y: auto;\n",
      "    flex-direction: column;\n",
      "    -webkit-overflow-scrolling: touch;\n",
      "  }\n",
      "  .MuiDrawer-paperAnchorLeft {\n",
      "    left: 0;\n",
      "    right: auto;\n",
      "  }\n",
      "  .MuiDrawer-paperAnchorRight {\n",
      "    left: auto;\n",
      "    right: 0;\n",
      "  }\n",
      "  .MuiDrawer-paperAnchorTop {\n",
      "    top: 0;\n",
      "    left: 0;\n",
      "    right: 0;\n",
      "    bottom: auto;\n",
      "    height: auto;\n",
      "    max-height: 100%;\n",
      "  }\n",
      "  .MuiDrawer-paperAnchorBottom {\n",
      "    top: auto;\n",
      "    left: 0;\n",
      "    right: 0;\n",
      "    bottom: 0;\n",
      "    height: auto;\n",
      "    max-height: 100%;\n",
      "  }\n",
      "  .MuiDrawer-paperAnchorDockedLeft {\n",
      "    border-right: 1px solid rgba(0, 0, 0, 0.12);\n",
      "  }\n",
      "  .MuiDrawer-paperAnchorDockedTop {\n",
      "    border-bottom: 1px solid rgba(0, 0, 0, 0.12);\n",
      "  }\n",
      "  .MuiDrawer-paperAnchorDockedRight {\n",
      "    border-left: 1px solid rgba(0, 0, 0, 0.12);\n",
      "  }\n",
      "  .MuiDrawer-paperAnchorDockedBottom {\n",
      "    border-top: 1px solid rgba(0, 0, 0, 0.12);\n",
      "  }</style></head><body><div id=\"__next\"><div id=\"root\"><header class=\"space-x-4 w-full flex mx-auto bg-white justify-center items-stretch text-gray-800 fixed top-0\" style=\"height:60px;box-shadow:0 0 5px #cecece;z-index:1500;position:fixed\"><div class=\"justify-between flex lg:justify-center items-center lg:pl-6 lg:pr-0\"><div class=\"block mx-4 flex-shrink-0 lg:hidden cursor-pointer\" data-testid=\"menutoggle\"><svg class=\"MuiSvgIcon-root\" focusable=\"false\" viewBox=\"0 0 24 24\" aria-hidden=\"true\" data-testid=\"menuclose\"><path d=\"M3 18h18v-2H3v2zm0-5h18v-2H3v2zm0-7v2h18V6H3z\"></path></svg></div><a class=\"flex flex-row justify-center items-center\" href=\"/\"><div style=\"max-width:100%;width:31px\"><div style=\"position:relative;padding-bottom:161.29032258064515%\"><img alt=\"codedamn header logo\" data-src=\"/_next/image?url=%2Fassets%2Fimages%2Fred-logo.png&amp;w=320&amp;q=75\" data-srcset=\"/_next/image?url=%2Fassets%2Fimages%2Fred-logo.png&amp;w=320&amp;q=75 320w\" class=\"__lazy\" style=\"visibility:hidden;height:100%;left:0;position:absolute;top:0;width:100%\"/></div></div><div class=\"hidden md:block ml-2 text-lg font-bold text-gray-900\">codedamn</div></a></div><div class=\"relative flex-grow flex-shrink-0 self-center mx-auto text-gray-600 h-10 _3MQpxtHmUsep27XnSvax\"><input type=\"text\" class=\"cursor-pointer border-2 w-full border-gray-300 bg-white h-full px-5 pr-16 rounded-lg text-sm focus:outline-none\" disabled=\"\" value=\"\" autoComplete=\"off\" placeholder=\"Search anything...\"/><button type=\"submit\" class=\"absolute right-3 top-0 bottom-0 flex justify-center items-center\"><svg class=\"text-gray-600 h-4 w-4 fill-current\" version=\"1.1\" id=\"Capa_1\" x=\"0px\" y=\"0px\" viewBox=\"0 0 56.966 56.966\" style=\"enable-background:new 0 0 56.966 56.966\" width=\"512px\" height=\"512px\"><path d=\"M55.146,51.887L41.588,37.786c3.486-4.144,5.396-9.358,5.396-14.786c0-12.682-10.318-23-23-23s-23,10.318-23,23  s10.318,23,23,23c4.761,0,9.298-1.436,13.177-4.162l13.661,14.208c0.571,0.593,1.339,0.92,2.162,0.92  c0.779,0,1.518-0.297,2.079-0.837C56.255,54.982,56.293,53.08,55.146,51.887z M23.984,6c9.374,0,17,7.626,17,17s-7.626,17-17,17  s-17-7.626-17-17S14.61,6,23.984,6z\"></path></svg></button></div><nav class=\"hidden lg:flex flex-row items-stretch flex-grow\"><div class=\"flex flex-grow flex-shrink-0 mr-4\"><a class=\" flex-shrink-0 text-gray-900 px-2 flex justify-center items-center hover:text-gray-800 hover:bg-gray-100\" href=\"/learning-paths\">Learning Paths</a><a class=\" flex-shrink-0 text-gray-900 px-2 flex justify-center items-center hover:text-gray-800 hover:bg-gray-100\" href=\"/classrooms\">Projects</a><a class=\" flex-shrink-0 text-gray-900 px-2 flex justify-center items-center hover:text-gray-800 hover:bg-gray-100\" href=\"/courses\">Courses</a><a class=\" flex-shrink-0 text-gray-900 px-2 flex justify-center items-center hover:text-gray-800 hover:bg-gray-100\" href=\"/pricing\">Pricing</a><a class=\" flex-shrink-0 text-gray-900 px-2 flex justify-center items-center hover:text-gray-800 hover:bg-gray-100\" href=\"/contact\">Contact Us</a><div class=\"flex-grow\"></div><a class=\"flex-shrink-0 text-gray-900 px-2 flex justify-center items-center round\" href=\"/dashboard\"><span class=\"bg-gray-900 rounded-full text-white px-6 py-2\">Dashboard</span></a><a class=\"flex-shrink-0 text-gray-900 px-2 flex justify-center items-center hover:text-gray-800 hover:bg-gray-100\" href=\"/settings\">Settings</a><a class=\"flex-shrink-0 text-gray-900 px-2 flex justify-center items-center hover:text-gray-800 hover:bg-gray-100\" href=\"/logout\">Logout</a></div></nav><div class=\"block lg:hidden\"></div></header><div style=\"height:60px;width:100%\"></div><div class=\"asyncComponent\"><div class=\"max-w-8xl mx-auto p-10\"><h1 data-testid=\"main-title\" class=\"font-extrabold text-4xl sm:text-6xl lg:text-7xl text-center tracking-tight text-gray-900 mt-3 lg:mt-10\">Learn web development with mentorship, hands-on practice, and courses.</h1></div><p class=\"max-w-2xl w-full mx-auto text-center lg:text-2xl sm:text-xl px-10\">codedamn helps you learn, implement, and work real-world programming industry skills.</p><div class=\"mx-auto mt-10 space-y-2 lg:flex lg:flex-row lg:space-x-5 lg:space-y-0\"><a class=\"flex w-full sm:w-auto flex-none bg-gray-900 hover:bg-gray-700 text-white justify-center text-center text-base md:text-xl lg:text-2xl leading-6 font-semibold py-4 md:px-16 border border-transparent rounded-xl focus:ring-2 focus:ring-offset-2 focus:ring-offset-white focus:ring-gray-900 focus:outline-none transition-colors duration-200\" data-testid=\"mobile-startnow\" href=\"/learning-paths\">Start Learning Free</a><a class=\"flex w-full sm:w-auto flex-none bg-transparent border-gray-600 hover:bg-gray-900 hover:text-white text-gray-800 justify-center text-center text-base md:text-xl lg:text-2xl leading-6 font-semibold py-4 px-16 border border-transparent rounded-xl focus:ring-2 focus:ring-offset-2 focus:ring-offset-white focus:ring-gray-900 focus:outline-none transition-colors duration-200\" data-testid=\"mobile-startnow\" href=\"/pricing\">Get codedamn 1337</a></div><section class=\"mt-10 lg:mt-20 text-center bg-gray-900 py-10\"><h2 class=\"text-white text-3xl text-center sm:text-5xl lg:text-6xl leading-none font-extrabold tracking-tight mb-8\">The Perfect Practice Environment</h2><p class=\"text-lg text-white\">A million platforms out there to practice algorithms</p><p class=\"text-lg text-white\">But <b>zero</b> for practicing real-world coding</p><p class=\"text-lg text-white mb-10\">How do you practice databases, linking frontends and backends - real-world coding?</p><div class=\"bg-gray-600 border-8 rounded-md relative mx-10 flex justify-center items-center\" style=\"min-height:80vh;border-color:#3b3b3b;box-shadow:0 0 20px rgba(0, 0, 0, 0.3)\"><div><div><img alt=\"codedamn playground preview\" data-src=\"/_next/image?url=%2Fassets%2Fimages%2Fbackgrounds%2Fhomepage-preview.png&amp;w=1200&amp;q=80\" data-srcset=\"/_next/image?url=%2Fassets%2Fimages%2Fbackgrounds%2Fhomepage-preview.png&amp;w=320&amp;q=80 320w, /_next/image?url=%2Fassets%2Fimages%2Fbackgrounds%2Fhomepage-preview.png&amp;w=420&amp;q=80 420w, /_next/image?url=%2Fassets%2Fimages%2Fbackgrounds%2Fhomepage-preview.png&amp;w=768&amp;q=80 768w, /_next/image?url=%2Fassets%2Fimages%2Fbackgrounds%2Fhomepage-preview.png&amp;w=1024&amp;q=80 1024w, /_next/image?url=%2Fassets%2Fimages%2Fbackgrounds%2Fhomepage-preview.png&amp;w=1200&amp;q=80 1200w\" class=\"absolute top-0 left-0 w-full h-full z-0 object-right object-cover pointer-events-none __lazy\"/></div></div><div class=\"z-20\"><h2 class=\"text-2xl text-white font-extrabold\"><svg class=\"MuiSvgIcon-root\" focusable=\"false\" viewBox=\"0 0 24 24\" aria-hidden=\"true\"><path d=\"M20 18c1.1 0 1.99-.9 1.99-2L22 6c0-1.1-.9-2-2-2H4c-1.1 0-2 .9-2 2v10c0 1.1.9 2 2 2H0v2h24v-2h-4zM4 6h16v10H4V6z\"></path></svg> Browse from a laptop/desktop to experience demo</h2></div></div></section><section class=\"mt-10 lg:mt-20 flex text-center max-w-screen-lg xl:max-w-screen-xl mx-auto\"><div class=\"px-4 sm:px-6 md:px-8\"><h2 class=\"text-3xl sm:text-5xl lg:text-6xl leading-none font-extrabold text-gray-900 tracking-tight mb-8\">&quot;Video courses&quot; don&#x27;t work alone.</h2><figure><blockquote><p class=\"max-w-4xl text-lg sm:text-2xl font-medium sm:leading-10 space-y-6 mx-auto mb-6\">Being a full-stack web developer for<!-- --> <!-- -->6<!-- --> years and a self-learner since 2012, courses alone is not the answer. Discipline is. And practice. And blogs. And discussions. And projects. And videos too, but not alone. Thus, we built codedamn - a place to learn with top video courses and hands-on practice inside browser, on real servers, in real environment.</p></blockquote><figcaption class=\"sm:text-xl font-medium flex flex-col items-center\"><div class=\"p-1 border-2 border-light-blue-400 rounded-full mb-3\"><div style=\"max-width:100%;width:50px\"><div style=\"position:relative;padding-bottom:100%\"><img data-src=\"/_next/image?url=%2Fassets%2Fimages%2Fcreators%2Fmehul.jpeg&amp;w=320&amp;q=75\" data-srcset=\"/_next/image?url=%2Fassets%2Fimages%2Fcreators%2Fmehul.jpeg&amp;w=320&amp;q=75 320w\" class=\"w-10 h-10 rounded-full bg-light-blue-100 __lazy\" style=\"visibility:hidden;height:100%;left:0;position:absolute;top:0;width:100%\"/></div></div></div><div class=\"text-gray-900\">Mehul Mohan</div><div class=\"text-gray-600\">Founder &amp; mentor - codedamn</div></figcaption></figure></div></section><div class=\"mt-10 lg:mt-20 py-10 space-y-10 bg-gray-900 text-white\"><section class=\"max-w-screen-lg xl:max-w-screen-xl mx-auto\"><div class=\"px-4 sm:px-6 md:px-8 mb-10 sm:mb-16 md:mb-20\"><div class=\"w-12 h-12 rounded-xl bg-gradient-to-br flex items-center justify-center from-purple-400\t to-pink-600 mb-8\"><svg width=\"32\" height=\"32\" viewBox=\"0 0 32 32\" fill=\"none\"><g clip-path=\"url(#constraint-based_svg__clip0)\"><g filter=\"url(#constraint-based_svg__filter0_dd)\"><rect x=\"18\" y=\"18\" width=\"12\" height=\"12\" rx=\"2\" fill=\"#F3E8FF\"></rect></g><path fill-rule=\"evenodd\" clip-rule=\"evenodd\" d=\"M24 16a7 7 0 100-14 7 7 0 000 14zm0-4a3 3 0 100-6 3 3 0 000 6z\" fill=\"#D8B4FE\"></path><path d=\"M15.423 23a2 2 0 010 2l-2.346 4.062a2 2 0 01-1.732 1h-4.69a2 2 0 01-1.732-1L2.577 25a2 2 0 010-2l2.346-4.062a2 2 0 011.732-1h4.69a2 2 0 011.732 1L15.423 23z\" fill=\"#D8B4FE\"></path><g filter=\"url(#constraint-based_svg__filter1_dd)\"><path d=\"M7.268 3c.77-1.333 2.694-1.333 3.464 0l5.196 9c.77 1.333-.192 3-1.732 3H3.804c-1.54 0-2.502-1.667-1.732-3l5.196-9z\" fill=\"#F3E8FF\"></path></g></g><defs><filter id=\"constraint-based_svg__filter0_dd\" x=\"15\" y=\"16\" width=\"18\" height=\"18\" filterUnits=\"userSpaceOnUse\" color-interpolation-filters=\"sRGB\"><feFlood flood-opacity=\"0\" result=\"BackgroundImageFix\"></feFlood><feColorMatrix in=\"SourceAlpha\" values=\"0 0 0 0 0 0 0 0 0 0 0 0 0 0 0 0 0 0 127 0\"></feColorMatrix><feOffset dy=\"1\"></feOffset><feGaussianBlur stdDeviation=\"1\"></feGaussianBlur><feColorMatrix values=\"0 0 0 0 0 0 0 0 0 0 0 0 0 0 0 0 0 0 0.06 0\"></feColorMatrix><feBlend in2=\"BackgroundImageFix\" result=\"effect1_dropShadow\"></feBlend><feColorMatrix in=\"SourceAlpha\" values=\"0 0 0 0 0 0 0 0 0 0 0 0 0 0 0 0 0 0 127 0\"></feColorMatrix><feOffset dy=\"1\"></feOffset><feGaussianBlur stdDeviation=\"1.5\"></feGaussianBlur><feColorMatrix values=\"0 0 0 0 0 0 0 0 0 0 0 0 0 0 0 0 0 0 0.1 0\"></feColorMatrix><feBlend in2=\"effect1_dropShadow\" result=\"effect2_dropShadow\"></feBlend><feBlend in=\"SourceGraphic\" in2=\"effect2_dropShadow\" result=\"shape\"></feBlend></filter><filter id=\"constraint-based_svg__filter1_dd\" x=\"-1.199\" y=\"0\" width=\"20.398\" height=\"19\" filterUnits=\"userSpaceOnUse\" color-interpolation-filters=\"sRGB\"><feFlood flood-opacity=\"0\" result=\"BackgroundImageFix\"></feFlood><feColorMatrix in=\"SourceAlpha\" values=\"0 0 0 0 0 0 0 0 0 0 0 0 0 0 0 0 0 0 127 0\"></feColorMatrix><feOffset dy=\"1\"></feOffset><feGaussianBlur stdDeviation=\"1\"></feGaussianBlur><feColorMatrix values=\"0 0 0 0 0 0 0 0 0 0 0 0 0 0 0 0 0 0 0.06 0\"></feColorMatrix><feBlend in2=\"BackgroundImageFix\" result=\"effect1_dropShadow\"></feBlend><feColorMatrix in=\"SourceAlpha\" values=\"0 0 0 0 0 0 0 0 0 0 0 0 0 0 0 0 0 0 127 0\"></feColorMatrix><feOffset dy=\"1\"></feOffset><feGaussianBlur stdDeviation=\"1.5\"></feGaussianBlur><feColorMatrix values=\"0 0 0 0 0 0 0 0 0 0 0 0 0 0 0 0 0 0 0.1 0\"></feColorMatrix><feBlend in2=\"effect1_dropShadow\" result=\"effect2_dropShadow\"></feBlend><feBlend in=\"SourceGraphic\" in2=\"effect2_dropShadow\" result=\"shape\"></feBlend></filter><clipPath id=\"constraint-based_svg__clip0\"><path fill=\"#fff\" d=\"M0 0h32v32H0z\"></path></clipPath></defs></svg></div><h2 class=\"sm:text-lg sm:leading-snug font-semibold tracking-wide uppercase text-purple-200 mb-3\">Learning Path</h2><p class=\"text-3xl sm:text-5xl lg:text-6xl leading-none font-extrabold text-white tracking-tight mb-8\">Become Frontend Web Developer</p><p class=\"max-w-4xl text-lg sm:text-2xl font-medium sm:leading-10 space-y-6 mb-6\">Our frontend web developer learning path covers everything you need to know, including industry-specific questions/hands-on practice exercises along with HD video courses from top creators.<br/>This comes with mentorship support if you&#x27;re signed up for 1337 membership.</p><a class=\"inline-flex text-lg sm:text-2xl font-medium transition-colors duration-200 focus:ring-2 focus:ring-offset-2 focus:ring-current focus:outline-none rounded-md text-purple-100 hover:text-purple-400\" href=\"/learning-paths/frontend\">Learn more</a></div></section><div class=\"flex overflow-hidden\"><ul class=\"flex-wrap space-y-3 lg:flex-nowrap lg:space-y-0 flex items-center justify-center w-full py-8\"><li class=\"px-3 md:px-4 flex-none\"><figure class=\"shadow-lg rounded-xl flex-none w-80 md:w-xl\"><blockquote class=\"rounded-t-xl bg-gray-800 px-6 py-8 md:p-10 text-lg md:text-xl leading-8 md:leading-8 font-semibold text-gray-100\"><div class=\"flex flex-row items-center space-x-2\"><div class=\"w-12 h-12 rounded-xl bg-gradient-to-br flex items-center justify-center from-fuchsia-500 to-purple-600\"><svg width=\"32\" height=\"32\" viewBox=\"0 0 32 32\" fill=\"none\"><g clip-path=\"url(#customization_svg__clip0)\"><g filter=\"url(#customization_svg__filter0_dd)\"><rect x=\"2\" y=\"2\" width=\"28\" height=\"28\" rx=\"4\" fill=\"#FDA4AF\"></rect></g><rect x=\"20\" y=\"8\" width=\"4\" height=\"16\" rx=\"2\" fill=\"#FB7185\"></rect><rect x=\"8\" y=\"8\" width=\"4\" height=\"16\" rx=\"2\" fill=\"#FB7185\"></rect><g filter=\"url(#customization_svg__filter1_dd)\"><circle cx=\"10\" cy=\"22\" r=\"4\" fill=\"#FFE4E6\"></circle></g><g filter=\"url(#customization_svg__filter2_dd)\"><circle cx=\"22\" cy=\"10\" r=\"4\" fill=\"#FFE4E6\"></circle></g></g><defs><filter id=\"customization_svg__filter0_dd\" x=\"-1\" y=\"0\" width=\"34\" height=\"34\" filterUnits=\"userSpaceOnUse\" color-interpolation-filters=\"sRGB\"><feFlood flood-opacity=\"0\" result=\"BackgroundImageFix\"></feFlood><feColorMatrix in=\"SourceAlpha\" values=\"0 0 0 0 0 0 0 0 0 0 0 0 0 0 0 0 0 0 127 0\"></feColorMatrix><feOffset dy=\"1\"></feOffset><feGaussianBlur stdDeviation=\"1\"></feGaussianBlur><feColorMatrix values=\"0 0 0 0 0 0 0 0 0 0 0 0 0 0 0 0 0 0 0.06 0\"></feColorMatrix><feBlend in2=\"BackgroundImageFix\" result=\"effect1_dropShadow\"></feBlend><feColorMatrix in=\"SourceAlpha\" values=\"0 0 0 0 0 0 0 0 0 0 0 0 0 0 0 0 0 0 127 0\"></feColorMatrix><feOffset dy=\"1\"></feOffset><feGaussianBlur stdDeviation=\"1.5\"></feGaussianBlur><feColorMatrix values=\"0 0 0 0 0 0 0 0 0 0 0 0 0 0 0 0 0 0 0.1 0\"></feColorMatrix><feBlend in2=\"effect1_dropShadow\" result=\"effect2_dropShadow\"></feBlend><feBlend in=\"SourceGraphic\" in2=\"effect2_dropShadow\" result=\"shape\"></feBlend></filter><filter id=\"customization_svg__filter1_dd\" x=\"3\" y=\"16\" width=\"14\" height=\"14\" filterUnits=\"userSpaceOnUse\" color-interpolation-filters=\"sRGB\"><feFlood flood-opacity=\"0\" result=\"BackgroundImageFix\"></feFlood><feColorMatrix in=\"SourceAlpha\" values=\"0 0 0 0 0 0 0 0 0 0 0 0 0 0 0 0 0 0 127 0\"></feColorMatrix><feOffset dy=\"1\"></feOffset><feGaussianBlur stdDeviation=\"1\"></feGaussianBlur><feColorMatrix values=\"0 0 0 0 0 0 0 0 0 0 0 0 0 0 0 0 0 0 0.06 0\"></feColorMatrix><feBlend in2=\"BackgroundImageFix\" result=\"effect1_dropShadow\"></feBlend><feColorMatrix in=\"SourceAlpha\" values=\"0 0 0 0 0 0 0 0 0 0 0 0 0 0 0 0 0 0 127 0\"></feColorMatrix><feOffset dy=\"1\"></feOffset><feGaussianBlur stdDeviation=\"1.5\"></feGaussianBlur><feColorMatrix values=\"0 0 0 0 0 0 0 0 0 0 0 0 0 0 0 0 0 0 0.1 0\"></feColorMatrix><feBlend in2=\"effect1_dropShadow\" result=\"effect2_dropShadow\"></feBlend><feBlend in=\"SourceGraphic\" in2=\"effect2_dropShadow\" result=\"shape\"></feBlend></filter><filter id=\"customization_svg__filter2_dd\" x=\"15\" y=\"4\" width=\"14\" height=\"14\" filterUnits=\"userSpaceOnUse\" color-interpolation-filters=\"sRGB\"><feFlood flood-opacity=\"0\" result=\"BackgroundImageFix\"></feFlood><feColorMatrix in=\"SourceAlpha\" values=\"0 0 0 0 0 0 0 0 0 0 0 0 0 0 0 0 0 0 127 0\"></feColorMatrix><feOffset dy=\"1\"></feOffset><feGaussianBlur stdDeviation=\"1\"></feGaussianBlur><feColorMatrix values=\"0 0 0 0 0 0 0 0 0 0 0 0 0 0 0 0 0 0 0.06 0\"></feColorMatrix><feBlend in2=\"BackgroundImageFix\" result=\"effect1_dropShadow\"></feBlend><feColorMatrix in=\"SourceAlpha\" values=\"0 0 0 0 0 0 0 0 0 0 0 0 0 0 0 0 0 0 127 0\"></feColorMatrix><feOffset dy=\"1\"></feOffset><feGaussianBlur stdDeviation=\"1.5\"></feGaussianBlur><feColorMatrix values=\"0 0 0 0 0 0 0 0 0 0 0 0 0 0 0 0 0 0 0.1 0\"></feColorMatrix><feBlend in2=\"effect1_dropShadow\" result=\"effect2_dropShadow\"></feBlend><feBlend in=\"SourceGraphic\" in2=\"effect2_dropShadow\" result=\"shape\"></feBlend></filter><clipPath id=\"customization_svg__clip0\"><path fill=\"#fff\" d=\"M0 0h32v32H0z\"></path></clipPath></defs></svg></div><p>Project</p></div><h3 class=\"mt-8\"><a class=\"text-gray-100 hover:text-gray-200\" href=\"/practice/react-birthday-reminder\">React Birthday Reminder Project</a></h3></blockquote><figcaption class=\"flex items-center space-x-4 p-6 md:px-10 md:py-6 bg-gradient-to-br rounded-b-xl leading-6 font-semibold text-white from-fuchsia-500 to-purple-600\"><div class=\"flex-none w-14 h-14 bg-white rounded-full flex items-center justify-center\"><div style=\"max-width:100%;width:48px\"><div style=\"position:relative;padding-bottom:100%\"><img data-src=\"/_next/image?url=%2Fassets%2Fimages%2Fcreators%2Fmehul.jpeg&amp;w=320&amp;q=75\" data-srcset=\"/_next/image?url=%2Fassets%2Fimages%2Fcreators%2Fmehul.jpeg&amp;w=320&amp;q=75 320w\" class=\"w-12 h-12 rounded-full bg-cyan-100 __lazy\" style=\"visibility:hidden;height:100%;left:0;position:absolute;top:0;width:100%\"/></div></div></div><div class=\"flex-auto\">Mehul Mohan<br/><span class=\"text-green-100\">Full-stack developer</span></div></figcaption></figure></li><li class=\"px-3 md:px-4 flex-none\"><figure class=\"shadow-lg rounded-xl flex-none w-80 md:w-xl\"><blockquote class=\"rounded-t-xl bg-gray-800 px-6 py-8 md:p-10 text-lg md:text-xl leading-8 md:leading-8 font-semibold text-gray-100\"><div class=\"flex flex-row items-center space-x-2\"><div class=\"w-12 h-12 rounded-xl bg-gradient-to-br flex items-center justify-center from-orange-400 to-pink-600\"><svg width=\"32\" height=\"32\" viewBox=\"0 0 32 32\" fill=\"none\"><g clip-path=\"url(#editor-tools_svg__clip0)\"><g filter=\"url(#editor-tools_svg__filter0_dd)\"><path fill-rule=\"evenodd\" clip-rule=\"evenodd\" d=\"M9.414 9.586a2 2 0 010 2.828L5.828 16l3.586 3.586a2 2 0 11-2.828 2.828l-5-5a2 2 0 010-2.828l5-5a2 2 0 012.828 0z\" fill=\"white\"></path></g><g filter=\"url(#editor-tools_svg__filter1_dd)\"><path fill-rule=\"evenodd\" clip-rule=\"evenodd\" d=\"M22.586 9.586a2 2 0 012.828 0l5 5a2 2 0 010 2.828l-5 5a2 2 0 11-2.828-2.828L26.172 16l-3.586-3.586a2 2 0 010-2.828z\" fill=\"white\"></path></g><g filter=\"url(#editor-tools_svg__filter2_dd)\"><path fill-rule=\"evenodd\" clip-rule=\"evenodd\" d=\"M19.485 2.06a2 2 0 011.456 2.426l-6 24a2 2 0 01-3.88-.97l6-24a2 2 0 012.424-1.456z\" fill=\"white\"></path></g></g><defs><filter id=\"editor-tools_svg__filter0_dd\" x=\"-2\" y=\"7\" width=\"15\" height=\"20\" filterUnits=\"userSpaceOnUse\" color-interpolation-filters=\"sRGB\"><feFlood flood-opacity=\"0\" result=\"BackgroundImageFix\"></feFlood><feColorMatrix in=\"SourceAlpha\" values=\"0 0 0 0 0 0 0 0 0 0 0 0 0 0 0 0 0 0 127 0\"></feColorMatrix><feOffset dy=\"1\"></feOffset><feGaussianBlur stdDeviation=\"1\"></feGaussianBlur><feColorMatrix values=\"0 0 0 0 0 0 0 0 0 0 0 0 0 0 0 0 0 0 0.06 0\"></feColorMatrix><feBlend in2=\"BackgroundImageFix\" result=\"effect1_dropShadow\"></feBlend><feColorMatrix in=\"SourceAlpha\" values=\"0 0 0 0 0 0 0 0 0 0 0 0 0 0 0 0 0 0 127 0\"></feColorMatrix><feOffset dy=\"1\"></feOffset><feGaussianBlur stdDeviation=\"1.5\"></feGaussianBlur><feColorMatrix values=\"0 0 0 0 0 0 0 0 0 0 0 0 0 0 0 0 0 0 0.1 0\"></feColorMatrix><feBlend in2=\"effect1_dropShadow\" result=\"effect2_dropShadow\"></feBlend><feBlend in=\"SourceGraphic\" in2=\"effect2_dropShadow\" result=\"shape\"></feBlend></filter><filter id=\"editor-tools_svg__filter1_dd\" x=\"19\" y=\"7\" width=\"15\" height=\"20\" filterUnits=\"userSpaceOnUse\" color-interpolation-filters=\"sRGB\"><feFlood flood-opacity=\"0\" result=\"BackgroundImageFix\"></feFlood><feColorMatrix in=\"SourceAlpha\" values=\"0 0 0 0 0 0 0 0 0 0 0 0 0 0 0 0 0 0 127 0\"></feColorMatrix><feOffset dy=\"1\"></feOffset><feGaussianBlur stdDeviation=\"1\"></feGaussianBlur><feColorMatrix values=\"0 0 0 0 0 0 0 0 0 0 0 0 0 0 0 0 0 0 0.06 0\"></feColorMatrix><feBlend in2=\"BackgroundImageFix\" result=\"effect1_dropShadow\"></feBlend><feColorMatrix in=\"SourceAlpha\" values=\"0 0 0 0 0 0 0 0 0 0 0 0 0 0 0 0 0 0 127 0\"></feColorMatrix><feOffset dy=\"1\"></feOffset><feGaussianBlur stdDeviation=\"1.5\"></feGaussianBlur><feColorMatrix values=\"0 0 0 0 0 0 0 0 0 0 0 0 0 0 0 0 0 0 0.1 0\"></feColorMatrix><feBlend in2=\"effect1_dropShadow\" result=\"effect2_dropShadow\"></feBlend><feBlend in=\"SourceGraphic\" in2=\"effect2_dropShadow\" result=\"shape\"></feBlend></filter><filter id=\"editor-tools_svg__filter2_dd\" x=\"8\" y=\"0\" width=\"16.001\" height=\"34.001\" filterUnits=\"userSpaceOnUse\" color-interpolation-filters=\"sRGB\"><feFlood flood-opacity=\"0\" result=\"BackgroundImageFix\"></feFlood><feColorMatrix in=\"SourceAlpha\" values=\"0 0 0 0 0 0 0 0 0 0 0 0 0 0 0 0 0 0 127 0\"></feColorMatrix><feOffset dy=\"1\"></feOffset><feGaussianBlur stdDeviation=\"1\"></feGaussianBlur><feColorMatrix values=\"0 0 0 0 0 0 0 0 0 0 0 0 0 0 0 0 0 0 0.06 0\"></feColorMatrix><feBlend in2=\"BackgroundImageFix\" result=\"effect1_dropShadow\"></feBlend><feColorMatrix in=\"SourceAlpha\" values=\"0 0 0 0 0 0 0 0 0 0 0 0 0 0 0 0 0 0 127 0\"></feColorMatrix><feOffset dy=\"1\"></feOffset><feGaussianBlur stdDeviation=\"1.5\"></feGaussianBlur><feColorMatrix values=\"0 0 0 0 0 0 0 0 0 0 0 0 0 0 0 0 0 0 0.1 0\"></feColorMatrix><feBlend in2=\"effect1_dropShadow\" result=\"effect2_dropShadow\"></feBlend><feBlend in=\"SourceGraphic\" in2=\"effect2_dropShadow\" result=\"shape\"></feBlend></filter><clipPath id=\"editor-tools_svg__clip0\"><path fill=\"#fff\" d=\"M0 0h32v32H0z\"></path></clipPath></defs></svg></div><p>Course</p></div><h3 class=\"mt-8\"><a class=\"text-gray-100 hover:text-gray-200\" href=\"/learn/reactjs-projects\">Learn ReactJS by Building 6 Projects</a></h3></blockquote><figcaption class=\"flex items-center space-x-4 p-6 md:px-10 md:py-6 bg-gradient-to-br rounded-b-xl leading-6 font-semibold text-white from-orange-400 to-pink-600\"><div class=\"flex-none w-14 h-14 bg-white rounded-full flex items-center justify-center\"><div style=\"max-width:100%;width:48px\"><div style=\"position:relative;padding-bottom:100%\"><img data-src=\"/_next/image?url=https%3A%2F%2Fcreator-assets.codedamn.com%2Fc1a0050f42e365e089ac572bc923a6a05969c66f.png&amp;w=320&amp;q=75\" data-srcset=\"/_next/image?url=https%3A%2F%2Fcreator-assets.codedamn.com%2Fc1a0050f42e365e089ac572bc923a6a05969c66f.png&amp;w=320&amp;q=75 320w\" class=\"w-12 h-12 rounded-full bg-cyan-100 __lazy\" style=\"visibility:hidden;height:100%;left:0;position:absolute;top:0;width:100%\"/></div></div></div><div class=\"flex-auto\">Pedro Machado<br/><span class=\"text-green-100\">React developer</span></div></figcaption></figure></li><li class=\"px-3 md:px-4 flex-none\"><figure class=\"shadow-lg rounded-xl flex-none w-80 md:w-xl\"><blockquote class=\"rounded-t-xl bg-gray-800 px-6 py-8 md:p-10 text-lg md:text-xl leading-8 md:leading-8 font-semibold text-gray-100\"><div class=\"flex flex-row items-center space-x-2\"><div class=\"w-12 h-12 rounded-xl bg-gradient-to-br flex items-center justify-center from-purple-500 to-indigo-500\"><svg width=\"32\" height=\"32\" viewBox=\"0 0 32 32\" fill=\"none\"><g clip-path=\"url(#editor-tools_svg__clip0)\"><g filter=\"url(#editor-tools_svg__filter0_dd)\"><path fill-rule=\"evenodd\" clip-rule=\"evenodd\" d=\"M9.414 9.586a2 2 0 010 2.828L5.828 16l3.586 3.586a2 2 0 11-2.828 2.828l-5-5a2 2 0 010-2.828l5-5a2 2 0 012.828 0z\" fill=\"white\"></path></g><g filter=\"url(#editor-tools_svg__filter1_dd)\"><path fill-rule=\"evenodd\" clip-rule=\"evenodd\" d=\"M22.586 9.586a2 2 0 012.828 0l5 5a2 2 0 010 2.828l-5 5a2 2 0 11-2.828-2.828L26.172 16l-3.586-3.586a2 2 0 010-2.828z\" fill=\"white\"></path></g><g filter=\"url(#editor-tools_svg__filter2_dd)\"><path fill-rule=\"evenodd\" clip-rule=\"evenodd\" d=\"M19.485 2.06a2 2 0 011.456 2.426l-6 24a2 2 0 01-3.88-.97l6-24a2 2 0 012.424-1.456z\" fill=\"white\"></path></g></g><defs><filter id=\"editor-tools_svg__filter0_dd\" x=\"-2\" y=\"7\" width=\"15\" height=\"20\" filterUnits=\"userSpaceOnUse\" color-interpolation-filters=\"sRGB\"><feFlood flood-opacity=\"0\" result=\"BackgroundImageFix\"></feFlood><feColorMatrix in=\"SourceAlpha\" values=\"0 0 0 0 0 0 0 0 0 0 0 0 0 0 0 0 0 0 127 0\"></feColorMatrix><feOffset dy=\"1\"></feOffset><feGaussianBlur stdDeviation=\"1\"></feGaussianBlur><feColorMatrix values=\"0 0 0 0 0 0 0 0 0 0 0 0 0 0 0 0 0 0 0.06 0\"></feColorMatrix><feBlend in2=\"BackgroundImageFix\" result=\"effect1_dropShadow\"></feBlend><feColorMatrix in=\"SourceAlpha\" values=\"0 0 0 0 0 0 0 0 0 0 0 0 0 0 0 0 0 0 127 0\"></feColorMatrix><feOffset dy=\"1\"></feOffset><feGaussianBlur stdDeviation=\"1.5\"></feGaussianBlur><feColorMatrix values=\"0 0 0 0 0 0 0 0 0 0 0 0 0 0 0 0 0 0 0.1 0\"></feColorMatrix><feBlend in2=\"effect1_dropShadow\" result=\"effect2_dropShadow\"></feBlend><feBlend in=\"SourceGraphic\" in2=\"effect2_dropShadow\" result=\"shape\"></feBlend></filter><filter id=\"editor-tools_svg__filter1_dd\" x=\"19\" y=\"7\" width=\"15\" height=\"20\" filterUnits=\"userSpaceOnUse\" color-interpolation-filters=\"sRGB\"><feFlood flood-opacity=\"0\" result=\"BackgroundImageFix\"></feFlood><feColorMatrix in=\"SourceAlpha\" values=\"0 0 0 0 0 0 0 0 0 0 0 0 0 0 0 0 0 0 127 0\"></feColorMatrix><feOffset dy=\"1\"></feOffset><feGaussianBlur stdDeviation=\"1\"></feGaussianBlur><feColorMatrix values=\"0 0 0 0 0 0 0 0 0 0 0 0 0 0 0 0 0 0 0.06 0\"></feColorMatrix><feBlend in2=\"BackgroundImageFix\" result=\"effect1_dropShadow\"></feBlend><feColorMatrix in=\"SourceAlpha\" values=\"0 0 0 0 0 0 0 0 0 0 0 0 0 0 0 0 0 0 127 0\"></feColorMatrix><feOffset dy=\"1\"></feOffset><feGaussianBlur stdDeviation=\"1.5\"></feGaussianBlur><feColorMatrix values=\"0 0 0 0 0 0 0 0 0 0 0 0 0 0 0 0 0 0 0.1 0\"></feColorMatrix><feBlend in2=\"effect1_dropShadow\" result=\"effect2_dropShadow\"></feBlend><feBlend in=\"SourceGraphic\" in2=\"effect2_dropShadow\" result=\"shape\"></feBlend></filter><filter id=\"editor-tools_svg__filter2_dd\" x=\"8\" y=\"0\" width=\"16.001\" height=\"34.001\" filterUnits=\"userSpaceOnUse\" color-interpolation-filters=\"sRGB\"><feFlood flood-opacity=\"0\" result=\"BackgroundImageFix\"></feFlood><feColorMatrix in=\"SourceAlpha\" values=\"0 0 0 0 0 0 0 0 0 0 0 0 0 0 0 0 0 0 127 0\"></feColorMatrix><feOffset dy=\"1\"></feOffset><feGaussianBlur stdDeviation=\"1\"></feGaussianBlur><feColorMatrix values=\"0 0 0 0 0 0 0 0 0 0 0 0 0 0 0 0 0 0 0.06 0\"></feColorMatrix><feBlend in2=\"BackgroundImageFix\" result=\"effect1_dropShadow\"></feBlend><feColorMatrix in=\"SourceAlpha\" values=\"0 0 0 0 0 0 0 0 0 0 0 0 0 0 0 0 0 0 127 0\"></feColorMatrix><feOffset dy=\"1\"></feOffset><feGaussianBlur stdDeviation=\"1.5\"></feGaussianBlur><feColorMatrix values=\"0 0 0 0 0 0 0 0 0 0 0 0 0 0 0 0 0 0 0.1 0\"></feColorMatrix><feBlend in2=\"effect1_dropShadow\" result=\"effect2_dropShadow\"></feBlend><feBlend in=\"SourceGraphic\" in2=\"effect2_dropShadow\" result=\"shape\"></feBlend></filter><clipPath id=\"editor-tools_svg__clip0\"><path fill=\"#fff\" d=\"M0 0h32v32H0z\"></path></clipPath></defs></svg></div><p>Course</p></div><h3 class=\"mt-8\"><a class=\"text-gray-100 hover:text-gray-200\" href=\"/learn/html-css\">Advanced HTML5/CSS3 Concepts</a></h3></blockquote><figcaption class=\"flex items-center space-x-4 p-6 md:px-10 md:py-6 bg-gradient-to-br rounded-b-xl leading-6 font-semibold text-white from-purple-500 to-indigo-500\"><div class=\"flex-none w-14 h-14 bg-white rounded-full flex items-center justify-center\"><div style=\"max-width:100%;width:48px\"><div style=\"position:relative;padding-bottom:100%\"><img data-src=\"/_next/image?url=%2Fassets%2Fimages%2Fcreators%2Fmehul.jpeg&amp;w=320&amp;q=75\" data-srcset=\"/_next/image?url=%2Fassets%2Fimages%2Fcreators%2Fmehul.jpeg&amp;w=320&amp;q=75 320w\" class=\"w-12 h-12 rounded-full bg-cyan-100 __lazy\" style=\"visibility:hidden;height:100%;left:0;position:absolute;top:0;width:100%\"/></div></div></div><div class=\"flex-auto\">Mehul Mohan<br/><span class=\"text-green-100\">Full-stack developer</span></div></figcaption></figure></li><li class=\"px-3 md:px-4 flex-none\"><figure class=\"shadow-lg rounded-xl flex-none w-80 md:w-xl\"><blockquote class=\"rounded-t-xl bg-gray-800 px-6 py-8 md:p-10 text-lg md:text-xl leading-8 md:leading-8 font-semibold text-gray-100\"><div class=\"flex flex-row items-center space-x-2\"><div class=\"w-12 h-12 rounded-xl bg-gradient-to-br flex items-center justify-center from-fuchsia-500 to-purple-600\"><svg width=\"32\" height=\"32\" viewBox=\"0 0 32 32\" fill=\"none\"><g clip-path=\"url(#editor-tools_svg__clip0)\"><g filter=\"url(#editor-tools_svg__filter0_dd)\"><path fill-rule=\"evenodd\" clip-rule=\"evenodd\" d=\"M9.414 9.586a2 2 0 010 2.828L5.828 16l3.586 3.586a2 2 0 11-2.828 2.828l-5-5a2 2 0 010-2.828l5-5a2 2 0 012.828 0z\" fill=\"white\"></path></g><g filter=\"url(#editor-tools_svg__filter1_dd)\"><path fill-rule=\"evenodd\" clip-rule=\"evenodd\" d=\"M22.586 9.586a2 2 0 012.828 0l5 5a2 2 0 010 2.828l-5 5a2 2 0 11-2.828-2.828L26.172 16l-3.586-3.586a2 2 0 010-2.828z\" fill=\"white\"></path></g><g filter=\"url(#editor-tools_svg__filter2_dd)\"><path fill-rule=\"evenodd\" clip-rule=\"evenodd\" d=\"M19.485 2.06a2 2 0 011.456 2.426l-6 24a2 2 0 01-3.88-.97l6-24a2 2 0 012.424-1.456z\" fill=\"white\"></path></g></g><defs><filter id=\"editor-tools_svg__filter0_dd\" x=\"-2\" y=\"7\" width=\"15\" height=\"20\" filterUnits=\"userSpaceOnUse\" color-interpolation-filters=\"sRGB\"><feFlood flood-opacity=\"0\" result=\"BackgroundImageFix\"></feFlood><feColorMatrix in=\"SourceAlpha\" values=\"0 0 0 0 0 0 0 0 0 0 0 0 0 0 0 0 0 0 127 0\"></feColorMatrix><feOffset dy=\"1\"></feOffset><feGaussianBlur stdDeviation=\"1\"></feGaussianBlur><feColorMatrix values=\"0 0 0 0 0 0 0 0 0 0 0 0 0 0 0 0 0 0 0.06 0\"></feColorMatrix><feBlend in2=\"BackgroundImageFix\" result=\"effect1_dropShadow\"></feBlend><feColorMatrix in=\"SourceAlpha\" values=\"0 0 0 0 0 0 0 0 0 0 0 0 0 0 0 0 0 0 127 0\"></feColorMatrix><feOffset dy=\"1\"></feOffset><feGaussianBlur stdDeviation=\"1.5\"></feGaussianBlur><feColorMatrix values=\"0 0 0 0 0 0 0 0 0 0 0 0 0 0 0 0 0 0 0.1 0\"></feColorMatrix><feBlend in2=\"effect1_dropShadow\" result=\"effect2_dropShadow\"></feBlend><feBlend in=\"SourceGraphic\" in2=\"effect2_dropShadow\" result=\"shape\"></feBlend></filter><filter id=\"editor-tools_svg__filter1_dd\" x=\"19\" y=\"7\" width=\"15\" height=\"20\" filterUnits=\"userSpaceOnUse\" color-interpolation-filters=\"sRGB\"><feFlood flood-opacity=\"0\" result=\"BackgroundImageFix\"></feFlood><feColorMatrix in=\"SourceAlpha\" values=\"0 0 0 0 0 0 0 0 0 0 0 0 0 0 0 0 0 0 127 0\"></feColorMatrix><feOffset dy=\"1\"></feOffset><feGaussianBlur stdDeviation=\"1\"></feGaussianBlur><feColorMatrix values=\"0 0 0 0 0 0 0 0 0 0 0 0 0 0 0 0 0 0 0.06 0\"></feColorMatrix><feBlend in2=\"BackgroundImageFix\" result=\"effect1_dropShadow\"></feBlend><feColorMatrix in=\"SourceAlpha\" values=\"0 0 0 0 0 0 0 0 0 0 0 0 0 0 0 0 0 0 127 0\"></feColorMatrix><feOffset dy=\"1\"></feOffset><feGaussianBlur stdDeviation=\"1.5\"></feGaussianBlur><feColorMatrix values=\"0 0 0 0 0 0 0 0 0 0 0 0 0 0 0 0 0 0 0.1 0\"></feColorMatrix><feBlend in2=\"effect1_dropShadow\" result=\"effect2_dropShadow\"></feBlend><feBlend in=\"SourceGraphic\" in2=\"effect2_dropShadow\" result=\"shape\"></feBlend></filter><filter id=\"editor-tools_svg__filter2_dd\" x=\"8\" y=\"0\" width=\"16.001\" height=\"34.001\" filterUnits=\"userSpaceOnUse\" color-interpolation-filters=\"sRGB\"><feFlood flood-opacity=\"0\" result=\"BackgroundImageFix\"></feFlood><feColorMatrix in=\"SourceAlpha\" values=\"0 0 0 0 0 0 0 0 0 0 0 0 0 0 0 0 0 0 127 0\"></feColorMatrix><feOffset dy=\"1\"></feOffset><feGaussianBlur stdDeviation=\"1\"></feGaussianBlur><feColorMatrix values=\"0 0 0 0 0 0 0 0 0 0 0 0 0 0 0 0 0 0 0.06 0\"></feColorMatrix><feBlend in2=\"BackgroundImageFix\" result=\"effect1_dropShadow\"></feBlend><feColorMatrix in=\"SourceAlpha\" values=\"0 0 0 0 0 0 0 0 0 0 0 0 0 0 0 0 0 0 127 0\"></feColorMatrix><feOffset dy=\"1\"></feOffset><feGaussianBlur stdDeviation=\"1.5\"></feGaussianBlur><feColorMatrix values=\"0 0 0 0 0 0 0 0 0 0 0 0 0 0 0 0 0 0 0.1 0\"></feColorMatrix><feBlend in2=\"effect1_dropShadow\" result=\"effect2_dropShadow\"></feBlend><feBlend in=\"SourceGraphic\" in2=\"effect2_dropShadow\" result=\"shape\"></feBlend></filter><clipPath id=\"editor-tools_svg__clip0\"><path fill=\"#fff\" d=\"M0 0h32v32H0z\"></path></clipPath></defs></svg></div><p>Course</p></div><h3 class=\"mt-8\"><a class=\"text-gray-100 hover:text-gray-200\" href=\"/learn/javascript-tetris-game\">Learn JavaScript by building Tetris game</a></h3></blockquote><figcaption class=\"flex items-center space-x-4 p-6 md:px-10 md:py-6 bg-gradient-to-br rounded-b-xl leading-6 font-semibold text-white from-fuchsia-500 to-purple-600\"><div class=\"flex-none w-14 h-14 bg-white rounded-full flex items-center justify-center\"><div style=\"max-width:100%;width:48px\"><div style=\"position:relative;padding-bottom:100%\"><img data-src=\"/_next/image?url=%2Fassets%2Fimages%2Fcreators%2Faniakubow.jpeg&amp;w=320&amp;q=75\" data-srcset=\"/_next/image?url=%2Fassets%2Fimages%2Fcreators%2Faniakubow.jpeg&amp;w=320&amp;q=75 320w\" class=\"w-12 h-12 rounded-full bg-cyan-100 __lazy\" style=\"visibility:hidden;height:100%;left:0;position:absolute;top:0;width:100%\"/></div></div></div><div class=\"flex-auto\">Ania Kubow<br/><span class=\"text-green-100\">Frontend Developer</span></div></figcaption></figure></li><li class=\"px-3 md:px-4 flex-none\"><figure class=\"shadow-lg rounded-xl flex-none w-80 md:w-xl\"><blockquote class=\"rounded-t-xl bg-gray-800 px-6 py-8 md:p-10 text-lg md:text-xl leading-8 md:leading-8 font-semibold text-gray-100\"><div class=\"flex flex-row items-center space-x-2\"><div class=\"w-12 h-12 rounded-xl bg-gradient-to-br flex items-center justify-center from-pink-500 to-rose-500\"><svg width=\"32\" height=\"32\" viewBox=\"0 0 32 32\" fill=\"none\"><g clip-path=\"url(#customization_svg__clip0)\"><g filter=\"url(#customization_svg__filter0_dd)\"><rect x=\"2\" y=\"2\" width=\"28\" height=\"28\" rx=\"4\" fill=\"#FDA4AF\"></rect></g><rect x=\"20\" y=\"8\" width=\"4\" height=\"16\" rx=\"2\" fill=\"#FB7185\"></rect><rect x=\"8\" y=\"8\" width=\"4\" height=\"16\" rx=\"2\" fill=\"#FB7185\"></rect><g filter=\"url(#customization_svg__filter1_dd)\"><circle cx=\"10\" cy=\"22\" r=\"4\" fill=\"#FFE4E6\"></circle></g><g filter=\"url(#customization_svg__filter2_dd)\"><circle cx=\"22\" cy=\"10\" r=\"4\" fill=\"#FFE4E6\"></circle></g></g><defs><filter id=\"customization_svg__filter0_dd\" x=\"-1\" y=\"0\" width=\"34\" height=\"34\" filterUnits=\"userSpaceOnUse\" color-interpolation-filters=\"sRGB\"><feFlood flood-opacity=\"0\" result=\"BackgroundImageFix\"></feFlood><feColorMatrix in=\"SourceAlpha\" values=\"0 0 0 0 0 0 0 0 0 0 0 0 0 0 0 0 0 0 127 0\"></feColorMatrix><feOffset dy=\"1\"></feOffset><feGaussianBlur stdDeviation=\"1\"></feGaussianBlur><feColorMatrix values=\"0 0 0 0 0 0 0 0 0 0 0 0 0 0 0 0 0 0 0.06 0\"></feColorMatrix><feBlend in2=\"BackgroundImageFix\" result=\"effect1_dropShadow\"></feBlend><feColorMatrix in=\"SourceAlpha\" values=\"0 0 0 0 0 0 0 0 0 0 0 0 0 0 0 0 0 0 127 0\"></feColorMatrix><feOffset dy=\"1\"></feOffset><feGaussianBlur stdDeviation=\"1.5\"></feGaussianBlur><feColorMatrix values=\"0 0 0 0 0 0 0 0 0 0 0 0 0 0 0 0 0 0 0.1 0\"></feColorMatrix><feBlend in2=\"effect1_dropShadow\" result=\"effect2_dropShadow\"></feBlend><feBlend in=\"SourceGraphic\" in2=\"effect2_dropShadow\" result=\"shape\"></feBlend></filter><filter id=\"customization_svg__filter1_dd\" x=\"3\" y=\"16\" width=\"14\" height=\"14\" filterUnits=\"userSpaceOnUse\" color-interpolation-filters=\"sRGB\"><feFlood flood-opacity=\"0\" result=\"BackgroundImageFix\"></feFlood><feColorMatrix in=\"SourceAlpha\" values=\"0 0 0 0 0 0 0 0 0 0 0 0 0 0 0 0 0 0 127 0\"></feColorMatrix><feOffset dy=\"1\"></feOffset><feGaussianBlur stdDeviation=\"1\"></feGaussianBlur><feColorMatrix values=\"0 0 0 0 0 0 0 0 0 0 0 0 0 0 0 0 0 0 0.06 0\"></feColorMatrix><feBlend in2=\"BackgroundImageFix\" result=\"effect1_dropShadow\"></feBlend><feColorMatrix in=\"SourceAlpha\" values=\"0 0 0 0 0 0 0 0 0 0 0 0 0 0 0 0 0 0 127 0\"></feColorMatrix><feOffset dy=\"1\"></feOffset><feGaussianBlur stdDeviation=\"1.5\"></feGaussianBlur><feColorMatrix values=\"0 0 0 0 0 0 0 0 0 0 0 0 0 0 0 0 0 0 0.1 0\"></feColorMatrix><feBlend in2=\"effect1_dropShadow\" result=\"effect2_dropShadow\"></feBlend><feBlend in=\"SourceGraphic\" in2=\"effect2_dropShadow\" result=\"shape\"></feBlend></filter><filter id=\"customization_svg__filter2_dd\" x=\"15\" y=\"4\" width=\"14\" height=\"14\" filterUnits=\"userSpaceOnUse\" color-interpolation-filters=\"sRGB\"><feFlood flood-opacity=\"0\" result=\"BackgroundImageFix\"></feFlood><feColorMatrix in=\"SourceAlpha\" values=\"0 0 0 0 0 0 0 0 0 0 0 0 0 0 0 0 0 0 127 0\"></feColorMatrix><feOffset dy=\"1\"></feOffset><feGaussianBlur stdDeviation=\"1\"></feGaussianBlur><feColorMatrix values=\"0 0 0 0 0 0 0 0 0 0 0 0 0 0 0 0 0 0 0.06 0\"></feColorMatrix><feBlend in2=\"BackgroundImageFix\" result=\"effect1_dropShadow\"></feBlend><feColorMatrix in=\"SourceAlpha\" values=\"0 0 0 0 0 0 0 0 0 0 0 0 0 0 0 0 0 0 127 0\"></feColorMatrix><feOffset dy=\"1\"></feOffset><feGaussianBlur stdDeviation=\"1.5\"></feGaussianBlur><feColorMatrix values=\"0 0 0 0 0 0 0 0 0 0 0 0 0 0 0 0 0 0 0.1 0\"></feColorMatrix><feBlend in2=\"effect1_dropShadow\" result=\"effect2_dropShadow\"></feBlend><feBlend in=\"SourceGraphic\" in2=\"effect2_dropShadow\" result=\"shape\"></feBlend></filter><clipPath id=\"customization_svg__clip0\"><path fill=\"#fff\" d=\"M0 0h32v32H0z\"></path></clipPath></defs></svg></div><p>Project</p></div><h3 class=\"mt-8\"><a class=\"text-gray-100 hover:text-gray-200\" href=\"/practice/html-css-practice-projects\">HTML/CSS Practice Projects</a></h3></blockquote><figcaption class=\"flex items-center space-x-4 p-6 md:px-10 md:py-6 bg-gradient-to-br rounded-b-xl leading-6 font-semibold text-white from-pink-500 to-rose-500\"><div class=\"flex-none w-14 h-14 bg-white rounded-full flex items-center justify-center\"><div style=\"max-width:100%;width:48px\"><div style=\"position:relative;padding-bottom:100%\"><img data-src=\"/_next/image?url=%2Fassets%2Fimages%2Fcreators%2Fmehul.jpeg&amp;w=320&amp;q=75\" data-srcset=\"/_next/image?url=%2Fassets%2Fimages%2Fcreators%2Fmehul.jpeg&amp;w=320&amp;q=75 320w\" class=\"w-12 h-12 rounded-full bg-cyan-100 __lazy\" style=\"visibility:hidden;height:100%;left:0;position:absolute;top:0;width:100%\"/></div></div></div><div class=\"flex-auto\">Mehul Mohan<br/><span class=\"text-green-100\">Full-stack developer</span></div></figcaption></figure></li><li class=\"px-3 md:px-4 flex-none\"><figure class=\"shadow-lg rounded-xl flex-none w-80 md:w-xl\"><blockquote class=\"rounded-t-xl bg-gray-800 px-6 py-8 md:p-10 text-lg md:text-xl leading-8 md:leading-8 font-semibold text-gray-100\"><div class=\"flex flex-row items-center space-x-2\"><div class=\"w-12 h-12 rounded-xl bg-gradient-to-br flex items-center justify-center from-orange-400 to-pink-600\"><svg width=\"32\" height=\"32\" viewBox=\"0 0 32 32\" fill=\"none\"><g clip-path=\"url(#editor-tools_svg__clip0)\"><g filter=\"url(#editor-tools_svg__filter0_dd)\"><path fill-rule=\"evenodd\" clip-rule=\"evenodd\" d=\"M9.414 9.586a2 2 0 010 2.828L5.828 16l3.586 3.586a2 2 0 11-2.828 2.828l-5-5a2 2 0 010-2.828l5-5a2 2 0 012.828 0z\" fill=\"white\"></path></g><g filter=\"url(#editor-tools_svg__filter1_dd)\"><path fill-rule=\"evenodd\" clip-rule=\"evenodd\" d=\"M22.586 9.586a2 2 0 012.828 0l5 5a2 2 0 010 2.828l-5 5a2 2 0 11-2.828-2.828L26.172 16l-3.586-3.586a2 2 0 010-2.828z\" fill=\"white\"></path></g><g filter=\"url(#editor-tools_svg__filter2_dd)\"><path fill-rule=\"evenodd\" clip-rule=\"evenodd\" d=\"M19.485 2.06a2 2 0 011.456 2.426l-6 24a2 2 0 01-3.88-.97l6-24a2 2 0 012.424-1.456z\" fill=\"white\"></path></g></g><defs><filter id=\"editor-tools_svg__filter0_dd\" x=\"-2\" y=\"7\" width=\"15\" height=\"20\" filterUnits=\"userSpaceOnUse\" color-interpolation-filters=\"sRGB\"><feFlood flood-opacity=\"0\" result=\"BackgroundImageFix\"></feFlood><feColorMatrix in=\"SourceAlpha\" values=\"0 0 0 0 0 0 0 0 0 0 0 0 0 0 0 0 0 0 127 0\"></feColorMatrix><feOffset dy=\"1\"></feOffset><feGaussianBlur stdDeviation=\"1\"></feGaussianBlur><feColorMatrix values=\"0 0 0 0 0 0 0 0 0 0 0 0 0 0 0 0 0 0 0.06 0\"></feColorMatrix><feBlend in2=\"BackgroundImageFix\" result=\"effect1_dropShadow\"></feBlend><feColorMatrix in=\"SourceAlpha\" values=\"0 0 0 0 0 0 0 0 0 0 0 0 0 0 0 0 0 0 127 0\"></feColorMatrix><feOffset dy=\"1\"></feOffset><feGaussianBlur stdDeviation=\"1.5\"></feGaussianBlur><feColorMatrix values=\"0 0 0 0 0 0 0 0 0 0 0 0 0 0 0 0 0 0 0.1 0\"></feColorMatrix><feBlend in2=\"effect1_dropShadow\" result=\"effect2_dropShadow\"></feBlend><feBlend in=\"SourceGraphic\" in2=\"effect2_dropShadow\" result=\"shape\"></feBlend></filter><filter id=\"editor-tools_svg__filter1_dd\" x=\"19\" y=\"7\" width=\"15\" height=\"20\" filterUnits=\"userSpaceOnUse\" color-interpolation-filters=\"sRGB\"><feFlood flood-opacity=\"0\" result=\"BackgroundImageFix\"></feFlood><feColorMatrix in=\"SourceAlpha\" values=\"0 0 0 0 0 0 0 0 0 0 0 0 0 0 0 0 0 0 127 0\"></feColorMatrix><feOffset dy=\"1\"></feOffset><feGaussianBlur stdDeviation=\"1\"></feGaussianBlur><feColorMatrix values=\"0 0 0 0 0 0 0 0 0 0 0 0 0 0 0 0 0 0 0.06 0\"></feColorMatrix><feBlend in2=\"BackgroundImageFix\" result=\"effect1_dropShadow\"></feBlend><feColorMatrix in=\"SourceAlpha\" values=\"0 0 0 0 0 0 0 0 0 0 0 0 0 0 0 0 0 0 127 0\"></feColorMatrix><feOffset dy=\"1\"></feOffset><feGaussianBlur stdDeviation=\"1.5\"></feGaussianBlur><feColorMatrix values=\"0 0 0 0 0 0 0 0 0 0 0 0 0 0 0 0 0 0 0.1 0\"></feColorMatrix><feBlend in2=\"effect1_dropShadow\" result=\"effect2_dropShadow\"></feBlend><feBlend in=\"SourceGraphic\" in2=\"effect2_dropShadow\" result=\"shape\"></feBlend></filter><filter id=\"editor-tools_svg__filter2_dd\" x=\"8\" y=\"0\" width=\"16.001\" height=\"34.001\" filterUnits=\"userSpaceOnUse\" color-interpolation-filters=\"sRGB\"><feFlood flood-opacity=\"0\" result=\"BackgroundImageFix\"></feFlood><feColorMatrix in=\"SourceAlpha\" values=\"0 0 0 0 0 0 0 0 0 0 0 0 0 0 0 0 0 0 127 0\"></feColorMatrix><feOffset dy=\"1\"></feOffset><feGaussianBlur stdDeviation=\"1\"></feGaussianBlur><feColorMatrix values=\"0 0 0 0 0 0 0 0 0 0 0 0 0 0 0 0 0 0 0.06 0\"></feColorMatrix><feBlend in2=\"BackgroundImageFix\" result=\"effect1_dropShadow\"></feBlend><feColorMatrix in=\"SourceAlpha\" values=\"0 0 0 0 0 0 0 0 0 0 0 0 0 0 0 0 0 0 127 0\"></feColorMatrix><feOffset dy=\"1\"></feOffset><feGaussianBlur stdDeviation=\"1.5\"></feGaussianBlur><feColorMatrix values=\"0 0 0 0 0 0 0 0 0 0 0 0 0 0 0 0 0 0 0.1 0\"></feColorMatrix><feBlend in2=\"effect1_dropShadow\" result=\"effect2_dropShadow\"></feBlend><feBlend in=\"SourceGraphic\" in2=\"effect2_dropShadow\" result=\"shape\"></feBlend></filter><clipPath id=\"editor-tools_svg__clip0\"><path fill=\"#fff\" d=\"M0 0h32v32H0z\"></path></clipPath></defs></svg></div><p>Course</p></div><h3 class=\"mt-8\"><a class=\"text-gray-100 hover:text-gray-200\" href=\"/learn/practice-10-projects-javascript\">Practice JavaScript by building 10+ apps</a></h3></blockquote><figcaption class=\"flex items-center space-x-4 p-6 md:px-10 md:py-6 bg-gradient-to-br rounded-b-xl leading-6 font-semibold text-white from-orange-400 to-pink-600\"><div class=\"flex-none w-14 h-14 bg-white rounded-full flex items-center justify-center\"><div style=\"max-width:100%;width:48px\"><div style=\"position:relative;padding-bottom:100%\"><img data-src=\"/_next/image?url=%2Fassets%2Fimages%2Fcreators%2Flaurence.jpg&amp;w=320&amp;q=75\" data-srcset=\"/_next/image?url=%2Fassets%2Fimages%2Fcreators%2Flaurence.jpg&amp;w=320&amp;q=75 320w\" class=\"w-12 h-12 rounded-full bg-cyan-100 __lazy\" style=\"visibility:hidden;height:100%;left:0;position:absolute;top:0;width:100%\"/></div></div></div><div class=\"flex-auto\">Laurence Svekis<br/><span class=\"text-green-100\">Frontend Developer</span></div></figcaption></figure></li><li class=\"px-3 md:px-4 flex-none\"><figure class=\"shadow-lg rounded-xl flex-none w-80 md:w-xl\"><blockquote class=\"rounded-t-xl bg-gray-800 px-6 py-8 md:p-10 text-lg md:text-xl leading-8 md:leading-8 font-semibold text-gray-100\"><div class=\"flex flex-row items-center space-x-2\"><div class=\"w-12 h-12 rounded-xl bg-gradient-to-br flex items-center justify-center from-light-blue-400 to-indigo-500\"><svg width=\"32\" height=\"32\" viewBox=\"0 0 32 32\" fill=\"none\"><g clip-path=\"url(#customization_svg__clip0)\"><g filter=\"url(#customization_svg__filter0_dd)\"><rect x=\"2\" y=\"2\" width=\"28\" height=\"28\" rx=\"4\" fill=\"#FDA4AF\"></rect></g><rect x=\"20\" y=\"8\" width=\"4\" height=\"16\" rx=\"2\" fill=\"#FB7185\"></rect><rect x=\"8\" y=\"8\" width=\"4\" height=\"16\" rx=\"2\" fill=\"#FB7185\"></rect><g filter=\"url(#customization_svg__filter1_dd)\"><circle cx=\"10\" cy=\"22\" r=\"4\" fill=\"#FFE4E6\"></circle></g><g filter=\"url(#customization_svg__filter2_dd)\"><circle cx=\"22\" cy=\"10\" r=\"4\" fill=\"#FFE4E6\"></circle></g></g><defs><filter id=\"customization_svg__filter0_dd\" x=\"-1\" y=\"0\" width=\"34\" height=\"34\" filterUnits=\"userSpaceOnUse\" color-interpolation-filters=\"sRGB\"><feFlood flood-opacity=\"0\" result=\"BackgroundImageFix\"></feFlood><feColorMatrix in=\"SourceAlpha\" values=\"0 0 0 0 0 0 0 0 0 0 0 0 0 0 0 0 0 0 127 0\"></feColorMatrix><feOffset dy=\"1\"></feOffset><feGaussianBlur stdDeviation=\"1\"></feGaussianBlur><feColorMatrix values=\"0 0 0 0 0 0 0 0 0 0 0 0 0 0 0 0 0 0 0.06 0\"></feColorMatrix><feBlend in2=\"BackgroundImageFix\" result=\"effect1_dropShadow\"></feBlend><feColorMatrix in=\"SourceAlpha\" values=\"0 0 0 0 0 0 0 0 0 0 0 0 0 0 0 0 0 0 127 0\"></feColorMatrix><feOffset dy=\"1\"></feOffset><feGaussianBlur stdDeviation=\"1.5\"></feGaussianBlur><feColorMatrix values=\"0 0 0 0 0 0 0 0 0 0 0 0 0 0 0 0 0 0 0.1 0\"></feColorMatrix><feBlend in2=\"effect1_dropShadow\" result=\"effect2_dropShadow\"></feBlend><feBlend in=\"SourceGraphic\" in2=\"effect2_dropShadow\" result=\"shape\"></feBlend></filter><filter id=\"customization_svg__filter1_dd\" x=\"3\" y=\"16\" width=\"14\" height=\"14\" filterUnits=\"userSpaceOnUse\" color-interpolation-filters=\"sRGB\"><feFlood flood-opacity=\"0\" result=\"BackgroundImageFix\"></feFlood><feColorMatrix in=\"SourceAlpha\" values=\"0 0 0 0 0 0 0 0 0 0 0 0 0 0 0 0 0 0 127 0\"></feColorMatrix><feOffset dy=\"1\"></feOffset><feGaussianBlur stdDeviation=\"1\"></feGaussianBlur><feColorMatrix values=\"0 0 0 0 0 0 0 0 0 0 0 0 0 0 0 0 0 0 0.06 0\"></feColorMatrix><feBlend in2=\"BackgroundImageFix\" result=\"effect1_dropShadow\"></feBlend><feColorMatrix in=\"SourceAlpha\" values=\"0 0 0 0 0 0 0 0 0 0 0 0 0 0 0 0 0 0 127 0\"></feColorMatrix><feOffset dy=\"1\"></feOffset><feGaussianBlur stdDeviation=\"1.5\"></feGaussianBlur><feColorMatrix values=\"0 0 0 0 0 0 0 0 0 0 0 0 0 0 0 0 0 0 0.1 0\"></feColorMatrix><feBlend in2=\"effect1_dropShadow\" result=\"effect2_dropShadow\"></feBlend><feBlend in=\"SourceGraphic\" in2=\"effect2_dropShadow\" result=\"shape\"></feBlend></filter><filter id=\"customization_svg__filter2_dd\" x=\"15\" y=\"4\" width=\"14\" height=\"14\" filterUnits=\"userSpaceOnUse\" color-interpolation-filters=\"sRGB\"><feFlood flood-opacity=\"0\" result=\"BackgroundImageFix\"></feFlood><feColorMatrix in=\"SourceAlpha\" values=\"0 0 0 0 0 0 0 0 0 0 0 0 0 0 0 0 0 0 127 0\"></feColorMatrix><feOffset dy=\"1\"></feOffset><feGaussianBlur stdDeviation=\"1\"></feGaussianBlur><feColorMatrix values=\"0 0 0 0 0 0 0 0 0 0 0 0 0 0 0 0 0 0 0.06 0\"></feColorMatrix><feBlend in2=\"BackgroundImageFix\" result=\"effect1_dropShadow\"></feBlend><feColorMatrix in=\"SourceAlpha\" values=\"0 0 0 0 0 0 0 0 0 0 0 0 0 0 0 0 0 0 127 0\"></feColorMatrix><feOffset dy=\"1\"></feOffset><feGaussianBlur stdDeviation=\"1.5\"></feGaussianBlur><feColorMatrix values=\"0 0 0 0 0 0 0 0 0 0 0 0 0 0 0 0 0 0 0.1 0\"></feColorMatrix><feBlend in2=\"effect1_dropShadow\" result=\"effect2_dropShadow\"></feBlend><feBlend in=\"SourceGraphic\" in2=\"effect2_dropShadow\" result=\"shape\"></feBlend></filter><clipPath id=\"customization_svg__clip0\"><path fill=\"#fff\" d=\"M0 0h32v32H0z\"></path></clipPath></defs></svg></div><p>Project</p></div><h3 class=\"mt-8\"><a class=\"text-gray-100 hover:text-gray-200\" href=\"/practice/css3-flexbox-basics\">Learn CSS3 Flexbox Layout System</a></h3></blockquote><figcaption class=\"flex items-center space-x-4 p-6 md:px-10 md:py-6 bg-gradient-to-br rounded-b-xl leading-6 font-semibold text-white from-light-blue-400 to-indigo-500\"><div class=\"flex-none w-14 h-14 bg-white rounded-full flex items-center justify-center\"><div style=\"max-width:100%;width:48px\"><div style=\"position:relative;padding-bottom:100%\"><img data-src=\"/_next/image?url=%2Fassets%2Fimages%2Fcreators%2Fmehul.jpeg&amp;w=320&amp;q=75\" data-srcset=\"/_next/image?url=%2Fassets%2Fimages%2Fcreators%2Fmehul.jpeg&amp;w=320&amp;q=75 320w\" class=\"w-12 h-12 rounded-full bg-cyan-100 __lazy\" style=\"visibility:hidden;height:100%;left:0;position:absolute;top:0;width:100%\"/></div></div></div><div class=\"flex-auto\">Mehul Mohan<br/><span class=\"text-green-100\">Full-stack developer</span></div></figcaption></figure></li><li class=\"px-3 md:px-4 flex-none\"><figure class=\"shadow-lg rounded-xl flex-none w-80 md:w-xl\"><blockquote class=\"rounded-t-xl bg-gray-800 px-6 py-8 md:p-10 text-lg md:text-xl leading-8 md:leading-8 font-semibold text-gray-100\"><div class=\"flex flex-row items-center space-x-2\"><div class=\"w-12 h-12 rounded-xl bg-gradient-to-br flex items-center justify-center from-pink-500 to-rose-500\"><svg width=\"32\" height=\"32\" viewBox=\"0 0 32 32\" fill=\"none\"><g clip-path=\"url(#editor-tools_svg__clip0)\"><g filter=\"url(#editor-tools_svg__filter0_dd)\"><path fill-rule=\"evenodd\" clip-rule=\"evenodd\" d=\"M9.414 9.586a2 2 0 010 2.828L5.828 16l3.586 3.586a2 2 0 11-2.828 2.828l-5-5a2 2 0 010-2.828l5-5a2 2 0 012.828 0z\" fill=\"white\"></path></g><g filter=\"url(#editor-tools_svg__filter1_dd)\"><path fill-rule=\"evenodd\" clip-rule=\"evenodd\" d=\"M22.586 9.586a2 2 0 012.828 0l5 5a2 2 0 010 2.828l-5 5a2 2 0 11-2.828-2.828L26.172 16l-3.586-3.586a2 2 0 010-2.828z\" fill=\"white\"></path></g><g filter=\"url(#editor-tools_svg__filter2_dd)\"><path fill-rule=\"evenodd\" clip-rule=\"evenodd\" d=\"M19.485 2.06a2 2 0 011.456 2.426l-6 24a2 2 0 01-3.88-.97l6-24a2 2 0 012.424-1.456z\" fill=\"white\"></path></g></g><defs><filter id=\"editor-tools_svg__filter0_dd\" x=\"-2\" y=\"7\" width=\"15\" height=\"20\" filterUnits=\"userSpaceOnUse\" color-interpolation-filters=\"sRGB\"><feFlood flood-opacity=\"0\" result=\"BackgroundImageFix\"></feFlood><feColorMatrix in=\"SourceAlpha\" values=\"0 0 0 0 0 0 0 0 0 0 0 0 0 0 0 0 0 0 127 0\"></feColorMatrix><feOffset dy=\"1\"></feOffset><feGaussianBlur stdDeviation=\"1\"></feGaussianBlur><feColorMatrix values=\"0 0 0 0 0 0 0 0 0 0 0 0 0 0 0 0 0 0 0.06 0\"></feColorMatrix><feBlend in2=\"BackgroundImageFix\" result=\"effect1_dropShadow\"></feBlend><feColorMatrix in=\"SourceAlpha\" values=\"0 0 0 0 0 0 0 0 0 0 0 0 0 0 0 0 0 0 127 0\"></feColorMatrix><feOffset dy=\"1\"></feOffset><feGaussianBlur stdDeviation=\"1.5\"></feGaussianBlur><feColorMatrix values=\"0 0 0 0 0 0 0 0 0 0 0 0 0 0 0 0 0 0 0.1 0\"></feColorMatrix><feBlend in2=\"effect1_dropShadow\" result=\"effect2_dropShadow\"></feBlend><feBlend in=\"SourceGraphic\" in2=\"effect2_dropShadow\" result=\"shape\"></feBlend></filter><filter id=\"editor-tools_svg__filter1_dd\" x=\"19\" y=\"7\" width=\"15\" height=\"20\" filterUnits=\"userSpaceOnUse\" color-interpolation-filters=\"sRGB\"><feFlood flood-opacity=\"0\" result=\"BackgroundImageFix\"></feFlood><feColorMatrix in=\"SourceAlpha\" values=\"0 0 0 0 0 0 0 0 0 0 0 0 0 0 0 0 0 0 127 0\"></feColorMatrix><feOffset dy=\"1\"></feOffset><feGaussianBlur stdDeviation=\"1\"></feGaussianBlur><feColorMatrix values=\"0 0 0 0 0 0 0 0 0 0 0 0 0 0 0 0 0 0 0.06 0\"></feColorMatrix><feBlend in2=\"BackgroundImageFix\" result=\"effect1_dropShadow\"></feBlend><feColorMatrix in=\"SourceAlpha\" values=\"0 0 0 0 0 0 0 0 0 0 0 0 0 0 0 0 0 0 127 0\"></feColorMatrix><feOffset dy=\"1\"></feOffset><feGaussianBlur stdDeviation=\"1.5\"></feGaussianBlur><feColorMatrix values=\"0 0 0 0 0 0 0 0 0 0 0 0 0 0 0 0 0 0 0.1 0\"></feColorMatrix><feBlend in2=\"effect1_dropShadow\" result=\"effect2_dropShadow\"></feBlend><feBlend in=\"SourceGraphic\" in2=\"effect2_dropShadow\" result=\"shape\"></feBlend></filter><filter id=\"editor-tools_svg__filter2_dd\" x=\"8\" y=\"0\" width=\"16.001\" height=\"34.001\" filterUnits=\"userSpaceOnUse\" color-interpolation-filters=\"sRGB\"><feFlood flood-opacity=\"0\" result=\"BackgroundImageFix\"></feFlood><feColorMatrix in=\"SourceAlpha\" values=\"0 0 0 0 0 0 0 0 0 0 0 0 0 0 0 0 0 0 127 0\"></feColorMatrix><feOffset dy=\"1\"></feOffset><feGaussianBlur stdDeviation=\"1\"></feGaussianBlur><feColorMatrix values=\"0 0 0 0 0 0 0 0 0 0 0 0 0 0 0 0 0 0 0.06 0\"></feColorMatrix><feBlend in2=\"BackgroundImageFix\" result=\"effect1_dropShadow\"></feBlend><feColorMatrix in=\"SourceAlpha\" values=\"0 0 0 0 0 0 0 0 0 0 0 0 0 0 0 0 0 0 127 0\"></feColorMatrix><feOffset dy=\"1\"></feOffset><feGaussianBlur stdDeviation=\"1.5\"></feGaussianBlur><feColorMatrix values=\"0 0 0 0 0 0 0 0 0 0 0 0 0 0 0 0 0 0 0.1 0\"></feColorMatrix><feBlend in2=\"effect1_dropShadow\" result=\"effect2_dropShadow\"></feBlend><feBlend in=\"SourceGraphic\" in2=\"effect2_dropShadow\" result=\"shape\"></feBlend></filter><clipPath id=\"editor-tools_svg__clip0\"><path fill=\"#fff\" d=\"M0 0h32v32H0z\"></path></clipPath></defs></svg></div><p>Course</p></div><h3 class=\"mt-8\"><a class=\"text-gray-100 hover:text-gray-200\" href=\"/learn/git-basics\">Learn about git and GitHub (VCS)</a></h3></blockquote><figcaption class=\"flex items-center space-x-4 p-6 md:px-10 md:py-6 bg-gradient-to-br rounded-b-xl leading-6 font-semibold text-white from-pink-500 to-rose-500\"><div class=\"flex-none w-14 h-14 bg-white rounded-full flex items-center justify-center\"><div style=\"max-width:100%;width:48px\"><div style=\"position:relative;padding-bottom:100%\"><img data-src=\"/_next/image?url=%2Fassets%2Fimages%2Fcreators%2Fanna.jpg&amp;w=320&amp;q=75\" data-srcset=\"/_next/image?url=%2Fassets%2Fimages%2Fcreators%2Fanna.jpg&amp;w=320&amp;q=75 320w\" class=\"w-12 h-12 rounded-full bg-cyan-100 __lazy\" style=\"visibility:hidden;height:100%;left:0;position:absolute;top:0;width:100%\"/></div></div></div><div class=\"flex-auto\">Anna Skoulikari<br/><span class=\"text-green-100\">Frontend Developer</span></div></figcaption></figure></li></ul></div></div></div><footer class=\"relative bg-gray-900 text-gray-200 px-10 py-10 mx-auto lg:py-20\" style=\"z-index:1500\"><div class=\"max-w-6xl mx-auto flex flex-col space-y-4 md:space-y-0 md:flex-row md:space-x-5\"><div class=\"footerimg mb-5 lg:mr-3 lg:mb-0 flex justify-center lg:justify-end\"><div style=\"max-width:100%;width:50px\"><div style=\"position:relative;padding-bottom:160%\"><img alt=\"codedamn footer logo\" data-src=\"/_next/image?url=%2Fassets%2Fimages%2Fwhite-logo.png&amp;w=320&amp;q=75\" data-srcset=\"/_next/image?url=%2Fassets%2Fimages%2Fwhite-logo.png&amp;w=320&amp;q=75 320w\" class=\"__lazy\" style=\"visibility:hidden;height:100%;left:0;position:absolute;top:0;width:100%\"/></div></div></div><div class=\"flex flex-wrap flex-row flex-grow\"><div class=\"flex-full md:flex-half lg:flex-1\"><h3 class=\"font-bold text-xl mb-5\">CODEDAMN</h3><ul class=\"text-sm flex flex-col space-y-2\"><li><a href=\"/news\">Blog</a></li><li><a target=\"_blank\" rel=\"noreferrer noopener\" href=\"https://discord.gg/5bPhXHP\">Discord Server</a></li><li><a target=\"_blank\" rel=\"noreferrer noopener\" href=\"https://www.youtube.com/codedamn\">YouTube Channel</a></li><li><a target=\"_blank\" rel=\"noreferrer noopener\" href=\"http://bit.ly/codedamn-android\">Android App</a></li><li><a target=\"_blank\" rel=\"noreferrer noopener\" href=\"https://bit.ly/codedamn-ios\">iOS App</a></li></ul></div><div class=\"flex-full mt-4 md:mt-0 md:flex-half lg:mt-0 lg:flex-1\"><h3 class=\"font-bold text-xl mb-5\">PRODUCTS</h3><ul class=\"text-sm flex flex-col space-y-2\"><li><a href=\"/learning-paths\">Learning Paths</a></li><li><a href=\"/courses\">Video Courses</a></li><li><a href=\"/classrooms\">Classrooms</a></li><li><a href=\"/contact\">Enterprise Solutions</a></li></ul></div><div class=\"flex-full mt-4 lg:mt-0 lg:flex-1\"><h3 class=\"font-bold text-xl mb-5\">COMPANY</h3><ul class=\"text-sm flex flex-col space-y-2\"><li><a href=\"/contact\">About</a></li><li><a href=\"/privacy-policy\">Privacy Policy</a></li><li><a href=\"/contact\">Contact Us</a></li></ul></div><div class=\"flex-full mt-4 md:mt-0  md:flex-1\"><h3 class=\"font-bold text-xl mb-5\">SOCIAL</h3><p class=\"text-sm flex flex-col space-y-2\"><a class=\"block\" target=\"_blank\" rel=\"noreferrer noopener\" href=\"https://www.facebook.com/codedamn.com\">Facebook</a> <a class=\"block\" target=\"_blank\" rel=\"noreferrer noopener\" href=\"https://www.twitter.com/codedamncom\">Twitter</a> <a class=\"block\" target=\"_blank\" rel=\"noreferrer noopener\" href=\"https://www.instagram.com/codedamn\">Instagram</a> <a class=\"block\" target=\"_blank\" rel=\"noreferrer noopener\" href=\"https://www.linkedin.com/company/codedamn/\">LinkedIn</a> <a class=\"block\" target=\"_blank\" rel=\"noreferrer noopener\" href=\"https://github.com/codedamn\">GitHub</a></p><p class=\"mt-2\">Copyright © codedamn™ 2015-<!-- -->2021<!-- --> | All Rights Reserved.</p></div></div></div></footer></div></div><script id=\"__NEXT_DATA__\" type=\"application/json\">{\"props\":{\"pageProps\":{\"count\":31478},\"__N_SSG\":true},\"page\":\"/\",\"query\":{},\"buildId\":\"L0_nAGDpcjkBXivhzz82U\",\"runtimeConfig\":{},\"nextExport\":false,\"isFallback\":false,\"gsp\":true,\"head\":[[\"meta\",{\"charSet\":\"utf-8\"}],[\"meta\",{\"name\":\"twitter:card\",\"content\":\"summary_large_image\"}],[\"meta\",{\"name\":\"twitter:site\",\"content\":\"@codedamncom\"}],[\"meta\",{\"name\":\"twitter:creator\",\"content\":\"@mehulmpt\"}],[\"meta\",{\"property\":\"fb:app_id\",\"content\":\"261251371039658\"}],[\"meta\",{\"property\":\"og:url\",\"content\":\"https://codedamn.com/assets/images/cover.jpg\"}],[\"meta\",{\"property\":\"og:type\",\"content\":\"website\"}],[\"meta\",{\"property\":\"og:title\",\"content\":\"codedamn\"}],[\"meta\",{\"property\":\"og:description\",\"content\":\"Learn about today's job skills - frontend, backend, fullstack, mobile app development and practice online with thousands of developers. codedamn is the best way to learn to code online. Start with HTML, CSS, JavaScript, SQL, Python, Data Science, and more\"}],[\"meta\",{\"property\":\"og:image\",\"content\":\"https://codedamn.com/assets/images/cover.jpg\"}],[\"meta\",{\"property\":\"og:image:alt\",\"content\":\"codedamn cover image\"}],[\"meta\",{\"property\":\"og:image:width\",\"content\":\"1280\"}],[\"meta\",{\"property\":\"og:image:height\",\"content\":\"720\"}],[\"meta\",{\"property\":\"og:site_name\",\"content\":\"codedamn\"}],[\"title\",{\"children\":\"codedamn - Learn coding like it's 2026\"}],[\"meta\",{\"name\":\"robots\",\"content\":\"index,follow\"}],[\"meta\",{\"name\":\"googlebot\",\"content\":\"index,follow\"}],[\"meta\",{\"name\":\"description\",\"content\":\"Learn about today's job skills - frontend, backend, fullstack, mobile app development and practice online with thousands of developers. codedamn is the best way to learn to code online. Start with HTML, CSS, JavaScript, SQL, Python, Data Science, and more\"}],[\"script\",{\"defer\":true,\"dangerouslySetInnerHTML\":{\"__html\":\"(function(i,s,o,g,r,a,m){i['GoogleAnalyticsObject']=r;i[r]=i[r]||function(){\\n(i[r].q=i[r].q||[]).push(arguments)},i[r].l=1*new Date();a=s.createElement(o),\\nm=s.getElementsByTagName(o)[0];a.async=1;a.src=g;m.parentNode.insertBefore(a,m)\\n})(window,document,'script','https://www.google-analytics.com/analytics.js','ga');\\nga('create', 'UA-120902510-1', 'auto');\\nga('send', 'pageview');\"}}],[\"script\",{\"defer\":true,\"dangerouslySetInnerHTML\":{\"__html\":\"!function(f,b,e,v,n,t,s)\\n  {if(f.fbq)return;n=f.fbq=function(){n.callMethod?\\n  n.callMethod.apply(n,arguments):n.queue.push(arguments)};\\n  if(!f._fbq)f._fbq=n;n.push=n;n.loaded=!0;n.version='2.0';\\n  n.queue=[];t=b.createElement(e);t.async=!0;\\n  t.src=v;s=b.getElementsByTagName(e)[0];\\n  s.parentNode.insertBefore(t,s)}(window, document,'script',\\n  'https://connect.facebook.net/en_US/fbevents.js');\\n  fbq('init', '471148730684170');\\n  fbq('track', 'PageView');\"}}],[\"noscript\",{\"dangerouslySetInnerHTML\":{\"__html\":\"\\u003cimg\\n\\t\\t\\t\\t\\t\\t\\t\\theight=\\\"1\\\"\\n\\t\\t\\t\\t\\t\\t\\t\\twidth=\\\"1\\\"\\n\\t\\t\\t\\t\\t\\t\\t\\tstyle=\\\"display:none\\\"\\n\\t\\t\\t\\t\\t\\t\\t\\tsrc=\\\"https://www.facebook.com/tr?id=471148730684170\\u0026ev=PageView\\u0026noscript=1\\\"\\n\\t\\t\\t\\t\\t\\t\\t/\\u003e\"}}],[\"meta\",{\"name\":\"viewport\",\"content\":\"minimum-scale=1, initial-scale=1, width=device-width, shrink-to-fit=no\"}],[\"meta\",{\"name\":\"application-name\",\"content\":\"codedamn\"}],[\"meta\",{\"name\":\"apple-mobile-web-app-capable\",\"content\":\"yes\"}],[\"meta\",{\"name\":\"apple-mobile-web-app-status-bar-style\",\"content\":\"default\"}],[\"meta\",{\"name\":\"apple-mobile-web-app-title\",\"content\":\"codedamn\"}],[\"meta\",{\"name\":\"format-detection\",\"content\":\"telephone=no\"}],[\"meta\",{\"name\":\"mobile-web-app-capable\",\"content\":\"yes\"}],[\"meta\",{\"name\":\"msapplication-config\",\"content\":\"/assets/images/favicons/browserconfig.xml\"}],[\"meta\",{\"name\":\"msapplication-TileColor\",\"content\":\"#000000\"}],[\"meta\",{\"name\":\"msapplication-tap-highlight\",\"content\":\"no\"}],[\"link\",{\"rel\":\"apple-touch-icon\",\"sizes\":\"180x180\",\"href\":\"/assets/images/favicons/apple-icon-180x180.png\"}],[\"link\",{\"rel\":\"icon\",\"type\":\"image/png\",\"sizes\":\"32x32\",\"href\":\"/assets/images/favicons/favicon-32x32.png\"}],[\"link\",{\"rel\":\"icon\",\"type\":\"image/png\",\"sizes\":\"16x16\",\"href\":\"/assets/images/favicons/favicon-16x16.png\"}],[\"link\",{\"rel\":\"manifest\",\"href\":\"/manifest.json\"}],[\"link\",{\"rel\":\"shortcut icon\",\"href\":\"/assets/images/favicons/favicon-96x96.png\"}]]}</script><script nomodule=\"\" src=\"/_next/static/chunks/polyfills-392e5f403eb93f794bfe.js\"></script><script src=\"/_next/static/chunks/main-0581ef54591f3828db54.js\" async=\"\"></script><script src=\"/_next/static/chunks/webpack-3ef406eee9db7106b4c2.js\" async=\"\"></script><script src=\"/_next/static/chunks/framework.a4fd7167b233464d44bd.js\" async=\"\"></script><script src=\"/_next/static/chunks/codedamn-css-files.d3f3b9dee2de5d1be764.js\" async=\"\"></script><script src=\"/_next/static/chunks/pages/_app-19f5f921e60cabcd9a2e.js\" async=\"\"></script><script src=\"/_next/static/chunks/c0d53ec4.9785fcfc57c773dba832.js\" async=\"\"></script><script src=\"/_next/static/chunks/pages/index-90fce1aa6da7b3f92de9.js\" async=\"\"></script><script src=\"/_next/static/L0_nAGDpcjkBXivhzz82U/_buildManifest.js\" async=\"\"></script><script src=\"/_next/static/L0_nAGDpcjkBXivhzz82U/_ssgManifest.js\" async=\"\"></script></body></html>\n",
      "200\n"
     ]
    }
   ],
   "source": [
    "import requests\n",
    "\n",
    "res = requests.get('https://codedamn.com')\n",
    "\n",
    "print(res.text)\n",
    "print(res.status_code)"
   ]
  },
  {
   "cell_type": "code",
   "execution_count": 14,
   "metadata": {},
   "outputs": [
    {
     "data": {
      "text/plain": [
       "<!DOCTYPE html>\n",
       "<html class=\"text-gray-500 antialiased bg-white js-focus-visible\" lang=\"en\"><head><meta charset=\"utf-8\"/><meta content=\"summary_large_image\" name=\"twitter:card\"/><meta content=\"@codedamncom\" name=\"twitter:site\"/><meta content=\"@mehulmpt\" name=\"twitter:creator\"/><meta content=\"261251371039658\" property=\"fb:app_id\"/><meta content=\"https://codedamn.com/assets/images/cover.jpg\" property=\"og:url\"/><meta content=\"website\" property=\"og:type\"/><meta content=\"codedamn\" property=\"og:title\"/><meta content=\"Learn about today's job skills - frontend, backend, fullstack, mobile app development and practice online with thousands of developers. codedamn is the best way to learn to code online. Start with HTML, CSS, JavaScript, SQL, Python, Data Science, and more\" property=\"og:description\"/><meta content=\"https://codedamn.com/assets/images/cover.jpg\" property=\"og:image\"/><meta content=\"codedamn cover image\" property=\"og:image:alt\"/><meta content=\"1280\" property=\"og:image:width\"/><meta content=\"720\" property=\"og:image:height\"/><meta content=\"codedamn\" property=\"og:site_name\"/><title>codedamn - Learn coding like it's 2026</title><meta content=\"index,follow\" name=\"robots\"/><meta content=\"index,follow\" name=\"googlebot\"/><meta content=\"Learn about today's job skills - frontend, backend, fullstack, mobile app development and practice online with thousands of developers. codedamn is the best way to learn to code online. Start with HTML, CSS, JavaScript, SQL, Python, Data Science, and more\" name=\"description\"/><script defer=\"\">(function(i,s,o,g,r,a,m){i['GoogleAnalyticsObject']=r;i[r]=i[r]||function(){\n",
       "(i[r].q=i[r].q||[]).push(arguments)},i[r].l=1*new Date();a=s.createElement(o),\n",
       "m=s.getElementsByTagName(o)[0];a.async=1;a.src=g;m.parentNode.insertBefore(a,m)\n",
       "})(window,document,'script','https://www.google-analytics.com/analytics.js','ga');\n",
       "ga('create', 'UA-120902510-1', 'auto');\n",
       "ga('send', 'pageview');</script><script defer=\"\">!function(f,b,e,v,n,t,s)\n",
       "  {if(f.fbq)return;n=f.fbq=function(){n.callMethod?\n",
       "  n.callMethod.apply(n,arguments):n.queue.push(arguments)};\n",
       "  if(!f._fbq)f._fbq=n;n.push=n;n.loaded=!0;n.version='2.0';\n",
       "  n.queue=[];t=b.createElement(e);t.async=!0;\n",
       "  t.src=v;s=b.getElementsByTagName(e)[0];\n",
       "  s.parentNode.insertBefore(t,s)}(window, document,'script',\n",
       "  'https://connect.facebook.net/en_US/fbevents.js');\n",
       "  fbq('init', '471148730684170');\n",
       "  fbq('track', 'PageView');</script><noscript><img height=\"1\" src=\"https://www.facebook.com/tr?id=471148730684170&amp;ev=PageView&amp;noscript=1\" style=\"display:none\" width=\"1\"/></noscript><meta content=\"minimum-scale=1, initial-scale=1, width=device-width, shrink-to-fit=no\" name=\"viewport\"/><meta content=\"codedamn\" name=\"application-name\"/><meta content=\"yes\" name=\"apple-mobile-web-app-capable\"/><meta content=\"default\" name=\"apple-mobile-web-app-status-bar-style\"/><meta content=\"codedamn\" name=\"apple-mobile-web-app-title\"/><meta content=\"telephone=no\" name=\"format-detection\"/><meta content=\"yes\" name=\"mobile-web-app-capable\"/><meta content=\"/assets/images/favicons/browserconfig.xml\" name=\"msapplication-config\"/><meta content=\"#000000\" name=\"msapplication-TileColor\"/><meta content=\"no\" name=\"msapplication-tap-highlight\"/><link href=\"/assets/images/favicons/apple-icon-180x180.png\" rel=\"apple-touch-icon\" sizes=\"180x180\"/><link href=\"/assets/images/favicons/favicon-32x32.png\" rel=\"icon\" sizes=\"32x32\" type=\"image/png\"/><link href=\"/assets/images/favicons/favicon-16x16.png\" rel=\"icon\" sizes=\"16x16\" type=\"image/png\"/><link href=\"/manifest.json\" rel=\"manifest\"/><link href=\"/assets/images/favicons/favicon-96x96.png\" rel=\"shortcut icon\"/><link as=\"style\" href=\"/_next/static/css/codedamn-css-files.8dbd3381.css\" rel=\"preload\"/><link data-n-g=\"\" href=\"/_next/static/css/codedamn-css-files.8dbd3381.css\" rel=\"stylesheet\"/><link as=\"style\" href=\"/_next/static/css/pages/index.4fad51e7.css\" rel=\"preload\"/><link data-n-p=\"\" href=\"/_next/static/css/pages/index.4fad51e7.css\" rel=\"stylesheet\"/><noscript data-n-css=\"true\"></noscript><link as=\"script\" href=\"/_next/static/chunks/main-0581ef54591f3828db54.js\" rel=\"preload\"/><link as=\"script\" href=\"/_next/static/chunks/webpack-3ef406eee9db7106b4c2.js\" rel=\"preload\"/><link as=\"script\" href=\"/_next/static/chunks/framework.a4fd7167b233464d44bd.js\" rel=\"preload\"/><link as=\"script\" href=\"/_next/static/chunks/codedamn-css-files.d3f3b9dee2de5d1be764.js\" rel=\"preload\"/><link as=\"script\" href=\"/_next/static/chunks/pages/_app-19f5f921e60cabcd9a2e.js\" rel=\"preload\"/><link as=\"script\" href=\"/_next/static/chunks/c0d53ec4.9785fcfc57c773dba832.js\" rel=\"preload\"/><link as=\"script\" href=\"/_next/static/chunks/pages/index-90fce1aa6da7b3f92de9.js\" rel=\"preload\"/><style id=\"jss-server-side\">.MuiSvgIcon-root {\n",
       "  fill: currentColor;\n",
       "  width: 1em;\n",
       "  height: 1em;\n",
       "  display: inline-block;\n",
       "  font-size: 1.5rem;\n",
       "  transition: fill 200ms cubic-bezier(0.4, 0, 0.2, 1) 0ms;\n",
       "  flex-shrink: 0;\n",
       "  user-select: none;\n",
       "}\n",
       ".MuiSvgIcon-colorPrimary {\n",
       "  color: #3f51b5;\n",
       "}\n",
       ".MuiSvgIcon-colorSecondary {\n",
       "  color: #f50057;\n",
       "}\n",
       ".MuiSvgIcon-colorAction {\n",
       "  color: rgba(0, 0, 0, 0.54);\n",
       "}\n",
       ".MuiSvgIcon-colorError {\n",
       "  color: #f44336;\n",
       "}\n",
       ".MuiSvgIcon-colorDisabled {\n",
       "  color: rgba(0, 0, 0, 0.26);\n",
       "}\n",
       ".MuiSvgIcon-fontSizeInherit {\n",
       "  font-size: inherit;\n",
       "}\n",
       ".MuiSvgIcon-fontSizeSmall {\n",
       "  font-size: 1.25rem;\n",
       "}\n",
       ".MuiSvgIcon-fontSizeLarge {\n",
       "  font-size: 2.1875rem;\n",
       "}\n",
       "@media print {\n",
       "  .MuiDialog-root {\n",
       "    position: absolute !important;\n",
       "  }\n",
       "}\n",
       "  .MuiDialog-scrollPaper {\n",
       "    display: flex;\n",
       "    align-items: center;\n",
       "    justify-content: center;\n",
       "  }\n",
       "  .MuiDialog-scrollBody {\n",
       "    overflow-x: hidden;\n",
       "    overflow-y: auto;\n",
       "    text-align: center;\n",
       "  }\n",
       "  .MuiDialog-scrollBody:after {\n",
       "    width: 0;\n",
       "    height: 100%;\n",
       "    content: \"\";\n",
       "    display: inline-block;\n",
       "    vertical-align: middle;\n",
       "  }\n",
       "  .MuiDialog-container {\n",
       "    height: 100%;\n",
       "    outline: 0;\n",
       "  }\n",
       "@media print {\n",
       "  .MuiDialog-container {\n",
       "    height: auto;\n",
       "  }\n",
       "}\n",
       "  .MuiDialog-paper {\n",
       "    margin: 32px;\n",
       "    position: relative;\n",
       "    overflow-y: auto;\n",
       "  }\n",
       "@media print {\n",
       "  .MuiDialog-paper {\n",
       "    box-shadow: none;\n",
       "    overflow-y: visible;\n",
       "  }\n",
       "}\n",
       "  .MuiDialog-paperScrollPaper {\n",
       "    display: flex;\n",
       "    max-height: calc(100% - 64px);\n",
       "    flex-direction: column;\n",
       "  }\n",
       "  .MuiDialog-paperScrollBody {\n",
       "    display: inline-block;\n",
       "    text-align: left;\n",
       "    vertical-align: middle;\n",
       "  }\n",
       "  .MuiDialog-paperWidthFalse {\n",
       "    max-width: calc(100% - 64px);\n",
       "  }\n",
       "  .MuiDialog-paperWidthXs {\n",
       "    max-width: 444px;\n",
       "  }\n",
       "@media (max-width:507.95px) {\n",
       "  .MuiDialog-paperWidthXs.MuiDialog-paperScrollBody {\n",
       "    max-width: calc(100% - 64px);\n",
       "  }\n",
       "}\n",
       "  .MuiDialog-paperWidthSm {\n",
       "    max-width: 600px;\n",
       "  }\n",
       "@media (max-width:663.95px) {\n",
       "  .MuiDialog-paperWidthSm.MuiDialog-paperScrollBody {\n",
       "    max-width: calc(100% - 64px);\n",
       "  }\n",
       "}\n",
       "  .MuiDialog-paperWidthMd {\n",
       "    max-width: 960px;\n",
       "  }\n",
       "@media (max-width:1023.95px) {\n",
       "  .MuiDialog-paperWidthMd.MuiDialog-paperScrollBody {\n",
       "    max-width: calc(100% - 64px);\n",
       "  }\n",
       "}\n",
       "  .MuiDialog-paperWidthLg {\n",
       "    max-width: 1280px;\n",
       "  }\n",
       "@media (max-width:1343.95px) {\n",
       "  .MuiDialog-paperWidthLg.MuiDialog-paperScrollBody {\n",
       "    max-width: calc(100% - 64px);\n",
       "  }\n",
       "}\n",
       "  .MuiDialog-paperWidthXl {\n",
       "    max-width: 1920px;\n",
       "  }\n",
       "@media (max-width:1983.95px) {\n",
       "  .MuiDialog-paperWidthXl.MuiDialog-paperScrollBody {\n",
       "    max-width: calc(100% - 64px);\n",
       "  }\n",
       "}\n",
       "  .MuiDialog-paperFullWidth {\n",
       "    width: calc(100% - 64px);\n",
       "  }\n",
       "  .MuiDialog-paperFullScreen {\n",
       "    width: 100%;\n",
       "    height: 100%;\n",
       "    margin: 0;\n",
       "    max-width: 100%;\n",
       "    max-height: none;\n",
       "    border-radius: 0;\n",
       "  }\n",
       "  .MuiDialog-paperFullScreen.MuiDialog-paperScrollBody {\n",
       "    margin: 0;\n",
       "    max-width: 100%;\n",
       "  }\n",
       "  .MuiDrawer-docked {\n",
       "    flex: 0 0 auto;\n",
       "  }\n",
       "  .MuiDrawer-paper {\n",
       "    top: 0;\n",
       "    flex: 1 0 auto;\n",
       "    height: 100%;\n",
       "    display: flex;\n",
       "    outline: 0;\n",
       "    z-index: 1200;\n",
       "    position: fixed;\n",
       "    overflow-y: auto;\n",
       "    flex-direction: column;\n",
       "    -webkit-overflow-scrolling: touch;\n",
       "  }\n",
       "  .MuiDrawer-paperAnchorLeft {\n",
       "    left: 0;\n",
       "    right: auto;\n",
       "  }\n",
       "  .MuiDrawer-paperAnchorRight {\n",
       "    left: auto;\n",
       "    right: 0;\n",
       "  }\n",
       "  .MuiDrawer-paperAnchorTop {\n",
       "    top: 0;\n",
       "    left: 0;\n",
       "    right: 0;\n",
       "    bottom: auto;\n",
       "    height: auto;\n",
       "    max-height: 100%;\n",
       "  }\n",
       "  .MuiDrawer-paperAnchorBottom {\n",
       "    top: auto;\n",
       "    left: 0;\n",
       "    right: 0;\n",
       "    bottom: 0;\n",
       "    height: auto;\n",
       "    max-height: 100%;\n",
       "  }\n",
       "  .MuiDrawer-paperAnchorDockedLeft {\n",
       "    border-right: 1px solid rgba(0, 0, 0, 0.12);\n",
       "  }\n",
       "  .MuiDrawer-paperAnchorDockedTop {\n",
       "    border-bottom: 1px solid rgba(0, 0, 0, 0.12);\n",
       "  }\n",
       "  .MuiDrawer-paperAnchorDockedRight {\n",
       "    border-left: 1px solid rgba(0, 0, 0, 0.12);\n",
       "  }\n",
       "  .MuiDrawer-paperAnchorDockedBottom {\n",
       "    border-top: 1px solid rgba(0, 0, 0, 0.12);\n",
       "  }</style></head><body><div id=\"__next\"><div id=\"root\"><header class=\"space-x-4 w-full flex mx-auto bg-white justify-center items-stretch text-gray-800 fixed top-0\" style=\"height:60px;box-shadow:0 0 5px #cecece;z-index:1500;position:fixed\"><div class=\"justify-between flex lg:justify-center items-center lg:pl-6 lg:pr-0\"><div class=\"block mx-4 flex-shrink-0 lg:hidden cursor-pointer\" data-testid=\"menutoggle\"><svg aria-hidden=\"true\" class=\"MuiSvgIcon-root\" data-testid=\"menuclose\" focusable=\"false\" viewbox=\"0 0 24 24\"><path d=\"M3 18h18v-2H3v2zm0-5h18v-2H3v2zm0-7v2h18V6H3z\"></path></svg></div><a class=\"flex flex-row justify-center items-center\" href=\"/\"><div style=\"max-width:100%;width:31px\"><div style=\"position:relative;padding-bottom:161.29032258064515%\"><img alt=\"codedamn header logo\" class=\"__lazy\" data-src=\"/_next/image?url=%2Fassets%2Fimages%2Fred-logo.png&amp;w=320&amp;q=75\" data-srcset=\"/_next/image?url=%2Fassets%2Fimages%2Fred-logo.png&amp;w=320&amp;q=75 320w\" style=\"visibility:hidden;height:100%;left:0;position:absolute;top:0;width:100%\"/></div></div><div class=\"hidden md:block ml-2 text-lg font-bold text-gray-900\">codedamn</div></a></div><div class=\"relative flex-grow flex-shrink-0 self-center mx-auto text-gray-600 h-10 _3MQpxtHmUsep27XnSvax\"><input autocomplete=\"off\" class=\"cursor-pointer border-2 w-full border-gray-300 bg-white h-full px-5 pr-16 rounded-lg text-sm focus:outline-none\" disabled=\"\" placeholder=\"Search anything...\" type=\"text\" value=\"\"/><button class=\"absolute right-3 top-0 bottom-0 flex justify-center items-center\" type=\"submit\"><svg class=\"text-gray-600 h-4 w-4 fill-current\" height=\"512px\" id=\"Capa_1\" style=\"enable-background:new 0 0 56.966 56.966\" version=\"1.1\" viewbox=\"0 0 56.966 56.966\" width=\"512px\" x=\"0px\" y=\"0px\"><path d=\"M55.146,51.887L41.588,37.786c3.486-4.144,5.396-9.358,5.396-14.786c0-12.682-10.318-23-23-23s-23,10.318-23,23  s10.318,23,23,23c4.761,0,9.298-1.436,13.177-4.162l13.661,14.208c0.571,0.593,1.339,0.92,2.162,0.92  c0.779,0,1.518-0.297,2.079-0.837C56.255,54.982,56.293,53.08,55.146,51.887z M23.984,6c9.374,0,17,7.626,17,17s-7.626,17-17,17  s-17-7.626-17-17S14.61,6,23.984,6z\"></path></svg></button></div><nav class=\"hidden lg:flex flex-row items-stretch flex-grow\"><div class=\"flex flex-grow flex-shrink-0 mr-4\"><a class=\"flex-shrink-0 text-gray-900 px-2 flex justify-center items-center hover:text-gray-800 hover:bg-gray-100\" href=\"/learning-paths\">Learning Paths</a><a class=\"flex-shrink-0 text-gray-900 px-2 flex justify-center items-center hover:text-gray-800 hover:bg-gray-100\" href=\"/classrooms\">Projects</a><a class=\"flex-shrink-0 text-gray-900 px-2 flex justify-center items-center hover:text-gray-800 hover:bg-gray-100\" href=\"/courses\">Courses</a><a class=\"flex-shrink-0 text-gray-900 px-2 flex justify-center items-center hover:text-gray-800 hover:bg-gray-100\" href=\"/pricing\">Pricing</a><a class=\"flex-shrink-0 text-gray-900 px-2 flex justify-center items-center hover:text-gray-800 hover:bg-gray-100\" href=\"/contact\">Contact Us</a><div class=\"flex-grow\"></div><a class=\"flex-shrink-0 text-gray-900 px-2 flex justify-center items-center round\" href=\"/dashboard\"><span class=\"bg-gray-900 rounded-full text-white px-6 py-2\">Dashboard</span></a><a class=\"flex-shrink-0 text-gray-900 px-2 flex justify-center items-center hover:text-gray-800 hover:bg-gray-100\" href=\"/settings\">Settings</a><a class=\"flex-shrink-0 text-gray-900 px-2 flex justify-center items-center hover:text-gray-800 hover:bg-gray-100\" href=\"/logout\">Logout</a></div></nav><div class=\"block lg:hidden\"></div></header><div style=\"height:60px;width:100%\"></div><div class=\"asyncComponent\"><div class=\"max-w-8xl mx-auto p-10\"><h1 class=\"font-extrabold text-4xl sm:text-6xl lg:text-7xl text-center tracking-tight text-gray-900 mt-3 lg:mt-10\" data-testid=\"main-title\">Learn web development with mentorship, hands-on practice, and courses.</h1></div><p class=\"max-w-2xl w-full mx-auto text-center lg:text-2xl sm:text-xl px-10\">codedamn helps you learn, implement, and work real-world programming industry skills.</p><div class=\"mx-auto mt-10 space-y-2 lg:flex lg:flex-row lg:space-x-5 lg:space-y-0\"><a class=\"flex w-full sm:w-auto flex-none bg-gray-900 hover:bg-gray-700 text-white justify-center text-center text-base md:text-xl lg:text-2xl leading-6 font-semibold py-4 md:px-16 border border-transparent rounded-xl focus:ring-2 focus:ring-offset-2 focus:ring-offset-white focus:ring-gray-900 focus:outline-none transition-colors duration-200\" data-testid=\"mobile-startnow\" href=\"/learning-paths\">Start Learning Free</a><a class=\"flex w-full sm:w-auto flex-none bg-transparent border-gray-600 hover:bg-gray-900 hover:text-white text-gray-800 justify-center text-center text-base md:text-xl lg:text-2xl leading-6 font-semibold py-4 px-16 border border-transparent rounded-xl focus:ring-2 focus:ring-offset-2 focus:ring-offset-white focus:ring-gray-900 focus:outline-none transition-colors duration-200\" data-testid=\"mobile-startnow\" href=\"/pricing\">Get codedamn 1337</a></div><section class=\"mt-10 lg:mt-20 text-center bg-gray-900 py-10\"><h2 class=\"text-white text-3xl text-center sm:text-5xl lg:text-6xl leading-none font-extrabold tracking-tight mb-8\">The Perfect Practice Environment</h2><p class=\"text-lg text-white\">A million platforms out there to practice algorithms</p><p class=\"text-lg text-white\">But <b>zero</b> for practicing real-world coding</p><p class=\"text-lg text-white mb-10\">How do you practice databases, linking frontends and backends - real-world coding?</p><div class=\"bg-gray-600 border-8 rounded-md relative mx-10 flex justify-center items-center\" style=\"min-height:80vh;border-color:#3b3b3b;box-shadow:0 0 20px rgba(0, 0, 0, 0.3)\"><div><div><img alt=\"codedamn playground preview\" class=\"absolute top-0 left-0 w-full h-full z-0 object-right object-cover pointer-events-none __lazy\" data-src=\"/_next/image?url=%2Fassets%2Fimages%2Fbackgrounds%2Fhomepage-preview.png&amp;w=1200&amp;q=80\" data-srcset=\"/_next/image?url=%2Fassets%2Fimages%2Fbackgrounds%2Fhomepage-preview.png&amp;w=320&amp;q=80 320w, /_next/image?url=%2Fassets%2Fimages%2Fbackgrounds%2Fhomepage-preview.png&amp;w=420&amp;q=80 420w, /_next/image?url=%2Fassets%2Fimages%2Fbackgrounds%2Fhomepage-preview.png&amp;w=768&amp;q=80 768w, /_next/image?url=%2Fassets%2Fimages%2Fbackgrounds%2Fhomepage-preview.png&amp;w=1024&amp;q=80 1024w, /_next/image?url=%2Fassets%2Fimages%2Fbackgrounds%2Fhomepage-preview.png&amp;w=1200&amp;q=80 1200w\"/></div></div><div class=\"z-20\"><h2 class=\"text-2xl text-white font-extrabold\"><svg aria-hidden=\"true\" class=\"MuiSvgIcon-root\" focusable=\"false\" viewbox=\"0 0 24 24\"><path d=\"M20 18c1.1 0 1.99-.9 1.99-2L22 6c0-1.1-.9-2-2-2H4c-1.1 0-2 .9-2 2v10c0 1.1.9 2 2 2H0v2h24v-2h-4zM4 6h16v10H4V6z\"></path></svg> Browse from a laptop/desktop to experience demo</h2></div></div></section><section class=\"mt-10 lg:mt-20 flex text-center max-w-screen-lg xl:max-w-screen-xl mx-auto\"><div class=\"px-4 sm:px-6 md:px-8\"><h2 class=\"text-3xl sm:text-5xl lg:text-6xl leading-none font-extrabold text-gray-900 tracking-tight mb-8\">\"Video courses\" don't work alone.</h2><figure><blockquote><p class=\"max-w-4xl text-lg sm:text-2xl font-medium sm:leading-10 space-y-6 mx-auto mb-6\">Being a full-stack web developer for<!-- --> <!-- -->6<!-- --> years and a self-learner since 2012, courses alone is not the answer. Discipline is. And practice. And blogs. And discussions. And projects. And videos too, but not alone. Thus, we built codedamn - a place to learn with top video courses and hands-on practice inside browser, on real servers, in real environment.</p></blockquote><figcaption class=\"sm:text-xl font-medium flex flex-col items-center\"><div class=\"p-1 border-2 border-light-blue-400 rounded-full mb-3\"><div style=\"max-width:100%;width:50px\"><div style=\"position:relative;padding-bottom:100%\"><img class=\"w-10 h-10 rounded-full bg-light-blue-100 __lazy\" data-src=\"/_next/image?url=%2Fassets%2Fimages%2Fcreators%2Fmehul.jpeg&amp;w=320&amp;q=75\" data-srcset=\"/_next/image?url=%2Fassets%2Fimages%2Fcreators%2Fmehul.jpeg&amp;w=320&amp;q=75 320w\" style=\"visibility:hidden;height:100%;left:0;position:absolute;top:0;width:100%\"/></div></div></div><div class=\"text-gray-900\">Mehul Mohan</div><div class=\"text-gray-600\">Founder &amp; mentor - codedamn</div></figcaption></figure></div></section><div class=\"mt-10 lg:mt-20 py-10 space-y-10 bg-gray-900 text-white\"><section class=\"max-w-screen-lg xl:max-w-screen-xl mx-auto\"><div class=\"px-4 sm:px-6 md:px-8 mb-10 sm:mb-16 md:mb-20\"><div class=\"w-12 h-12 rounded-xl bg-gradient-to-br flex items-center justify-center from-purple-400 to-pink-600 mb-8\"><svg fill=\"none\" height=\"32\" viewbox=\"0 0 32 32\" width=\"32\"><g clip-path=\"url(#constraint-based_svg__clip0)\"><g filter=\"url(#constraint-based_svg__filter0_dd)\"><rect fill=\"#F3E8FF\" height=\"12\" rx=\"2\" width=\"12\" x=\"18\" y=\"18\"></rect></g><path clip-rule=\"evenodd\" d=\"M24 16a7 7 0 100-14 7 7 0 000 14zm0-4a3 3 0 100-6 3 3 0 000 6z\" fill=\"#D8B4FE\" fill-rule=\"evenodd\"></path><path d=\"M15.423 23a2 2 0 010 2l-2.346 4.062a2 2 0 01-1.732 1h-4.69a2 2 0 01-1.732-1L2.577 25a2 2 0 010-2l2.346-4.062a2 2 0 011.732-1h4.69a2 2 0 011.732 1L15.423 23z\" fill=\"#D8B4FE\"></path><g filter=\"url(#constraint-based_svg__filter1_dd)\"><path d=\"M7.268 3c.77-1.333 2.694-1.333 3.464 0l5.196 9c.77 1.333-.192 3-1.732 3H3.804c-1.54 0-2.502-1.667-1.732-3l5.196-9z\" fill=\"#F3E8FF\"></path></g></g><defs><filter color-interpolation-filters=\"sRGB\" filterunits=\"userSpaceOnUse\" height=\"18\" id=\"constraint-based_svg__filter0_dd\" width=\"18\" x=\"15\" y=\"16\"><feflood flood-opacity=\"0\" result=\"BackgroundImageFix\"></feflood><fecolormatrix in=\"SourceAlpha\" values=\"0 0 0 0 0 0 0 0 0 0 0 0 0 0 0 0 0 0 127 0\"></fecolormatrix><feoffset dy=\"1\"></feoffset><fegaussianblur stddeviation=\"1\"></fegaussianblur><fecolormatrix values=\"0 0 0 0 0 0 0 0 0 0 0 0 0 0 0 0 0 0 0.06 0\"></fecolormatrix><feblend in2=\"BackgroundImageFix\" result=\"effect1_dropShadow\"></feblend><fecolormatrix in=\"SourceAlpha\" values=\"0 0 0 0 0 0 0 0 0 0 0 0 0 0 0 0 0 0 127 0\"></fecolormatrix><feoffset dy=\"1\"></feoffset><fegaussianblur stddeviation=\"1.5\"></fegaussianblur><fecolormatrix values=\"0 0 0 0 0 0 0 0 0 0 0 0 0 0 0 0 0 0 0.1 0\"></fecolormatrix><feblend in2=\"effect1_dropShadow\" result=\"effect2_dropShadow\"></feblend><feblend in=\"SourceGraphic\" in2=\"effect2_dropShadow\" result=\"shape\"></feblend></filter><filter color-interpolation-filters=\"sRGB\" filterunits=\"userSpaceOnUse\" height=\"19\" id=\"constraint-based_svg__filter1_dd\" width=\"20.398\" x=\"-1.199\" y=\"0\"><feflood flood-opacity=\"0\" result=\"BackgroundImageFix\"></feflood><fecolormatrix in=\"SourceAlpha\" values=\"0 0 0 0 0 0 0 0 0 0 0 0 0 0 0 0 0 0 127 0\"></fecolormatrix><feoffset dy=\"1\"></feoffset><fegaussianblur stddeviation=\"1\"></fegaussianblur><fecolormatrix values=\"0 0 0 0 0 0 0 0 0 0 0 0 0 0 0 0 0 0 0.06 0\"></fecolormatrix><feblend in2=\"BackgroundImageFix\" result=\"effect1_dropShadow\"></feblend><fecolormatrix in=\"SourceAlpha\" values=\"0 0 0 0 0 0 0 0 0 0 0 0 0 0 0 0 0 0 127 0\"></fecolormatrix><feoffset dy=\"1\"></feoffset><fegaussianblur stddeviation=\"1.5\"></fegaussianblur><fecolormatrix values=\"0 0 0 0 0 0 0 0 0 0 0 0 0 0 0 0 0 0 0.1 0\"></fecolormatrix><feblend in2=\"effect1_dropShadow\" result=\"effect2_dropShadow\"></feblend><feblend in=\"SourceGraphic\" in2=\"effect2_dropShadow\" result=\"shape\"></feblend></filter><clippath id=\"constraint-based_svg__clip0\"><path d=\"M0 0h32v32H0z\" fill=\"#fff\"></path></clippath></defs></svg></div><h2 class=\"sm:text-lg sm:leading-snug font-semibold tracking-wide uppercase text-purple-200 mb-3\">Learning Path</h2><p class=\"text-3xl sm:text-5xl lg:text-6xl leading-none font-extrabold text-white tracking-tight mb-8\">Become Frontend Web Developer</p><p class=\"max-w-4xl text-lg sm:text-2xl font-medium sm:leading-10 space-y-6 mb-6\">Our frontend web developer learning path covers everything you need to know, including industry-specific questions/hands-on practice exercises along with HD video courses from top creators.<br/>This comes with mentorship support if you're signed up for 1337 membership.</p><a class=\"inline-flex text-lg sm:text-2xl font-medium transition-colors duration-200 focus:ring-2 focus:ring-offset-2 focus:ring-current focus:outline-none rounded-md text-purple-100 hover:text-purple-400\" href=\"/learning-paths/frontend\">Learn more</a></div></section><div class=\"flex overflow-hidden\"><ul class=\"flex-wrap space-y-3 lg:flex-nowrap lg:space-y-0 flex items-center justify-center w-full py-8\"><li class=\"px-3 md:px-4 flex-none\"><figure class=\"shadow-lg rounded-xl flex-none w-80 md:w-xl\"><blockquote class=\"rounded-t-xl bg-gray-800 px-6 py-8 md:p-10 text-lg md:text-xl leading-8 md:leading-8 font-semibold text-gray-100\"><div class=\"flex flex-row items-center space-x-2\"><div class=\"w-12 h-12 rounded-xl bg-gradient-to-br flex items-center justify-center from-fuchsia-500 to-purple-600\"><svg fill=\"none\" height=\"32\" viewbox=\"0 0 32 32\" width=\"32\"><g clip-path=\"url(#customization_svg__clip0)\"><g filter=\"url(#customization_svg__filter0_dd)\"><rect fill=\"#FDA4AF\" height=\"28\" rx=\"4\" width=\"28\" x=\"2\" y=\"2\"></rect></g><rect fill=\"#FB7185\" height=\"16\" rx=\"2\" width=\"4\" x=\"20\" y=\"8\"></rect><rect fill=\"#FB7185\" height=\"16\" rx=\"2\" width=\"4\" x=\"8\" y=\"8\"></rect><g filter=\"url(#customization_svg__filter1_dd)\"><circle cx=\"10\" cy=\"22\" fill=\"#FFE4E6\" r=\"4\"></circle></g><g filter=\"url(#customization_svg__filter2_dd)\"><circle cx=\"22\" cy=\"10\" fill=\"#FFE4E6\" r=\"4\"></circle></g></g><defs><filter color-interpolation-filters=\"sRGB\" filterunits=\"userSpaceOnUse\" height=\"34\" id=\"customization_svg__filter0_dd\" width=\"34\" x=\"-1\" y=\"0\"><feflood flood-opacity=\"0\" result=\"BackgroundImageFix\"></feflood><fecolormatrix in=\"SourceAlpha\" values=\"0 0 0 0 0 0 0 0 0 0 0 0 0 0 0 0 0 0 127 0\"></fecolormatrix><feoffset dy=\"1\"></feoffset><fegaussianblur stddeviation=\"1\"></fegaussianblur><fecolormatrix values=\"0 0 0 0 0 0 0 0 0 0 0 0 0 0 0 0 0 0 0.06 0\"></fecolormatrix><feblend in2=\"BackgroundImageFix\" result=\"effect1_dropShadow\"></feblend><fecolormatrix in=\"SourceAlpha\" values=\"0 0 0 0 0 0 0 0 0 0 0 0 0 0 0 0 0 0 127 0\"></fecolormatrix><feoffset dy=\"1\"></feoffset><fegaussianblur stddeviation=\"1.5\"></fegaussianblur><fecolormatrix values=\"0 0 0 0 0 0 0 0 0 0 0 0 0 0 0 0 0 0 0.1 0\"></fecolormatrix><feblend in2=\"effect1_dropShadow\" result=\"effect2_dropShadow\"></feblend><feblend in=\"SourceGraphic\" in2=\"effect2_dropShadow\" result=\"shape\"></feblend></filter><filter color-interpolation-filters=\"sRGB\" filterunits=\"userSpaceOnUse\" height=\"14\" id=\"customization_svg__filter1_dd\" width=\"14\" x=\"3\" y=\"16\"><feflood flood-opacity=\"0\" result=\"BackgroundImageFix\"></feflood><fecolormatrix in=\"SourceAlpha\" values=\"0 0 0 0 0 0 0 0 0 0 0 0 0 0 0 0 0 0 127 0\"></fecolormatrix><feoffset dy=\"1\"></feoffset><fegaussianblur stddeviation=\"1\"></fegaussianblur><fecolormatrix values=\"0 0 0 0 0 0 0 0 0 0 0 0 0 0 0 0 0 0 0.06 0\"></fecolormatrix><feblend in2=\"BackgroundImageFix\" result=\"effect1_dropShadow\"></feblend><fecolormatrix in=\"SourceAlpha\" values=\"0 0 0 0 0 0 0 0 0 0 0 0 0 0 0 0 0 0 127 0\"></fecolormatrix><feoffset dy=\"1\"></feoffset><fegaussianblur stddeviation=\"1.5\"></fegaussianblur><fecolormatrix values=\"0 0 0 0 0 0 0 0 0 0 0 0 0 0 0 0 0 0 0.1 0\"></fecolormatrix><feblend in2=\"effect1_dropShadow\" result=\"effect2_dropShadow\"></feblend><feblend in=\"SourceGraphic\" in2=\"effect2_dropShadow\" result=\"shape\"></feblend></filter><filter color-interpolation-filters=\"sRGB\" filterunits=\"userSpaceOnUse\" height=\"14\" id=\"customization_svg__filter2_dd\" width=\"14\" x=\"15\" y=\"4\"><feflood flood-opacity=\"0\" result=\"BackgroundImageFix\"></feflood><fecolormatrix in=\"SourceAlpha\" values=\"0 0 0 0 0 0 0 0 0 0 0 0 0 0 0 0 0 0 127 0\"></fecolormatrix><feoffset dy=\"1\"></feoffset><fegaussianblur stddeviation=\"1\"></fegaussianblur><fecolormatrix values=\"0 0 0 0 0 0 0 0 0 0 0 0 0 0 0 0 0 0 0.06 0\"></fecolormatrix><feblend in2=\"BackgroundImageFix\" result=\"effect1_dropShadow\"></feblend><fecolormatrix in=\"SourceAlpha\" values=\"0 0 0 0 0 0 0 0 0 0 0 0 0 0 0 0 0 0 127 0\"></fecolormatrix><feoffset dy=\"1\"></feoffset><fegaussianblur stddeviation=\"1.5\"></fegaussianblur><fecolormatrix values=\"0 0 0 0 0 0 0 0 0 0 0 0 0 0 0 0 0 0 0.1 0\"></fecolormatrix><feblend in2=\"effect1_dropShadow\" result=\"effect2_dropShadow\"></feblend><feblend in=\"SourceGraphic\" in2=\"effect2_dropShadow\" result=\"shape\"></feblend></filter><clippath id=\"customization_svg__clip0\"><path d=\"M0 0h32v32H0z\" fill=\"#fff\"></path></clippath></defs></svg></div><p>Project</p></div><h3 class=\"mt-8\"><a class=\"text-gray-100 hover:text-gray-200\" href=\"/practice/react-birthday-reminder\">React Birthday Reminder Project</a></h3></blockquote><figcaption class=\"flex items-center space-x-4 p-6 md:px-10 md:py-6 bg-gradient-to-br rounded-b-xl leading-6 font-semibold text-white from-fuchsia-500 to-purple-600\"><div class=\"flex-none w-14 h-14 bg-white rounded-full flex items-center justify-center\"><div style=\"max-width:100%;width:48px\"><div style=\"position:relative;padding-bottom:100%\"><img class=\"w-12 h-12 rounded-full bg-cyan-100 __lazy\" data-src=\"/_next/image?url=%2Fassets%2Fimages%2Fcreators%2Fmehul.jpeg&amp;w=320&amp;q=75\" data-srcset=\"/_next/image?url=%2Fassets%2Fimages%2Fcreators%2Fmehul.jpeg&amp;w=320&amp;q=75 320w\" style=\"visibility:hidden;height:100%;left:0;position:absolute;top:0;width:100%\"/></div></div></div><div class=\"flex-auto\">Mehul Mohan<br/><span class=\"text-green-100\">Full-stack developer</span></div></figcaption></figure></li><li class=\"px-3 md:px-4 flex-none\"><figure class=\"shadow-lg rounded-xl flex-none w-80 md:w-xl\"><blockquote class=\"rounded-t-xl bg-gray-800 px-6 py-8 md:p-10 text-lg md:text-xl leading-8 md:leading-8 font-semibold text-gray-100\"><div class=\"flex flex-row items-center space-x-2\"><div class=\"w-12 h-12 rounded-xl bg-gradient-to-br flex items-center justify-center from-orange-400 to-pink-600\"><svg fill=\"none\" height=\"32\" viewbox=\"0 0 32 32\" width=\"32\"><g clip-path=\"url(#editor-tools_svg__clip0)\"><g filter=\"url(#editor-tools_svg__filter0_dd)\"><path clip-rule=\"evenodd\" d=\"M9.414 9.586a2 2 0 010 2.828L5.828 16l3.586 3.586a2 2 0 11-2.828 2.828l-5-5a2 2 0 010-2.828l5-5a2 2 0 012.828 0z\" fill=\"white\" fill-rule=\"evenodd\"></path></g><g filter=\"url(#editor-tools_svg__filter1_dd)\"><path clip-rule=\"evenodd\" d=\"M22.586 9.586a2 2 0 012.828 0l5 5a2 2 0 010 2.828l-5 5a2 2 0 11-2.828-2.828L26.172 16l-3.586-3.586a2 2 0 010-2.828z\" fill=\"white\" fill-rule=\"evenodd\"></path></g><g filter=\"url(#editor-tools_svg__filter2_dd)\"><path clip-rule=\"evenodd\" d=\"M19.485 2.06a2 2 0 011.456 2.426l-6 24a2 2 0 01-3.88-.97l6-24a2 2 0 012.424-1.456z\" fill=\"white\" fill-rule=\"evenodd\"></path></g></g><defs><filter color-interpolation-filters=\"sRGB\" filterunits=\"userSpaceOnUse\" height=\"20\" id=\"editor-tools_svg__filter0_dd\" width=\"15\" x=\"-2\" y=\"7\"><feflood flood-opacity=\"0\" result=\"BackgroundImageFix\"></feflood><fecolormatrix in=\"SourceAlpha\" values=\"0 0 0 0 0 0 0 0 0 0 0 0 0 0 0 0 0 0 127 0\"></fecolormatrix><feoffset dy=\"1\"></feoffset><fegaussianblur stddeviation=\"1\"></fegaussianblur><fecolormatrix values=\"0 0 0 0 0 0 0 0 0 0 0 0 0 0 0 0 0 0 0.06 0\"></fecolormatrix><feblend in2=\"BackgroundImageFix\" result=\"effect1_dropShadow\"></feblend><fecolormatrix in=\"SourceAlpha\" values=\"0 0 0 0 0 0 0 0 0 0 0 0 0 0 0 0 0 0 127 0\"></fecolormatrix><feoffset dy=\"1\"></feoffset><fegaussianblur stddeviation=\"1.5\"></fegaussianblur><fecolormatrix values=\"0 0 0 0 0 0 0 0 0 0 0 0 0 0 0 0 0 0 0.1 0\"></fecolormatrix><feblend in2=\"effect1_dropShadow\" result=\"effect2_dropShadow\"></feblend><feblend in=\"SourceGraphic\" in2=\"effect2_dropShadow\" result=\"shape\"></feblend></filter><filter color-interpolation-filters=\"sRGB\" filterunits=\"userSpaceOnUse\" height=\"20\" id=\"editor-tools_svg__filter1_dd\" width=\"15\" x=\"19\" y=\"7\"><feflood flood-opacity=\"0\" result=\"BackgroundImageFix\"></feflood><fecolormatrix in=\"SourceAlpha\" values=\"0 0 0 0 0 0 0 0 0 0 0 0 0 0 0 0 0 0 127 0\"></fecolormatrix><feoffset dy=\"1\"></feoffset><fegaussianblur stddeviation=\"1\"></fegaussianblur><fecolormatrix values=\"0 0 0 0 0 0 0 0 0 0 0 0 0 0 0 0 0 0 0.06 0\"></fecolormatrix><feblend in2=\"BackgroundImageFix\" result=\"effect1_dropShadow\"></feblend><fecolormatrix in=\"SourceAlpha\" values=\"0 0 0 0 0 0 0 0 0 0 0 0 0 0 0 0 0 0 127 0\"></fecolormatrix><feoffset dy=\"1\"></feoffset><fegaussianblur stddeviation=\"1.5\"></fegaussianblur><fecolormatrix values=\"0 0 0 0 0 0 0 0 0 0 0 0 0 0 0 0 0 0 0.1 0\"></fecolormatrix><feblend in2=\"effect1_dropShadow\" result=\"effect2_dropShadow\"></feblend><feblend in=\"SourceGraphic\" in2=\"effect2_dropShadow\" result=\"shape\"></feblend></filter><filter color-interpolation-filters=\"sRGB\" filterunits=\"userSpaceOnUse\" height=\"34.001\" id=\"editor-tools_svg__filter2_dd\" width=\"16.001\" x=\"8\" y=\"0\"><feflood flood-opacity=\"0\" result=\"BackgroundImageFix\"></feflood><fecolormatrix in=\"SourceAlpha\" values=\"0 0 0 0 0 0 0 0 0 0 0 0 0 0 0 0 0 0 127 0\"></fecolormatrix><feoffset dy=\"1\"></feoffset><fegaussianblur stddeviation=\"1\"></fegaussianblur><fecolormatrix values=\"0 0 0 0 0 0 0 0 0 0 0 0 0 0 0 0 0 0 0.06 0\"></fecolormatrix><feblend in2=\"BackgroundImageFix\" result=\"effect1_dropShadow\"></feblend><fecolormatrix in=\"SourceAlpha\" values=\"0 0 0 0 0 0 0 0 0 0 0 0 0 0 0 0 0 0 127 0\"></fecolormatrix><feoffset dy=\"1\"></feoffset><fegaussianblur stddeviation=\"1.5\"></fegaussianblur><fecolormatrix values=\"0 0 0 0 0 0 0 0 0 0 0 0 0 0 0 0 0 0 0.1 0\"></fecolormatrix><feblend in2=\"effect1_dropShadow\" result=\"effect2_dropShadow\"></feblend><feblend in=\"SourceGraphic\" in2=\"effect2_dropShadow\" result=\"shape\"></feblend></filter><clippath id=\"editor-tools_svg__clip0\"><path d=\"M0 0h32v32H0z\" fill=\"#fff\"></path></clippath></defs></svg></div><p>Course</p></div><h3 class=\"mt-8\"><a class=\"text-gray-100 hover:text-gray-200\" href=\"/learn/reactjs-projects\">Learn ReactJS by Building 6 Projects</a></h3></blockquote><figcaption class=\"flex items-center space-x-4 p-6 md:px-10 md:py-6 bg-gradient-to-br rounded-b-xl leading-6 font-semibold text-white from-orange-400 to-pink-600\"><div class=\"flex-none w-14 h-14 bg-white rounded-full flex items-center justify-center\"><div style=\"max-width:100%;width:48px\"><div style=\"position:relative;padding-bottom:100%\"><img class=\"w-12 h-12 rounded-full bg-cyan-100 __lazy\" data-src=\"/_next/image?url=https%3A%2F%2Fcreator-assets.codedamn.com%2Fc1a0050f42e365e089ac572bc923a6a05969c66f.png&amp;w=320&amp;q=75\" data-srcset=\"/_next/image?url=https%3A%2F%2Fcreator-assets.codedamn.com%2Fc1a0050f42e365e089ac572bc923a6a05969c66f.png&amp;w=320&amp;q=75 320w\" style=\"visibility:hidden;height:100%;left:0;position:absolute;top:0;width:100%\"/></div></div></div><div class=\"flex-auto\">Pedro Machado<br/><span class=\"text-green-100\">React developer</span></div></figcaption></figure></li><li class=\"px-3 md:px-4 flex-none\"><figure class=\"shadow-lg rounded-xl flex-none w-80 md:w-xl\"><blockquote class=\"rounded-t-xl bg-gray-800 px-6 py-8 md:p-10 text-lg md:text-xl leading-8 md:leading-8 font-semibold text-gray-100\"><div class=\"flex flex-row items-center space-x-2\"><div class=\"w-12 h-12 rounded-xl bg-gradient-to-br flex items-center justify-center from-purple-500 to-indigo-500\"><svg fill=\"none\" height=\"32\" viewbox=\"0 0 32 32\" width=\"32\"><g clip-path=\"url(#editor-tools_svg__clip0)\"><g filter=\"url(#editor-tools_svg__filter0_dd)\"><path clip-rule=\"evenodd\" d=\"M9.414 9.586a2 2 0 010 2.828L5.828 16l3.586 3.586a2 2 0 11-2.828 2.828l-5-5a2 2 0 010-2.828l5-5a2 2 0 012.828 0z\" fill=\"white\" fill-rule=\"evenodd\"></path></g><g filter=\"url(#editor-tools_svg__filter1_dd)\"><path clip-rule=\"evenodd\" d=\"M22.586 9.586a2 2 0 012.828 0l5 5a2 2 0 010 2.828l-5 5a2 2 0 11-2.828-2.828L26.172 16l-3.586-3.586a2 2 0 010-2.828z\" fill=\"white\" fill-rule=\"evenodd\"></path></g><g filter=\"url(#editor-tools_svg__filter2_dd)\"><path clip-rule=\"evenodd\" d=\"M19.485 2.06a2 2 0 011.456 2.426l-6 24a2 2 0 01-3.88-.97l6-24a2 2 0 012.424-1.456z\" fill=\"white\" fill-rule=\"evenodd\"></path></g></g><defs><filter color-interpolation-filters=\"sRGB\" filterunits=\"userSpaceOnUse\" height=\"20\" id=\"editor-tools_svg__filter0_dd\" width=\"15\" x=\"-2\" y=\"7\"><feflood flood-opacity=\"0\" result=\"BackgroundImageFix\"></feflood><fecolormatrix in=\"SourceAlpha\" values=\"0 0 0 0 0 0 0 0 0 0 0 0 0 0 0 0 0 0 127 0\"></fecolormatrix><feoffset dy=\"1\"></feoffset><fegaussianblur stddeviation=\"1\"></fegaussianblur><fecolormatrix values=\"0 0 0 0 0 0 0 0 0 0 0 0 0 0 0 0 0 0 0.06 0\"></fecolormatrix><feblend in2=\"BackgroundImageFix\" result=\"effect1_dropShadow\"></feblend><fecolormatrix in=\"SourceAlpha\" values=\"0 0 0 0 0 0 0 0 0 0 0 0 0 0 0 0 0 0 127 0\"></fecolormatrix><feoffset dy=\"1\"></feoffset><fegaussianblur stddeviation=\"1.5\"></fegaussianblur><fecolormatrix values=\"0 0 0 0 0 0 0 0 0 0 0 0 0 0 0 0 0 0 0.1 0\"></fecolormatrix><feblend in2=\"effect1_dropShadow\" result=\"effect2_dropShadow\"></feblend><feblend in=\"SourceGraphic\" in2=\"effect2_dropShadow\" result=\"shape\"></feblend></filter><filter color-interpolation-filters=\"sRGB\" filterunits=\"userSpaceOnUse\" height=\"20\" id=\"editor-tools_svg__filter1_dd\" width=\"15\" x=\"19\" y=\"7\"><feflood flood-opacity=\"0\" result=\"BackgroundImageFix\"></feflood><fecolormatrix in=\"SourceAlpha\" values=\"0 0 0 0 0 0 0 0 0 0 0 0 0 0 0 0 0 0 127 0\"></fecolormatrix><feoffset dy=\"1\"></feoffset><fegaussianblur stddeviation=\"1\"></fegaussianblur><fecolormatrix values=\"0 0 0 0 0 0 0 0 0 0 0 0 0 0 0 0 0 0 0.06 0\"></fecolormatrix><feblend in2=\"BackgroundImageFix\" result=\"effect1_dropShadow\"></feblend><fecolormatrix in=\"SourceAlpha\" values=\"0 0 0 0 0 0 0 0 0 0 0 0 0 0 0 0 0 0 127 0\"></fecolormatrix><feoffset dy=\"1\"></feoffset><fegaussianblur stddeviation=\"1.5\"></fegaussianblur><fecolormatrix values=\"0 0 0 0 0 0 0 0 0 0 0 0 0 0 0 0 0 0 0.1 0\"></fecolormatrix><feblend in2=\"effect1_dropShadow\" result=\"effect2_dropShadow\"></feblend><feblend in=\"SourceGraphic\" in2=\"effect2_dropShadow\" result=\"shape\"></feblend></filter><filter color-interpolation-filters=\"sRGB\" filterunits=\"userSpaceOnUse\" height=\"34.001\" id=\"editor-tools_svg__filter2_dd\" width=\"16.001\" x=\"8\" y=\"0\"><feflood flood-opacity=\"0\" result=\"BackgroundImageFix\"></feflood><fecolormatrix in=\"SourceAlpha\" values=\"0 0 0 0 0 0 0 0 0 0 0 0 0 0 0 0 0 0 127 0\"></fecolormatrix><feoffset dy=\"1\"></feoffset><fegaussianblur stddeviation=\"1\"></fegaussianblur><fecolormatrix values=\"0 0 0 0 0 0 0 0 0 0 0 0 0 0 0 0 0 0 0.06 0\"></fecolormatrix><feblend in2=\"BackgroundImageFix\" result=\"effect1_dropShadow\"></feblend><fecolormatrix in=\"SourceAlpha\" values=\"0 0 0 0 0 0 0 0 0 0 0 0 0 0 0 0 0 0 127 0\"></fecolormatrix><feoffset dy=\"1\"></feoffset><fegaussianblur stddeviation=\"1.5\"></fegaussianblur><fecolormatrix values=\"0 0 0 0 0 0 0 0 0 0 0 0 0 0 0 0 0 0 0.1 0\"></fecolormatrix><feblend in2=\"effect1_dropShadow\" result=\"effect2_dropShadow\"></feblend><feblend in=\"SourceGraphic\" in2=\"effect2_dropShadow\" result=\"shape\"></feblend></filter><clippath id=\"editor-tools_svg__clip0\"><path d=\"M0 0h32v32H0z\" fill=\"#fff\"></path></clippath></defs></svg></div><p>Course</p></div><h3 class=\"mt-8\"><a class=\"text-gray-100 hover:text-gray-200\" href=\"/learn/html-css\">Advanced HTML5/CSS3 Concepts</a></h3></blockquote><figcaption class=\"flex items-center space-x-4 p-6 md:px-10 md:py-6 bg-gradient-to-br rounded-b-xl leading-6 font-semibold text-white from-purple-500 to-indigo-500\"><div class=\"flex-none w-14 h-14 bg-white rounded-full flex items-center justify-center\"><div style=\"max-width:100%;width:48px\"><div style=\"position:relative;padding-bottom:100%\"><img class=\"w-12 h-12 rounded-full bg-cyan-100 __lazy\" data-src=\"/_next/image?url=%2Fassets%2Fimages%2Fcreators%2Fmehul.jpeg&amp;w=320&amp;q=75\" data-srcset=\"/_next/image?url=%2Fassets%2Fimages%2Fcreators%2Fmehul.jpeg&amp;w=320&amp;q=75 320w\" style=\"visibility:hidden;height:100%;left:0;position:absolute;top:0;width:100%\"/></div></div></div><div class=\"flex-auto\">Mehul Mohan<br/><span class=\"text-green-100\">Full-stack developer</span></div></figcaption></figure></li><li class=\"px-3 md:px-4 flex-none\"><figure class=\"shadow-lg rounded-xl flex-none w-80 md:w-xl\"><blockquote class=\"rounded-t-xl bg-gray-800 px-6 py-8 md:p-10 text-lg md:text-xl leading-8 md:leading-8 font-semibold text-gray-100\"><div class=\"flex flex-row items-center space-x-2\"><div class=\"w-12 h-12 rounded-xl bg-gradient-to-br flex items-center justify-center from-fuchsia-500 to-purple-600\"><svg fill=\"none\" height=\"32\" viewbox=\"0 0 32 32\" width=\"32\"><g clip-path=\"url(#editor-tools_svg__clip0)\"><g filter=\"url(#editor-tools_svg__filter0_dd)\"><path clip-rule=\"evenodd\" d=\"M9.414 9.586a2 2 0 010 2.828L5.828 16l3.586 3.586a2 2 0 11-2.828 2.828l-5-5a2 2 0 010-2.828l5-5a2 2 0 012.828 0z\" fill=\"white\" fill-rule=\"evenodd\"></path></g><g filter=\"url(#editor-tools_svg__filter1_dd)\"><path clip-rule=\"evenodd\" d=\"M22.586 9.586a2 2 0 012.828 0l5 5a2 2 0 010 2.828l-5 5a2 2 0 11-2.828-2.828L26.172 16l-3.586-3.586a2 2 0 010-2.828z\" fill=\"white\" fill-rule=\"evenodd\"></path></g><g filter=\"url(#editor-tools_svg__filter2_dd)\"><path clip-rule=\"evenodd\" d=\"M19.485 2.06a2 2 0 011.456 2.426l-6 24a2 2 0 01-3.88-.97l6-24a2 2 0 012.424-1.456z\" fill=\"white\" fill-rule=\"evenodd\"></path></g></g><defs><filter color-interpolation-filters=\"sRGB\" filterunits=\"userSpaceOnUse\" height=\"20\" id=\"editor-tools_svg__filter0_dd\" width=\"15\" x=\"-2\" y=\"7\"><feflood flood-opacity=\"0\" result=\"BackgroundImageFix\"></feflood><fecolormatrix in=\"SourceAlpha\" values=\"0 0 0 0 0 0 0 0 0 0 0 0 0 0 0 0 0 0 127 0\"></fecolormatrix><feoffset dy=\"1\"></feoffset><fegaussianblur stddeviation=\"1\"></fegaussianblur><fecolormatrix values=\"0 0 0 0 0 0 0 0 0 0 0 0 0 0 0 0 0 0 0.06 0\"></fecolormatrix><feblend in2=\"BackgroundImageFix\" result=\"effect1_dropShadow\"></feblend><fecolormatrix in=\"SourceAlpha\" values=\"0 0 0 0 0 0 0 0 0 0 0 0 0 0 0 0 0 0 127 0\"></fecolormatrix><feoffset dy=\"1\"></feoffset><fegaussianblur stddeviation=\"1.5\"></fegaussianblur><fecolormatrix values=\"0 0 0 0 0 0 0 0 0 0 0 0 0 0 0 0 0 0 0.1 0\"></fecolormatrix><feblend in2=\"effect1_dropShadow\" result=\"effect2_dropShadow\"></feblend><feblend in=\"SourceGraphic\" in2=\"effect2_dropShadow\" result=\"shape\"></feblend></filter><filter color-interpolation-filters=\"sRGB\" filterunits=\"userSpaceOnUse\" height=\"20\" id=\"editor-tools_svg__filter1_dd\" width=\"15\" x=\"19\" y=\"7\"><feflood flood-opacity=\"0\" result=\"BackgroundImageFix\"></feflood><fecolormatrix in=\"SourceAlpha\" values=\"0 0 0 0 0 0 0 0 0 0 0 0 0 0 0 0 0 0 127 0\"></fecolormatrix><feoffset dy=\"1\"></feoffset><fegaussianblur stddeviation=\"1\"></fegaussianblur><fecolormatrix values=\"0 0 0 0 0 0 0 0 0 0 0 0 0 0 0 0 0 0 0.06 0\"></fecolormatrix><feblend in2=\"BackgroundImageFix\" result=\"effect1_dropShadow\"></feblend><fecolormatrix in=\"SourceAlpha\" values=\"0 0 0 0 0 0 0 0 0 0 0 0 0 0 0 0 0 0 127 0\"></fecolormatrix><feoffset dy=\"1\"></feoffset><fegaussianblur stddeviation=\"1.5\"></fegaussianblur><fecolormatrix values=\"0 0 0 0 0 0 0 0 0 0 0 0 0 0 0 0 0 0 0.1 0\"></fecolormatrix><feblend in2=\"effect1_dropShadow\" result=\"effect2_dropShadow\"></feblend><feblend in=\"SourceGraphic\" in2=\"effect2_dropShadow\" result=\"shape\"></feblend></filter><filter color-interpolation-filters=\"sRGB\" filterunits=\"userSpaceOnUse\" height=\"34.001\" id=\"editor-tools_svg__filter2_dd\" width=\"16.001\" x=\"8\" y=\"0\"><feflood flood-opacity=\"0\" result=\"BackgroundImageFix\"></feflood><fecolormatrix in=\"SourceAlpha\" values=\"0 0 0 0 0 0 0 0 0 0 0 0 0 0 0 0 0 0 127 0\"></fecolormatrix><feoffset dy=\"1\"></feoffset><fegaussianblur stddeviation=\"1\"></fegaussianblur><fecolormatrix values=\"0 0 0 0 0 0 0 0 0 0 0 0 0 0 0 0 0 0 0.06 0\"></fecolormatrix><feblend in2=\"BackgroundImageFix\" result=\"effect1_dropShadow\"></feblend><fecolormatrix in=\"SourceAlpha\" values=\"0 0 0 0 0 0 0 0 0 0 0 0 0 0 0 0 0 0 127 0\"></fecolormatrix><feoffset dy=\"1\"></feoffset><fegaussianblur stddeviation=\"1.5\"></fegaussianblur><fecolormatrix values=\"0 0 0 0 0 0 0 0 0 0 0 0 0 0 0 0 0 0 0.1 0\"></fecolormatrix><feblend in2=\"effect1_dropShadow\" result=\"effect2_dropShadow\"></feblend><feblend in=\"SourceGraphic\" in2=\"effect2_dropShadow\" result=\"shape\"></feblend></filter><clippath id=\"editor-tools_svg__clip0\"><path d=\"M0 0h32v32H0z\" fill=\"#fff\"></path></clippath></defs></svg></div><p>Course</p></div><h3 class=\"mt-8\"><a class=\"text-gray-100 hover:text-gray-200\" href=\"/learn/javascript-tetris-game\">Learn JavaScript by building Tetris game</a></h3></blockquote><figcaption class=\"flex items-center space-x-4 p-6 md:px-10 md:py-6 bg-gradient-to-br rounded-b-xl leading-6 font-semibold text-white from-fuchsia-500 to-purple-600\"><div class=\"flex-none w-14 h-14 bg-white rounded-full flex items-center justify-center\"><div style=\"max-width:100%;width:48px\"><div style=\"position:relative;padding-bottom:100%\"><img class=\"w-12 h-12 rounded-full bg-cyan-100 __lazy\" data-src=\"/_next/image?url=%2Fassets%2Fimages%2Fcreators%2Faniakubow.jpeg&amp;w=320&amp;q=75\" data-srcset=\"/_next/image?url=%2Fassets%2Fimages%2Fcreators%2Faniakubow.jpeg&amp;w=320&amp;q=75 320w\" style=\"visibility:hidden;height:100%;left:0;position:absolute;top:0;width:100%\"/></div></div></div><div class=\"flex-auto\">Ania Kubow<br/><span class=\"text-green-100\">Frontend Developer</span></div></figcaption></figure></li><li class=\"px-3 md:px-4 flex-none\"><figure class=\"shadow-lg rounded-xl flex-none w-80 md:w-xl\"><blockquote class=\"rounded-t-xl bg-gray-800 px-6 py-8 md:p-10 text-lg md:text-xl leading-8 md:leading-8 font-semibold text-gray-100\"><div class=\"flex flex-row items-center space-x-2\"><div class=\"w-12 h-12 rounded-xl bg-gradient-to-br flex items-center justify-center from-pink-500 to-rose-500\"><svg fill=\"none\" height=\"32\" viewbox=\"0 0 32 32\" width=\"32\"><g clip-path=\"url(#customization_svg__clip0)\"><g filter=\"url(#customization_svg__filter0_dd)\"><rect fill=\"#FDA4AF\" height=\"28\" rx=\"4\" width=\"28\" x=\"2\" y=\"2\"></rect></g><rect fill=\"#FB7185\" height=\"16\" rx=\"2\" width=\"4\" x=\"20\" y=\"8\"></rect><rect fill=\"#FB7185\" height=\"16\" rx=\"2\" width=\"4\" x=\"8\" y=\"8\"></rect><g filter=\"url(#customization_svg__filter1_dd)\"><circle cx=\"10\" cy=\"22\" fill=\"#FFE4E6\" r=\"4\"></circle></g><g filter=\"url(#customization_svg__filter2_dd)\"><circle cx=\"22\" cy=\"10\" fill=\"#FFE4E6\" r=\"4\"></circle></g></g><defs><filter color-interpolation-filters=\"sRGB\" filterunits=\"userSpaceOnUse\" height=\"34\" id=\"customization_svg__filter0_dd\" width=\"34\" x=\"-1\" y=\"0\"><feflood flood-opacity=\"0\" result=\"BackgroundImageFix\"></feflood><fecolormatrix in=\"SourceAlpha\" values=\"0 0 0 0 0 0 0 0 0 0 0 0 0 0 0 0 0 0 127 0\"></fecolormatrix><feoffset dy=\"1\"></feoffset><fegaussianblur stddeviation=\"1\"></fegaussianblur><fecolormatrix values=\"0 0 0 0 0 0 0 0 0 0 0 0 0 0 0 0 0 0 0.06 0\"></fecolormatrix><feblend in2=\"BackgroundImageFix\" result=\"effect1_dropShadow\"></feblend><fecolormatrix in=\"SourceAlpha\" values=\"0 0 0 0 0 0 0 0 0 0 0 0 0 0 0 0 0 0 127 0\"></fecolormatrix><feoffset dy=\"1\"></feoffset><fegaussianblur stddeviation=\"1.5\"></fegaussianblur><fecolormatrix values=\"0 0 0 0 0 0 0 0 0 0 0 0 0 0 0 0 0 0 0.1 0\"></fecolormatrix><feblend in2=\"effect1_dropShadow\" result=\"effect2_dropShadow\"></feblend><feblend in=\"SourceGraphic\" in2=\"effect2_dropShadow\" result=\"shape\"></feblend></filter><filter color-interpolation-filters=\"sRGB\" filterunits=\"userSpaceOnUse\" height=\"14\" id=\"customization_svg__filter1_dd\" width=\"14\" x=\"3\" y=\"16\"><feflood flood-opacity=\"0\" result=\"BackgroundImageFix\"></feflood><fecolormatrix in=\"SourceAlpha\" values=\"0 0 0 0 0 0 0 0 0 0 0 0 0 0 0 0 0 0 127 0\"></fecolormatrix><feoffset dy=\"1\"></feoffset><fegaussianblur stddeviation=\"1\"></fegaussianblur><fecolormatrix values=\"0 0 0 0 0 0 0 0 0 0 0 0 0 0 0 0 0 0 0.06 0\"></fecolormatrix><feblend in2=\"BackgroundImageFix\" result=\"effect1_dropShadow\"></feblend><fecolormatrix in=\"SourceAlpha\" values=\"0 0 0 0 0 0 0 0 0 0 0 0 0 0 0 0 0 0 127 0\"></fecolormatrix><feoffset dy=\"1\"></feoffset><fegaussianblur stddeviation=\"1.5\"></fegaussianblur><fecolormatrix values=\"0 0 0 0 0 0 0 0 0 0 0 0 0 0 0 0 0 0 0.1 0\"></fecolormatrix><feblend in2=\"effect1_dropShadow\" result=\"effect2_dropShadow\"></feblend><feblend in=\"SourceGraphic\" in2=\"effect2_dropShadow\" result=\"shape\"></feblend></filter><filter color-interpolation-filters=\"sRGB\" filterunits=\"userSpaceOnUse\" height=\"14\" id=\"customization_svg__filter2_dd\" width=\"14\" x=\"15\" y=\"4\"><feflood flood-opacity=\"0\" result=\"BackgroundImageFix\"></feflood><fecolormatrix in=\"SourceAlpha\" values=\"0 0 0 0 0 0 0 0 0 0 0 0 0 0 0 0 0 0 127 0\"></fecolormatrix><feoffset dy=\"1\"></feoffset><fegaussianblur stddeviation=\"1\"></fegaussianblur><fecolormatrix values=\"0 0 0 0 0 0 0 0 0 0 0 0 0 0 0 0 0 0 0.06 0\"></fecolormatrix><feblend in2=\"BackgroundImageFix\" result=\"effect1_dropShadow\"></feblend><fecolormatrix in=\"SourceAlpha\" values=\"0 0 0 0 0 0 0 0 0 0 0 0 0 0 0 0 0 0 127 0\"></fecolormatrix><feoffset dy=\"1\"></feoffset><fegaussianblur stddeviation=\"1.5\"></fegaussianblur><fecolormatrix values=\"0 0 0 0 0 0 0 0 0 0 0 0 0 0 0 0 0 0 0.1 0\"></fecolormatrix><feblend in2=\"effect1_dropShadow\" result=\"effect2_dropShadow\"></feblend><feblend in=\"SourceGraphic\" in2=\"effect2_dropShadow\" result=\"shape\"></feblend></filter><clippath id=\"customization_svg__clip0\"><path d=\"M0 0h32v32H0z\" fill=\"#fff\"></path></clippath></defs></svg></div><p>Project</p></div><h3 class=\"mt-8\"><a class=\"text-gray-100 hover:text-gray-200\" href=\"/practice/html-css-practice-projects\">HTML/CSS Practice Projects</a></h3></blockquote><figcaption class=\"flex items-center space-x-4 p-6 md:px-10 md:py-6 bg-gradient-to-br rounded-b-xl leading-6 font-semibold text-white from-pink-500 to-rose-500\"><div class=\"flex-none w-14 h-14 bg-white rounded-full flex items-center justify-center\"><div style=\"max-width:100%;width:48px\"><div style=\"position:relative;padding-bottom:100%\"><img class=\"w-12 h-12 rounded-full bg-cyan-100 __lazy\" data-src=\"/_next/image?url=%2Fassets%2Fimages%2Fcreators%2Fmehul.jpeg&amp;w=320&amp;q=75\" data-srcset=\"/_next/image?url=%2Fassets%2Fimages%2Fcreators%2Fmehul.jpeg&amp;w=320&amp;q=75 320w\" style=\"visibility:hidden;height:100%;left:0;position:absolute;top:0;width:100%\"/></div></div></div><div class=\"flex-auto\">Mehul Mohan<br/><span class=\"text-green-100\">Full-stack developer</span></div></figcaption></figure></li><li class=\"px-3 md:px-4 flex-none\"><figure class=\"shadow-lg rounded-xl flex-none w-80 md:w-xl\"><blockquote class=\"rounded-t-xl bg-gray-800 px-6 py-8 md:p-10 text-lg md:text-xl leading-8 md:leading-8 font-semibold text-gray-100\"><div class=\"flex flex-row items-center space-x-2\"><div class=\"w-12 h-12 rounded-xl bg-gradient-to-br flex items-center justify-center from-orange-400 to-pink-600\"><svg fill=\"none\" height=\"32\" viewbox=\"0 0 32 32\" width=\"32\"><g clip-path=\"url(#editor-tools_svg__clip0)\"><g filter=\"url(#editor-tools_svg__filter0_dd)\"><path clip-rule=\"evenodd\" d=\"M9.414 9.586a2 2 0 010 2.828L5.828 16l3.586 3.586a2 2 0 11-2.828 2.828l-5-5a2 2 0 010-2.828l5-5a2 2 0 012.828 0z\" fill=\"white\" fill-rule=\"evenodd\"></path></g><g filter=\"url(#editor-tools_svg__filter1_dd)\"><path clip-rule=\"evenodd\" d=\"M22.586 9.586a2 2 0 012.828 0l5 5a2 2 0 010 2.828l-5 5a2 2 0 11-2.828-2.828L26.172 16l-3.586-3.586a2 2 0 010-2.828z\" fill=\"white\" fill-rule=\"evenodd\"></path></g><g filter=\"url(#editor-tools_svg__filter2_dd)\"><path clip-rule=\"evenodd\" d=\"M19.485 2.06a2 2 0 011.456 2.426l-6 24a2 2 0 01-3.88-.97l6-24a2 2 0 012.424-1.456z\" fill=\"white\" fill-rule=\"evenodd\"></path></g></g><defs><filter color-interpolation-filters=\"sRGB\" filterunits=\"userSpaceOnUse\" height=\"20\" id=\"editor-tools_svg__filter0_dd\" width=\"15\" x=\"-2\" y=\"7\"><feflood flood-opacity=\"0\" result=\"BackgroundImageFix\"></feflood><fecolormatrix in=\"SourceAlpha\" values=\"0 0 0 0 0 0 0 0 0 0 0 0 0 0 0 0 0 0 127 0\"></fecolormatrix><feoffset dy=\"1\"></feoffset><fegaussianblur stddeviation=\"1\"></fegaussianblur><fecolormatrix values=\"0 0 0 0 0 0 0 0 0 0 0 0 0 0 0 0 0 0 0.06 0\"></fecolormatrix><feblend in2=\"BackgroundImageFix\" result=\"effect1_dropShadow\"></feblend><fecolormatrix in=\"SourceAlpha\" values=\"0 0 0 0 0 0 0 0 0 0 0 0 0 0 0 0 0 0 127 0\"></fecolormatrix><feoffset dy=\"1\"></feoffset><fegaussianblur stddeviation=\"1.5\"></fegaussianblur><fecolormatrix values=\"0 0 0 0 0 0 0 0 0 0 0 0 0 0 0 0 0 0 0.1 0\"></fecolormatrix><feblend in2=\"effect1_dropShadow\" result=\"effect2_dropShadow\"></feblend><feblend in=\"SourceGraphic\" in2=\"effect2_dropShadow\" result=\"shape\"></feblend></filter><filter color-interpolation-filters=\"sRGB\" filterunits=\"userSpaceOnUse\" height=\"20\" id=\"editor-tools_svg__filter1_dd\" width=\"15\" x=\"19\" y=\"7\"><feflood flood-opacity=\"0\" result=\"BackgroundImageFix\"></feflood><fecolormatrix in=\"SourceAlpha\" values=\"0 0 0 0 0 0 0 0 0 0 0 0 0 0 0 0 0 0 127 0\"></fecolormatrix><feoffset dy=\"1\"></feoffset><fegaussianblur stddeviation=\"1\"></fegaussianblur><fecolormatrix values=\"0 0 0 0 0 0 0 0 0 0 0 0 0 0 0 0 0 0 0.06 0\"></fecolormatrix><feblend in2=\"BackgroundImageFix\" result=\"effect1_dropShadow\"></feblend><fecolormatrix in=\"SourceAlpha\" values=\"0 0 0 0 0 0 0 0 0 0 0 0 0 0 0 0 0 0 127 0\"></fecolormatrix><feoffset dy=\"1\"></feoffset><fegaussianblur stddeviation=\"1.5\"></fegaussianblur><fecolormatrix values=\"0 0 0 0 0 0 0 0 0 0 0 0 0 0 0 0 0 0 0.1 0\"></fecolormatrix><feblend in2=\"effect1_dropShadow\" result=\"effect2_dropShadow\"></feblend><feblend in=\"SourceGraphic\" in2=\"effect2_dropShadow\" result=\"shape\"></feblend></filter><filter color-interpolation-filters=\"sRGB\" filterunits=\"userSpaceOnUse\" height=\"34.001\" id=\"editor-tools_svg__filter2_dd\" width=\"16.001\" x=\"8\" y=\"0\"><feflood flood-opacity=\"0\" result=\"BackgroundImageFix\"></feflood><fecolormatrix in=\"SourceAlpha\" values=\"0 0 0 0 0 0 0 0 0 0 0 0 0 0 0 0 0 0 127 0\"></fecolormatrix><feoffset dy=\"1\"></feoffset><fegaussianblur stddeviation=\"1\"></fegaussianblur><fecolormatrix values=\"0 0 0 0 0 0 0 0 0 0 0 0 0 0 0 0 0 0 0.06 0\"></fecolormatrix><feblend in2=\"BackgroundImageFix\" result=\"effect1_dropShadow\"></feblend><fecolormatrix in=\"SourceAlpha\" values=\"0 0 0 0 0 0 0 0 0 0 0 0 0 0 0 0 0 0 127 0\"></fecolormatrix><feoffset dy=\"1\"></feoffset><fegaussianblur stddeviation=\"1.5\"></fegaussianblur><fecolormatrix values=\"0 0 0 0 0 0 0 0 0 0 0 0 0 0 0 0 0 0 0.1 0\"></fecolormatrix><feblend in2=\"effect1_dropShadow\" result=\"effect2_dropShadow\"></feblend><feblend in=\"SourceGraphic\" in2=\"effect2_dropShadow\" result=\"shape\"></feblend></filter><clippath id=\"editor-tools_svg__clip0\"><path d=\"M0 0h32v32H0z\" fill=\"#fff\"></path></clippath></defs></svg></div><p>Course</p></div><h3 class=\"mt-8\"><a class=\"text-gray-100 hover:text-gray-200\" href=\"/learn/practice-10-projects-javascript\">Practice JavaScript by building 10+ apps</a></h3></blockquote><figcaption class=\"flex items-center space-x-4 p-6 md:px-10 md:py-6 bg-gradient-to-br rounded-b-xl leading-6 font-semibold text-white from-orange-400 to-pink-600\"><div class=\"flex-none w-14 h-14 bg-white rounded-full flex items-center justify-center\"><div style=\"max-width:100%;width:48px\"><div style=\"position:relative;padding-bottom:100%\"><img class=\"w-12 h-12 rounded-full bg-cyan-100 __lazy\" data-src=\"/_next/image?url=%2Fassets%2Fimages%2Fcreators%2Flaurence.jpg&amp;w=320&amp;q=75\" data-srcset=\"/_next/image?url=%2Fassets%2Fimages%2Fcreators%2Flaurence.jpg&amp;w=320&amp;q=75 320w\" style=\"visibility:hidden;height:100%;left:0;position:absolute;top:0;width:100%\"/></div></div></div><div class=\"flex-auto\">Laurence Svekis<br/><span class=\"text-green-100\">Frontend Developer</span></div></figcaption></figure></li><li class=\"px-3 md:px-4 flex-none\"><figure class=\"shadow-lg rounded-xl flex-none w-80 md:w-xl\"><blockquote class=\"rounded-t-xl bg-gray-800 px-6 py-8 md:p-10 text-lg md:text-xl leading-8 md:leading-8 font-semibold text-gray-100\"><div class=\"flex flex-row items-center space-x-2\"><div class=\"w-12 h-12 rounded-xl bg-gradient-to-br flex items-center justify-center from-light-blue-400 to-indigo-500\"><svg fill=\"none\" height=\"32\" viewbox=\"0 0 32 32\" width=\"32\"><g clip-path=\"url(#customization_svg__clip0)\"><g filter=\"url(#customization_svg__filter0_dd)\"><rect fill=\"#FDA4AF\" height=\"28\" rx=\"4\" width=\"28\" x=\"2\" y=\"2\"></rect></g><rect fill=\"#FB7185\" height=\"16\" rx=\"2\" width=\"4\" x=\"20\" y=\"8\"></rect><rect fill=\"#FB7185\" height=\"16\" rx=\"2\" width=\"4\" x=\"8\" y=\"8\"></rect><g filter=\"url(#customization_svg__filter1_dd)\"><circle cx=\"10\" cy=\"22\" fill=\"#FFE4E6\" r=\"4\"></circle></g><g filter=\"url(#customization_svg__filter2_dd)\"><circle cx=\"22\" cy=\"10\" fill=\"#FFE4E6\" r=\"4\"></circle></g></g><defs><filter color-interpolation-filters=\"sRGB\" filterunits=\"userSpaceOnUse\" height=\"34\" id=\"customization_svg__filter0_dd\" width=\"34\" x=\"-1\" y=\"0\"><feflood flood-opacity=\"0\" result=\"BackgroundImageFix\"></feflood><fecolormatrix in=\"SourceAlpha\" values=\"0 0 0 0 0 0 0 0 0 0 0 0 0 0 0 0 0 0 127 0\"></fecolormatrix><feoffset dy=\"1\"></feoffset><fegaussianblur stddeviation=\"1\"></fegaussianblur><fecolormatrix values=\"0 0 0 0 0 0 0 0 0 0 0 0 0 0 0 0 0 0 0.06 0\"></fecolormatrix><feblend in2=\"BackgroundImageFix\" result=\"effect1_dropShadow\"></feblend><fecolormatrix in=\"SourceAlpha\" values=\"0 0 0 0 0 0 0 0 0 0 0 0 0 0 0 0 0 0 127 0\"></fecolormatrix><feoffset dy=\"1\"></feoffset><fegaussianblur stddeviation=\"1.5\"></fegaussianblur><fecolormatrix values=\"0 0 0 0 0 0 0 0 0 0 0 0 0 0 0 0 0 0 0.1 0\"></fecolormatrix><feblend in2=\"effect1_dropShadow\" result=\"effect2_dropShadow\"></feblend><feblend in=\"SourceGraphic\" in2=\"effect2_dropShadow\" result=\"shape\"></feblend></filter><filter color-interpolation-filters=\"sRGB\" filterunits=\"userSpaceOnUse\" height=\"14\" id=\"customization_svg__filter1_dd\" width=\"14\" x=\"3\" y=\"16\"><feflood flood-opacity=\"0\" result=\"BackgroundImageFix\"></feflood><fecolormatrix in=\"SourceAlpha\" values=\"0 0 0 0 0 0 0 0 0 0 0 0 0 0 0 0 0 0 127 0\"></fecolormatrix><feoffset dy=\"1\"></feoffset><fegaussianblur stddeviation=\"1\"></fegaussianblur><fecolormatrix values=\"0 0 0 0 0 0 0 0 0 0 0 0 0 0 0 0 0 0 0.06 0\"></fecolormatrix><feblend in2=\"BackgroundImageFix\" result=\"effect1_dropShadow\"></feblend><fecolormatrix in=\"SourceAlpha\" values=\"0 0 0 0 0 0 0 0 0 0 0 0 0 0 0 0 0 0 127 0\"></fecolormatrix><feoffset dy=\"1\"></feoffset><fegaussianblur stddeviation=\"1.5\"></fegaussianblur><fecolormatrix values=\"0 0 0 0 0 0 0 0 0 0 0 0 0 0 0 0 0 0 0.1 0\"></fecolormatrix><feblend in2=\"effect1_dropShadow\" result=\"effect2_dropShadow\"></feblend><feblend in=\"SourceGraphic\" in2=\"effect2_dropShadow\" result=\"shape\"></feblend></filter><filter color-interpolation-filters=\"sRGB\" filterunits=\"userSpaceOnUse\" height=\"14\" id=\"customization_svg__filter2_dd\" width=\"14\" x=\"15\" y=\"4\"><feflood flood-opacity=\"0\" result=\"BackgroundImageFix\"></feflood><fecolormatrix in=\"SourceAlpha\" values=\"0 0 0 0 0 0 0 0 0 0 0 0 0 0 0 0 0 0 127 0\"></fecolormatrix><feoffset dy=\"1\"></feoffset><fegaussianblur stddeviation=\"1\"></fegaussianblur><fecolormatrix values=\"0 0 0 0 0 0 0 0 0 0 0 0 0 0 0 0 0 0 0.06 0\"></fecolormatrix><feblend in2=\"BackgroundImageFix\" result=\"effect1_dropShadow\"></feblend><fecolormatrix in=\"SourceAlpha\" values=\"0 0 0 0 0 0 0 0 0 0 0 0 0 0 0 0 0 0 127 0\"></fecolormatrix><feoffset dy=\"1\"></feoffset><fegaussianblur stddeviation=\"1.5\"></fegaussianblur><fecolormatrix values=\"0 0 0 0 0 0 0 0 0 0 0 0 0 0 0 0 0 0 0.1 0\"></fecolormatrix><feblend in2=\"effect1_dropShadow\" result=\"effect2_dropShadow\"></feblend><feblend in=\"SourceGraphic\" in2=\"effect2_dropShadow\" result=\"shape\"></feblend></filter><clippath id=\"customization_svg__clip0\"><path d=\"M0 0h32v32H0z\" fill=\"#fff\"></path></clippath></defs></svg></div><p>Project</p></div><h3 class=\"mt-8\"><a class=\"text-gray-100 hover:text-gray-200\" href=\"/practice/css3-flexbox-basics\">Learn CSS3 Flexbox Layout System</a></h3></blockquote><figcaption class=\"flex items-center space-x-4 p-6 md:px-10 md:py-6 bg-gradient-to-br rounded-b-xl leading-6 font-semibold text-white from-light-blue-400 to-indigo-500\"><div class=\"flex-none w-14 h-14 bg-white rounded-full flex items-center justify-center\"><div style=\"max-width:100%;width:48px\"><div style=\"position:relative;padding-bottom:100%\"><img class=\"w-12 h-12 rounded-full bg-cyan-100 __lazy\" data-src=\"/_next/image?url=%2Fassets%2Fimages%2Fcreators%2Fmehul.jpeg&amp;w=320&amp;q=75\" data-srcset=\"/_next/image?url=%2Fassets%2Fimages%2Fcreators%2Fmehul.jpeg&amp;w=320&amp;q=75 320w\" style=\"visibility:hidden;height:100%;left:0;position:absolute;top:0;width:100%\"/></div></div></div><div class=\"flex-auto\">Mehul Mohan<br/><span class=\"text-green-100\">Full-stack developer</span></div></figcaption></figure></li><li class=\"px-3 md:px-4 flex-none\"><figure class=\"shadow-lg rounded-xl flex-none w-80 md:w-xl\"><blockquote class=\"rounded-t-xl bg-gray-800 px-6 py-8 md:p-10 text-lg md:text-xl leading-8 md:leading-8 font-semibold text-gray-100\"><div class=\"flex flex-row items-center space-x-2\"><div class=\"w-12 h-12 rounded-xl bg-gradient-to-br flex items-center justify-center from-pink-500 to-rose-500\"><svg fill=\"none\" height=\"32\" viewbox=\"0 0 32 32\" width=\"32\"><g clip-path=\"url(#editor-tools_svg__clip0)\"><g filter=\"url(#editor-tools_svg__filter0_dd)\"><path clip-rule=\"evenodd\" d=\"M9.414 9.586a2 2 0 010 2.828L5.828 16l3.586 3.586a2 2 0 11-2.828 2.828l-5-5a2 2 0 010-2.828l5-5a2 2 0 012.828 0z\" fill=\"white\" fill-rule=\"evenodd\"></path></g><g filter=\"url(#editor-tools_svg__filter1_dd)\"><path clip-rule=\"evenodd\" d=\"M22.586 9.586a2 2 0 012.828 0l5 5a2 2 0 010 2.828l-5 5a2 2 0 11-2.828-2.828L26.172 16l-3.586-3.586a2 2 0 010-2.828z\" fill=\"white\" fill-rule=\"evenodd\"></path></g><g filter=\"url(#editor-tools_svg__filter2_dd)\"><path clip-rule=\"evenodd\" d=\"M19.485 2.06a2 2 0 011.456 2.426l-6 24a2 2 0 01-3.88-.97l6-24a2 2 0 012.424-1.456z\" fill=\"white\" fill-rule=\"evenodd\"></path></g></g><defs><filter color-interpolation-filters=\"sRGB\" filterunits=\"userSpaceOnUse\" height=\"20\" id=\"editor-tools_svg__filter0_dd\" width=\"15\" x=\"-2\" y=\"7\"><feflood flood-opacity=\"0\" result=\"BackgroundImageFix\"></feflood><fecolormatrix in=\"SourceAlpha\" values=\"0 0 0 0 0 0 0 0 0 0 0 0 0 0 0 0 0 0 127 0\"></fecolormatrix><feoffset dy=\"1\"></feoffset><fegaussianblur stddeviation=\"1\"></fegaussianblur><fecolormatrix values=\"0 0 0 0 0 0 0 0 0 0 0 0 0 0 0 0 0 0 0.06 0\"></fecolormatrix><feblend in2=\"BackgroundImageFix\" result=\"effect1_dropShadow\"></feblend><fecolormatrix in=\"SourceAlpha\" values=\"0 0 0 0 0 0 0 0 0 0 0 0 0 0 0 0 0 0 127 0\"></fecolormatrix><feoffset dy=\"1\"></feoffset><fegaussianblur stddeviation=\"1.5\"></fegaussianblur><fecolormatrix values=\"0 0 0 0 0 0 0 0 0 0 0 0 0 0 0 0 0 0 0.1 0\"></fecolormatrix><feblend in2=\"effect1_dropShadow\" result=\"effect2_dropShadow\"></feblend><feblend in=\"SourceGraphic\" in2=\"effect2_dropShadow\" result=\"shape\"></feblend></filter><filter color-interpolation-filters=\"sRGB\" filterunits=\"userSpaceOnUse\" height=\"20\" id=\"editor-tools_svg__filter1_dd\" width=\"15\" x=\"19\" y=\"7\"><feflood flood-opacity=\"0\" result=\"BackgroundImageFix\"></feflood><fecolormatrix in=\"SourceAlpha\" values=\"0 0 0 0 0 0 0 0 0 0 0 0 0 0 0 0 0 0 127 0\"></fecolormatrix><feoffset dy=\"1\"></feoffset><fegaussianblur stddeviation=\"1\"></fegaussianblur><fecolormatrix values=\"0 0 0 0 0 0 0 0 0 0 0 0 0 0 0 0 0 0 0.06 0\"></fecolormatrix><feblend in2=\"BackgroundImageFix\" result=\"effect1_dropShadow\"></feblend><fecolormatrix in=\"SourceAlpha\" values=\"0 0 0 0 0 0 0 0 0 0 0 0 0 0 0 0 0 0 127 0\"></fecolormatrix><feoffset dy=\"1\"></feoffset><fegaussianblur stddeviation=\"1.5\"></fegaussianblur><fecolormatrix values=\"0 0 0 0 0 0 0 0 0 0 0 0 0 0 0 0 0 0 0.1 0\"></fecolormatrix><feblend in2=\"effect1_dropShadow\" result=\"effect2_dropShadow\"></feblend><feblend in=\"SourceGraphic\" in2=\"effect2_dropShadow\" result=\"shape\"></feblend></filter><filter color-interpolation-filters=\"sRGB\" filterunits=\"userSpaceOnUse\" height=\"34.001\" id=\"editor-tools_svg__filter2_dd\" width=\"16.001\" x=\"8\" y=\"0\"><feflood flood-opacity=\"0\" result=\"BackgroundImageFix\"></feflood><fecolormatrix in=\"SourceAlpha\" values=\"0 0 0 0 0 0 0 0 0 0 0 0 0 0 0 0 0 0 127 0\"></fecolormatrix><feoffset dy=\"1\"></feoffset><fegaussianblur stddeviation=\"1\"></fegaussianblur><fecolormatrix values=\"0 0 0 0 0 0 0 0 0 0 0 0 0 0 0 0 0 0 0.06 0\"></fecolormatrix><feblend in2=\"BackgroundImageFix\" result=\"effect1_dropShadow\"></feblend><fecolormatrix in=\"SourceAlpha\" values=\"0 0 0 0 0 0 0 0 0 0 0 0 0 0 0 0 0 0 127 0\"></fecolormatrix><feoffset dy=\"1\"></feoffset><fegaussianblur stddeviation=\"1.5\"></fegaussianblur><fecolormatrix values=\"0 0 0 0 0 0 0 0 0 0 0 0 0 0 0 0 0 0 0.1 0\"></fecolormatrix><feblend in2=\"effect1_dropShadow\" result=\"effect2_dropShadow\"></feblend><feblend in=\"SourceGraphic\" in2=\"effect2_dropShadow\" result=\"shape\"></feblend></filter><clippath id=\"editor-tools_svg__clip0\"><path d=\"M0 0h32v32H0z\" fill=\"#fff\"></path></clippath></defs></svg></div><p>Course</p></div><h3 class=\"mt-8\"><a class=\"text-gray-100 hover:text-gray-200\" href=\"/learn/git-basics\">Learn about git and GitHub (VCS)</a></h3></blockquote><figcaption class=\"flex items-center space-x-4 p-6 md:px-10 md:py-6 bg-gradient-to-br rounded-b-xl leading-6 font-semibold text-white from-pink-500 to-rose-500\"><div class=\"flex-none w-14 h-14 bg-white rounded-full flex items-center justify-center\"><div style=\"max-width:100%;width:48px\"><div style=\"position:relative;padding-bottom:100%\"><img class=\"w-12 h-12 rounded-full bg-cyan-100 __lazy\" data-src=\"/_next/image?url=%2Fassets%2Fimages%2Fcreators%2Fanna.jpg&amp;w=320&amp;q=75\" data-srcset=\"/_next/image?url=%2Fassets%2Fimages%2Fcreators%2Fanna.jpg&amp;w=320&amp;q=75 320w\" style=\"visibility:hidden;height:100%;left:0;position:absolute;top:0;width:100%\"/></div></div></div><div class=\"flex-auto\">Anna Skoulikari<br/><span class=\"text-green-100\">Frontend Developer</span></div></figcaption></figure></li></ul></div></div></div><footer class=\"relative bg-gray-900 text-gray-200 px-10 py-10 mx-auto lg:py-20\" style=\"z-index:1500\"><div class=\"max-w-6xl mx-auto flex flex-col space-y-4 md:space-y-0 md:flex-row md:space-x-5\"><div class=\"footerimg mb-5 lg:mr-3 lg:mb-0 flex justify-center lg:justify-end\"><div style=\"max-width:100%;width:50px\"><div style=\"position:relative;padding-bottom:160%\"><img alt=\"codedamn footer logo\" class=\"__lazy\" data-src=\"/_next/image?url=%2Fassets%2Fimages%2Fwhite-logo.png&amp;w=320&amp;q=75\" data-srcset=\"/_next/image?url=%2Fassets%2Fimages%2Fwhite-logo.png&amp;w=320&amp;q=75 320w\" style=\"visibility:hidden;height:100%;left:0;position:absolute;top:0;width:100%\"/></div></div></div><div class=\"flex flex-wrap flex-row flex-grow\"><div class=\"flex-full md:flex-half lg:flex-1\"><h3 class=\"font-bold text-xl mb-5\">CODEDAMN</h3><ul class=\"text-sm flex flex-col space-y-2\"><li><a href=\"/news\">Blog</a></li><li><a href=\"https://discord.gg/5bPhXHP\" rel=\"noreferrer noopener\" target=\"_blank\">Discord Server</a></li><li><a href=\"https://www.youtube.com/codedamn\" rel=\"noreferrer noopener\" target=\"_blank\">YouTube Channel</a></li><li><a href=\"http://bit.ly/codedamn-android\" rel=\"noreferrer noopener\" target=\"_blank\">Android App</a></li><li><a href=\"https://bit.ly/codedamn-ios\" rel=\"noreferrer noopener\" target=\"_blank\">iOS App</a></li></ul></div><div class=\"flex-full mt-4 md:mt-0 md:flex-half lg:mt-0 lg:flex-1\"><h3 class=\"font-bold text-xl mb-5\">PRODUCTS</h3><ul class=\"text-sm flex flex-col space-y-2\"><li><a href=\"/learning-paths\">Learning Paths</a></li><li><a href=\"/courses\">Video Courses</a></li><li><a href=\"/classrooms\">Classrooms</a></li><li><a href=\"/contact\">Enterprise Solutions</a></li></ul></div><div class=\"flex-full mt-4 lg:mt-0 lg:flex-1\"><h3 class=\"font-bold text-xl mb-5\">COMPANY</h3><ul class=\"text-sm flex flex-col space-y-2\"><li><a href=\"/contact\">About</a></li><li><a href=\"/privacy-policy\">Privacy Policy</a></li><li><a href=\"/contact\">Contact Us</a></li></ul></div><div class=\"flex-full mt-4 md:mt-0 md:flex-1\"><h3 class=\"font-bold text-xl mb-5\">SOCIAL</h3><p class=\"text-sm flex flex-col space-y-2\"><a class=\"block\" href=\"https://www.facebook.com/codedamn.com\" rel=\"noreferrer noopener\" target=\"_blank\">Facebook</a> <a class=\"block\" href=\"https://www.twitter.com/codedamncom\" rel=\"noreferrer noopener\" target=\"_blank\">Twitter</a> <a class=\"block\" href=\"https://www.instagram.com/codedamn\" rel=\"noreferrer noopener\" target=\"_blank\">Instagram</a> <a class=\"block\" href=\"https://www.linkedin.com/company/codedamn/\" rel=\"noreferrer noopener\" target=\"_blank\">LinkedIn</a> <a class=\"block\" href=\"https://github.com/codedamn\" rel=\"noreferrer noopener\" target=\"_blank\">GitHub</a></p><p class=\"mt-2\">Copyright © codedamn™ 2015-<!-- -->2021<!-- --> | All Rights Reserved.</p></div></div></div></footer></div></div><script id=\"__NEXT_DATA__\" type=\"application/json\">{\"props\":{\"pageProps\":{\"count\":31478},\"__N_SSG\":true},\"page\":\"/\",\"query\":{},\"buildId\":\"L0_nAGDpcjkBXivhzz82U\",\"runtimeConfig\":{},\"nextExport\":false,\"isFallback\":false,\"gsp\":true,\"head\":[[\"meta\",{\"charSet\":\"utf-8\"}],[\"meta\",{\"name\":\"twitter:card\",\"content\":\"summary_large_image\"}],[\"meta\",{\"name\":\"twitter:site\",\"content\":\"@codedamncom\"}],[\"meta\",{\"name\":\"twitter:creator\",\"content\":\"@mehulmpt\"}],[\"meta\",{\"property\":\"fb:app_id\",\"content\":\"261251371039658\"}],[\"meta\",{\"property\":\"og:url\",\"content\":\"https://codedamn.com/assets/images/cover.jpg\"}],[\"meta\",{\"property\":\"og:type\",\"content\":\"website\"}],[\"meta\",{\"property\":\"og:title\",\"content\":\"codedamn\"}],[\"meta\",{\"property\":\"og:description\",\"content\":\"Learn about today's job skills - frontend, backend, fullstack, mobile app development and practice online with thousands of developers. codedamn is the best way to learn to code online. Start with HTML, CSS, JavaScript, SQL, Python, Data Science, and more\"}],[\"meta\",{\"property\":\"og:image\",\"content\":\"https://codedamn.com/assets/images/cover.jpg\"}],[\"meta\",{\"property\":\"og:image:alt\",\"content\":\"codedamn cover image\"}],[\"meta\",{\"property\":\"og:image:width\",\"content\":\"1280\"}],[\"meta\",{\"property\":\"og:image:height\",\"content\":\"720\"}],[\"meta\",{\"property\":\"og:site_name\",\"content\":\"codedamn\"}],[\"title\",{\"children\":\"codedamn - Learn coding like it's 2026\"}],[\"meta\",{\"name\":\"robots\",\"content\":\"index,follow\"}],[\"meta\",{\"name\":\"googlebot\",\"content\":\"index,follow\"}],[\"meta\",{\"name\":\"description\",\"content\":\"Learn about today's job skills - frontend, backend, fullstack, mobile app development and practice online with thousands of developers. codedamn is the best way to learn to code online. Start with HTML, CSS, JavaScript, SQL, Python, Data Science, and more\"}],[\"script\",{\"defer\":true,\"dangerouslySetInnerHTML\":{\"__html\":\"(function(i,s,o,g,r,a,m){i['GoogleAnalyticsObject']=r;i[r]=i[r]||function(){\\n(i[r].q=i[r].q||[]).push(arguments)},i[r].l=1*new Date();a=s.createElement(o),\\nm=s.getElementsByTagName(o)[0];a.async=1;a.src=g;m.parentNode.insertBefore(a,m)\\n})(window,document,'script','https://www.google-analytics.com/analytics.js','ga');\\nga('create', 'UA-120902510-1', 'auto');\\nga('send', 'pageview');\"}}],[\"script\",{\"defer\":true,\"dangerouslySetInnerHTML\":{\"__html\":\"!function(f,b,e,v,n,t,s)\\n  {if(f.fbq)return;n=f.fbq=function(){n.callMethod?\\n  n.callMethod.apply(n,arguments):n.queue.push(arguments)};\\n  if(!f._fbq)f._fbq=n;n.push=n;n.loaded=!0;n.version='2.0';\\n  n.queue=[];t=b.createElement(e);t.async=!0;\\n  t.src=v;s=b.getElementsByTagName(e)[0];\\n  s.parentNode.insertBefore(t,s)}(window, document,'script',\\n  'https://connect.facebook.net/en_US/fbevents.js');\\n  fbq('init', '471148730684170');\\n  fbq('track', 'PageView');\"}}],[\"noscript\",{\"dangerouslySetInnerHTML\":{\"__html\":\"\\u003cimg\\n\\t\\t\\t\\t\\t\\t\\t\\theight=\\\"1\\\"\\n\\t\\t\\t\\t\\t\\t\\t\\twidth=\\\"1\\\"\\n\\t\\t\\t\\t\\t\\t\\t\\tstyle=\\\"display:none\\\"\\n\\t\\t\\t\\t\\t\\t\\t\\tsrc=\\\"https://www.facebook.com/tr?id=471148730684170\\u0026ev=PageView\\u0026noscript=1\\\"\\n\\t\\t\\t\\t\\t\\t\\t/\\u003e\"}}],[\"meta\",{\"name\":\"viewport\",\"content\":\"minimum-scale=1, initial-scale=1, width=device-width, shrink-to-fit=no\"}],[\"meta\",{\"name\":\"application-name\",\"content\":\"codedamn\"}],[\"meta\",{\"name\":\"apple-mobile-web-app-capable\",\"content\":\"yes\"}],[\"meta\",{\"name\":\"apple-mobile-web-app-status-bar-style\",\"content\":\"default\"}],[\"meta\",{\"name\":\"apple-mobile-web-app-title\",\"content\":\"codedamn\"}],[\"meta\",{\"name\":\"format-detection\",\"content\":\"telephone=no\"}],[\"meta\",{\"name\":\"mobile-web-app-capable\",\"content\":\"yes\"}],[\"meta\",{\"name\":\"msapplication-config\",\"content\":\"/assets/images/favicons/browserconfig.xml\"}],[\"meta\",{\"name\":\"msapplication-TileColor\",\"content\":\"#000000\"}],[\"meta\",{\"name\":\"msapplication-tap-highlight\",\"content\":\"no\"}],[\"link\",{\"rel\":\"apple-touch-icon\",\"sizes\":\"180x180\",\"href\":\"/assets/images/favicons/apple-icon-180x180.png\"}],[\"link\",{\"rel\":\"icon\",\"type\":\"image/png\",\"sizes\":\"32x32\",\"href\":\"/assets/images/favicons/favicon-32x32.png\"}],[\"link\",{\"rel\":\"icon\",\"type\":\"image/png\",\"sizes\":\"16x16\",\"href\":\"/assets/images/favicons/favicon-16x16.png\"}],[\"link\",{\"rel\":\"manifest\",\"href\":\"/manifest.json\"}],[\"link\",{\"rel\":\"shortcut icon\",\"href\":\"/assets/images/favicons/favicon-96x96.png\"}]]}</script><script nomodule=\"\" src=\"/_next/static/chunks/polyfills-392e5f403eb93f794bfe.js\"></script><script async=\"\" src=\"/_next/static/chunks/main-0581ef54591f3828db54.js\"></script><script async=\"\" src=\"/_next/static/chunks/webpack-3ef406eee9db7106b4c2.js\"></script><script async=\"\" src=\"/_next/static/chunks/framework.a4fd7167b233464d44bd.js\"></script><script async=\"\" src=\"/_next/static/chunks/codedamn-css-files.d3f3b9dee2de5d1be764.js\"></script><script async=\"\" src=\"/_next/static/chunks/pages/_app-19f5f921e60cabcd9a2e.js\"></script><script async=\"\" src=\"/_next/static/chunks/c0d53ec4.9785fcfc57c773dba832.js\"></script><script async=\"\" src=\"/_next/static/chunks/pages/index-90fce1aa6da7b3f92de9.js\"></script><script async=\"\" src=\"/_next/static/L0_nAGDpcjkBXivhzz82U/_buildManifest.js\"></script><script async=\"\" src=\"/_next/static/L0_nAGDpcjkBXivhzz82U/_ssgManifest.js\"></script></body></html>"
      ]
     },
     "execution_count": 14,
     "metadata": {},
     "output_type": "execute_result"
    }
   ],
   "source": [
    "from bs4 import BeautifulSoup\n",
    "\n",
    "page = requests.get(\"https://codedamn.com\")\n",
    "soup = BeautifulSoup(page.content, 'html.parser')\n",
    "soup"
   ]
  },
  {
   "cell_type": "code",
   "execution_count": 15,
   "metadata": {},
   "outputs": [],
   "source": [
    "title = soup.title"
   ]
  },
  {
   "cell_type": "code",
   "execution_count": 16,
   "metadata": {},
   "outputs": [
    {
     "data": {
      "text/plain": [
       "<title>codedamn - Learn coding like it's 2026</title>"
      ]
     },
     "execution_count": 16,
     "metadata": {},
     "output_type": "execute_result"
    }
   ],
   "source": [
    "title"
   ]
  },
  {
   "cell_type": "code",
   "execution_count": 21,
   "metadata": {},
   "outputs": [],
   "source": [
    "import requests\n",
    "from bs4 import BeautifulSoup\n",
    "\n",
    "# Make a request\n",
    "page = requests.get(\n",
    "    \"https://codedamn.com\")\n",
    "soup = BeautifulSoup(page.content, 'html.parser')\n",
    "# Create all_h1_tags as empty list\n",
    "all_h1_tags = []\n",
    "\n",
    "# Set all_h1_tags to all h1 tags of the soup\n",
    "for element in soup.select('h1'):\n",
    "    all_h1_tags.append(element.text)"
   ]
  },
  {
   "cell_type": "code",
   "execution_count": 22,
   "metadata": {},
   "outputs": [
    {
     "name": "stdout",
     "output_type": "stream",
     "text": [
      "['Learn web development with mentorship, hands-on practice, and courses.']\n"
     ]
    }
   ],
   "source": [
    "print(all_h1_tags)"
   ]
  },
  {
   "cell_type": "code",
   "execution_count": 25,
   "metadata": {},
   "outputs": [
    {
     "data": {
      "text/plain": [
       "'A million platforms out there to practice algorithms'"
      ]
     },
     "execution_count": 25,
     "metadata": {},
     "output_type": "execute_result"
    }
   ],
   "source": [
    "soup.select('p')[1].text"
   ]
  },
  {
   "cell_type": "code",
   "execution_count": null,
   "metadata": {},
   "outputs": [
    {
     "name": "stdout",
     "output_type": "stream",
     "text": [
      "Now Scrapinghttp://quotes.toscrape.com//page/1\n",
      "Here's a quote:  \n",
      "“The person, be it gentleman or lady, who has not pleasure in a good novel, must be intolerably stupid.”\n"
     ]
    }
   ],
   "source": [
    "import requests \n",
    "from bs4 import BeautifulSoup \n",
    "from csv import writer \n",
    "from time import sleep \n",
    "from random import choice \n",
    "  \n",
    "# list to store scarped data \n",
    "all_quotes = [] \n",
    "  \n",
    "# this part of the url is constant \n",
    "base_url = \"http://quotes.toscrape.com/\"\n",
    "  \n",
    "# this part of the url will keep changing \n",
    "url = \"/page/1\"\n",
    "  \n",
    "while url: \n",
    "    \n",
    "    # concatenating both urls \n",
    "    # making request \n",
    "    res = requests.get(f\"{base_url}{url}\") \n",
    "    print(f\"Now Scraping{base_url}{url}\") \n",
    "    soup = BeautifulSoup(res.text, \"html.parser\") \n",
    "  \n",
    "    # extracting all elements \n",
    "    quotes = soup.find_all(class_=\"quote\") \n",
    "  \n",
    "    for quote in quotes: \n",
    "        all_quotes.append({ \n",
    "            \"text\": quote.find(class_=\"text\").get_text(), \n",
    "            \"author\": quote.find(class_=\"author\").get_text(), \n",
    "            \"bio-link\": quote.find(\"a\")[\"href\"] \n",
    "        }) \n",
    "    next_btn = soup.find(_class=\"next\") \n",
    "    url = next_btn.find(\"a\")[\"href\"] if next_btn else None\n",
    "    sleep(2) \n",
    "  \n",
    "quote = choice(all_quotes) \n",
    "remaining_guesses = 4\n",
    "print(\"Here's a quote:  \") \n",
    "print(quote[\"text\"]) \n",
    "  \n",
    "guess = '' \n",
    "while guess.lower() != quote[\"author\"].lower() and remaining_guesses > 0: \n",
    "    guess = input( \n",
    "        f\"Who said this quote? Guesses remaining {remaining_guesses}\") \n",
    "      \n",
    "    if guess == quote[\"author\"]: \n",
    "        print(\"CONGRATULATIONS!!! YOU GOT IT RIGHT\") \n",
    "        break\n",
    "    remaining_guesses -= 1\n",
    "      \n",
    "    if remaining_guesses == 3: \n",
    "        res = requests.get(f\"{base_url}{quote['bio-link']}\") \n",
    "        soup = BeautifulSoup(res.text, \"html.parser\") \n",
    "        birth_date = soup.find(class_=\"author-born-date\").get_text() \n",
    "        birth_place = soup.find(class_=\"author-born-location\").get_text() \n",
    "        print( \n",
    "            f\"Here's a hint: The author was born on {birth_date}{birth_place}\") \n",
    "      \n",
    "    elif remaining_guesses == 2: \n",
    "        print( \n",
    "            f\"Here's a hint: The author's first name starts with: {quote['author'][0]}\") \n",
    "      \n",
    "    elif remaining_guesses == 1: \n",
    "        last_initial = quote[\"author\"].split(\" \")[1][0] \n",
    "        print( \n",
    "            f\"Here's a hint: The author's last name starts with: {last_initial}\") \n",
    "      \n",
    "    else: \n",
    "        print( \n",
    "            f\"Sorry, you ran out of guesses. The answer was {quote['author']}\") "
   ]
  },
  {
   "cell_type": "code",
   "execution_count": 1,
   "metadata": {},
   "outputs": [],
   "source": [
    "base_url = \"http://quotes.toscrape.com/\"\n",
    "  \n",
    "# this part of the url will keep changing \n",
    "url = \"/page/1\""
   ]
  },
  {
   "cell_type": "code",
   "execution_count": 4,
   "metadata": {},
   "outputs": [
    {
     "data": {
      "text/plain": [
       "'http://quotes.toscrape.com//page/1'"
      ]
     },
     "execution_count": 4,
     "metadata": {},
     "output_type": "execute_result"
    }
   ],
   "source": [
    "f\"{base_url}{url}\""
   ]
  },
  {
   "cell_type": "code",
   "execution_count": 6,
   "metadata": {},
   "outputs": [],
   "source": [
    "import requests \n",
    "from bs4 import BeautifulSoup \n",
    "from csv import writer \n",
    "from time import sleep \n",
    "from random import choice "
   ]
  },
  {
   "cell_type": "code",
   "execution_count": 48,
   "metadata": {},
   "outputs": [],
   "source": [
    "all_quotes = [] \n",
    "  \n",
    "# this part of the url is constant \n",
    "base_url = \"http://quotes.toscrape.com/\"\n",
    "  \n",
    "# this part of the url will keep changing \n",
    "url = \"/page/1\""
   ]
  },
  {
   "cell_type": "code",
   "execution_count": 49,
   "metadata": {},
   "outputs": [
    {
     "name": "stdout",
     "output_type": "stream",
     "text": [
      "Now Scrapinghttp://quotes.toscrape.com//page/1\n"
     ]
    }
   ],
   "source": [
    "res = requests.get(f\"{base_url}{url}\") \n",
    "print(f\"Now Scraping{base_url}{url}\") \n",
    "soup = BeautifulSoup(res.text, \"html.parser\") \n",
    "  \n",
    "# extracting all elements \n",
    "quotes = soup.find_all('div', attrs={'class':'quote'}) \n",
    "  \n",
    "for quote in quotes: \n",
    "    all_quotes.append({ \n",
    "        \"text\": quote.find(class_=\"text\").get_text(), \n",
    "        \"author\": quote.find(class_=\"author\").get_text(), \n",
    "        \"bio-link\": quote.find(\"a\")[\"href\"] \n",
    "    }) \n",
    "next_btn = soup.find(_class=\"next\") \n",
    "url = next_btn.find(\"a\")[\"href\"] if next_btn else None"
   ]
  },
  {
   "cell_type": "code",
   "execution_count": 50,
   "metadata": {},
   "outputs": [
    {
     "data": {
      "text/plain": [
       "[<div class=\"quote\" itemscope=\"\" itemtype=\"http://schema.org/CreativeWork\">\n",
       " <span class=\"text\" itemprop=\"text\">“The world as we have created it is a process of our thinking. It cannot be changed without changing our thinking.”</span>\n",
       " <span>by <small class=\"author\" itemprop=\"author\">Albert Einstein</small>\n",
       " <a href=\"/author/Albert-Einstein\">(about)</a>\n",
       " </span>\n",
       " <div class=\"tags\">\n",
       "             Tags:\n",
       "             <meta class=\"keywords\" content=\"change,deep-thoughts,thinking,world\" itemprop=\"keywords\"/>\n",
       " <a class=\"tag\" href=\"/tag/change/page/1/\">change</a>\n",
       " <a class=\"tag\" href=\"/tag/deep-thoughts/page/1/\">deep-thoughts</a>\n",
       " <a class=\"tag\" href=\"/tag/thinking/page/1/\">thinking</a>\n",
       " <a class=\"tag\" href=\"/tag/world/page/1/\">world</a>\n",
       " </div>\n",
       " </div>,\n",
       " <div class=\"quote\" itemscope=\"\" itemtype=\"http://schema.org/CreativeWork\">\n",
       " <span class=\"text\" itemprop=\"text\">“It is our choices, Harry, that show what we truly are, far more than our abilities.”</span>\n",
       " <span>by <small class=\"author\" itemprop=\"author\">J.K. Rowling</small>\n",
       " <a href=\"/author/J-K-Rowling\">(about)</a>\n",
       " </span>\n",
       " <div class=\"tags\">\n",
       "             Tags:\n",
       "             <meta class=\"keywords\" content=\"abilities,choices\" itemprop=\"keywords\"/>\n",
       " <a class=\"tag\" href=\"/tag/abilities/page/1/\">abilities</a>\n",
       " <a class=\"tag\" href=\"/tag/choices/page/1/\">choices</a>\n",
       " </div>\n",
       " </div>,\n",
       " <div class=\"quote\" itemscope=\"\" itemtype=\"http://schema.org/CreativeWork\">\n",
       " <span class=\"text\" itemprop=\"text\">“There are only two ways to live your life. One is as though nothing is a miracle. The other is as though everything is a miracle.”</span>\n",
       " <span>by <small class=\"author\" itemprop=\"author\">Albert Einstein</small>\n",
       " <a href=\"/author/Albert-Einstein\">(about)</a>\n",
       " </span>\n",
       " <div class=\"tags\">\n",
       "             Tags:\n",
       "             <meta class=\"keywords\" content=\"inspirational,life,live,miracle,miracles\" itemprop=\"keywords\"/>\n",
       " <a class=\"tag\" href=\"/tag/inspirational/page/1/\">inspirational</a>\n",
       " <a class=\"tag\" href=\"/tag/life/page/1/\">life</a>\n",
       " <a class=\"tag\" href=\"/tag/live/page/1/\">live</a>\n",
       " <a class=\"tag\" href=\"/tag/miracle/page/1/\">miracle</a>\n",
       " <a class=\"tag\" href=\"/tag/miracles/page/1/\">miracles</a>\n",
       " </div>\n",
       " </div>,\n",
       " <div class=\"quote\" itemscope=\"\" itemtype=\"http://schema.org/CreativeWork\">\n",
       " <span class=\"text\" itemprop=\"text\">“The person, be it gentleman or lady, who has not pleasure in a good novel, must be intolerably stupid.”</span>\n",
       " <span>by <small class=\"author\" itemprop=\"author\">Jane Austen</small>\n",
       " <a href=\"/author/Jane-Austen\">(about)</a>\n",
       " </span>\n",
       " <div class=\"tags\">\n",
       "             Tags:\n",
       "             <meta class=\"keywords\" content=\"aliteracy,books,classic,humor\" itemprop=\"keywords\"/>\n",
       " <a class=\"tag\" href=\"/tag/aliteracy/page/1/\">aliteracy</a>\n",
       " <a class=\"tag\" href=\"/tag/books/page/1/\">books</a>\n",
       " <a class=\"tag\" href=\"/tag/classic/page/1/\">classic</a>\n",
       " <a class=\"tag\" href=\"/tag/humor/page/1/\">humor</a>\n",
       " </div>\n",
       " </div>,\n",
       " <div class=\"quote\" itemscope=\"\" itemtype=\"http://schema.org/CreativeWork\">\n",
       " <span class=\"text\" itemprop=\"text\">“Imperfection is beauty, madness is genius and it's better to be absolutely ridiculous than absolutely boring.”</span>\n",
       " <span>by <small class=\"author\" itemprop=\"author\">Marilyn Monroe</small>\n",
       " <a href=\"/author/Marilyn-Monroe\">(about)</a>\n",
       " </span>\n",
       " <div class=\"tags\">\n",
       "             Tags:\n",
       "             <meta class=\"keywords\" content=\"be-yourself,inspirational\" itemprop=\"keywords\"/>\n",
       " <a class=\"tag\" href=\"/tag/be-yourself/page/1/\">be-yourself</a>\n",
       " <a class=\"tag\" href=\"/tag/inspirational/page/1/\">inspirational</a>\n",
       " </div>\n",
       " </div>,\n",
       " <div class=\"quote\" itemscope=\"\" itemtype=\"http://schema.org/CreativeWork\">\n",
       " <span class=\"text\" itemprop=\"text\">“Try not to become a man of success. Rather become a man of value.”</span>\n",
       " <span>by <small class=\"author\" itemprop=\"author\">Albert Einstein</small>\n",
       " <a href=\"/author/Albert-Einstein\">(about)</a>\n",
       " </span>\n",
       " <div class=\"tags\">\n",
       "             Tags:\n",
       "             <meta class=\"keywords\" content=\"adulthood,success,value\" itemprop=\"keywords\"/>\n",
       " <a class=\"tag\" href=\"/tag/adulthood/page/1/\">adulthood</a>\n",
       " <a class=\"tag\" href=\"/tag/success/page/1/\">success</a>\n",
       " <a class=\"tag\" href=\"/tag/value/page/1/\">value</a>\n",
       " </div>\n",
       " </div>,\n",
       " <div class=\"quote\" itemscope=\"\" itemtype=\"http://schema.org/CreativeWork\">\n",
       " <span class=\"text\" itemprop=\"text\">“It is better to be hated for what you are than to be loved for what you are not.”</span>\n",
       " <span>by <small class=\"author\" itemprop=\"author\">André Gide</small>\n",
       " <a href=\"/author/Andre-Gide\">(about)</a>\n",
       " </span>\n",
       " <div class=\"tags\">\n",
       "             Tags:\n",
       "             <meta class=\"keywords\" content=\"life,love\" itemprop=\"keywords\"/>\n",
       " <a class=\"tag\" href=\"/tag/life/page/1/\">life</a>\n",
       " <a class=\"tag\" href=\"/tag/love/page/1/\">love</a>\n",
       " </div>\n",
       " </div>,\n",
       " <div class=\"quote\" itemscope=\"\" itemtype=\"http://schema.org/CreativeWork\">\n",
       " <span class=\"text\" itemprop=\"text\">“I have not failed. I've just found 10,000 ways that won't work.”</span>\n",
       " <span>by <small class=\"author\" itemprop=\"author\">Thomas A. Edison</small>\n",
       " <a href=\"/author/Thomas-A-Edison\">(about)</a>\n",
       " </span>\n",
       " <div class=\"tags\">\n",
       "             Tags:\n",
       "             <meta class=\"keywords\" content=\"edison,failure,inspirational,paraphrased\" itemprop=\"keywords\"/>\n",
       " <a class=\"tag\" href=\"/tag/edison/page/1/\">edison</a>\n",
       " <a class=\"tag\" href=\"/tag/failure/page/1/\">failure</a>\n",
       " <a class=\"tag\" href=\"/tag/inspirational/page/1/\">inspirational</a>\n",
       " <a class=\"tag\" href=\"/tag/paraphrased/page/1/\">paraphrased</a>\n",
       " </div>\n",
       " </div>,\n",
       " <div class=\"quote\" itemscope=\"\" itemtype=\"http://schema.org/CreativeWork\">\n",
       " <span class=\"text\" itemprop=\"text\">“A woman is like a tea bag; you never know how strong it is until it's in hot water.”</span>\n",
       " <span>by <small class=\"author\" itemprop=\"author\">Eleanor Roosevelt</small>\n",
       " <a href=\"/author/Eleanor-Roosevelt\">(about)</a>\n",
       " </span>\n",
       " <div class=\"tags\">\n",
       "             Tags:\n",
       "             <meta class=\"keywords\" content=\"misattributed-eleanor-roosevelt\" itemprop=\"keywords\"/>\n",
       " <a class=\"tag\" href=\"/tag/misattributed-eleanor-roosevelt/page/1/\">misattributed-eleanor-roosevelt</a>\n",
       " </div>\n",
       " </div>,\n",
       " <div class=\"quote\" itemscope=\"\" itemtype=\"http://schema.org/CreativeWork\">\n",
       " <span class=\"text\" itemprop=\"text\">“A day without sunshine is like, you know, night.”</span>\n",
       " <span>by <small class=\"author\" itemprop=\"author\">Steve Martin</small>\n",
       " <a href=\"/author/Steve-Martin\">(about)</a>\n",
       " </span>\n",
       " <div class=\"tags\">\n",
       "             Tags:\n",
       "             <meta class=\"keywords\" content=\"humor,obvious,simile\" itemprop=\"keywords\"/>\n",
       " <a class=\"tag\" href=\"/tag/humor/page/1/\">humor</a>\n",
       " <a class=\"tag\" href=\"/tag/obvious/page/1/\">obvious</a>\n",
       " <a class=\"tag\" href=\"/tag/simile/page/1/\">simile</a>\n",
       " </div>\n",
       " </div>]"
      ]
     },
     "execution_count": 50,
     "metadata": {},
     "output_type": "execute_result"
    }
   ],
   "source": [
    "quotes"
   ]
  },
  {
   "cell_type": "code",
   "execution_count": 40,
   "metadata": {},
   "outputs": [
    {
     "data": {
      "text/plain": [
       "[<div class=\"quote\" itemscope=\"\" itemtype=\"http://schema.org/CreativeWork\">\n",
       " <span class=\"text\" itemprop=\"text\">“The world as we have created it is a process of our thinking. It cannot be changed without changing our thinking.”</span>\n",
       " <span>by <small class=\"author\" itemprop=\"author\">Albert Einstein</small>\n",
       " <a href=\"/author/Albert-Einstein\">(about)</a>\n",
       " </span>\n",
       " <div class=\"tags\">\n",
       "             Tags:\n",
       "             <meta class=\"keywords\" content=\"change,deep-thoughts,thinking,world\" itemprop=\"keywords\"/>\n",
       " <a class=\"tag\" href=\"/tag/change/page/1/\">change</a>\n",
       " <a class=\"tag\" href=\"/tag/deep-thoughts/page/1/\">deep-thoughts</a>\n",
       " <a class=\"tag\" href=\"/tag/thinking/page/1/\">thinking</a>\n",
       " <a class=\"tag\" href=\"/tag/world/page/1/\">world</a>\n",
       " </div>\n",
       " </div>,\n",
       " <div class=\"quote\" itemscope=\"\" itemtype=\"http://schema.org/CreativeWork\">\n",
       " <span class=\"text\" itemprop=\"text\">“It is our choices, Harry, that show what we truly are, far more than our abilities.”</span>\n",
       " <span>by <small class=\"author\" itemprop=\"author\">J.K. Rowling</small>\n",
       " <a href=\"/author/J-K-Rowling\">(about)</a>\n",
       " </span>\n",
       " <div class=\"tags\">\n",
       "             Tags:\n",
       "             <meta class=\"keywords\" content=\"abilities,choices\" itemprop=\"keywords\"/>\n",
       " <a class=\"tag\" href=\"/tag/abilities/page/1/\">abilities</a>\n",
       " <a class=\"tag\" href=\"/tag/choices/page/1/\">choices</a>\n",
       " </div>\n",
       " </div>,\n",
       " <div class=\"quote\" itemscope=\"\" itemtype=\"http://schema.org/CreativeWork\">\n",
       " <span class=\"text\" itemprop=\"text\">“There are only two ways to live your life. One is as though nothing is a miracle. The other is as though everything is a miracle.”</span>\n",
       " <span>by <small class=\"author\" itemprop=\"author\">Albert Einstein</small>\n",
       " <a href=\"/author/Albert-Einstein\">(about)</a>\n",
       " </span>\n",
       " <div class=\"tags\">\n",
       "             Tags:\n",
       "             <meta class=\"keywords\" content=\"inspirational,life,live,miracle,miracles\" itemprop=\"keywords\"/>\n",
       " <a class=\"tag\" href=\"/tag/inspirational/page/1/\">inspirational</a>\n",
       " <a class=\"tag\" href=\"/tag/life/page/1/\">life</a>\n",
       " <a class=\"tag\" href=\"/tag/live/page/1/\">live</a>\n",
       " <a class=\"tag\" href=\"/tag/miracle/page/1/\">miracle</a>\n",
       " <a class=\"tag\" href=\"/tag/miracles/page/1/\">miracles</a>\n",
       " </div>\n",
       " </div>,\n",
       " <div class=\"quote\" itemscope=\"\" itemtype=\"http://schema.org/CreativeWork\">\n",
       " <span class=\"text\" itemprop=\"text\">“The person, be it gentleman or lady, who has not pleasure in a good novel, must be intolerably stupid.”</span>\n",
       " <span>by <small class=\"author\" itemprop=\"author\">Jane Austen</small>\n",
       " <a href=\"/author/Jane-Austen\">(about)</a>\n",
       " </span>\n",
       " <div class=\"tags\">\n",
       "             Tags:\n",
       "             <meta class=\"keywords\" content=\"aliteracy,books,classic,humor\" itemprop=\"keywords\"/>\n",
       " <a class=\"tag\" href=\"/tag/aliteracy/page/1/\">aliteracy</a>\n",
       " <a class=\"tag\" href=\"/tag/books/page/1/\">books</a>\n",
       " <a class=\"tag\" href=\"/tag/classic/page/1/\">classic</a>\n",
       " <a class=\"tag\" href=\"/tag/humor/page/1/\">humor</a>\n",
       " </div>\n",
       " </div>,\n",
       " <div class=\"quote\" itemscope=\"\" itemtype=\"http://schema.org/CreativeWork\">\n",
       " <span class=\"text\" itemprop=\"text\">“Imperfection is beauty, madness is genius and it's better to be absolutely ridiculous than absolutely boring.”</span>\n",
       " <span>by <small class=\"author\" itemprop=\"author\">Marilyn Monroe</small>\n",
       " <a href=\"/author/Marilyn-Monroe\">(about)</a>\n",
       " </span>\n",
       " <div class=\"tags\">\n",
       "             Tags:\n",
       "             <meta class=\"keywords\" content=\"be-yourself,inspirational\" itemprop=\"keywords\"/>\n",
       " <a class=\"tag\" href=\"/tag/be-yourself/page/1/\">be-yourself</a>\n",
       " <a class=\"tag\" href=\"/tag/inspirational/page/1/\">inspirational</a>\n",
       " </div>\n",
       " </div>,\n",
       " <div class=\"quote\" itemscope=\"\" itemtype=\"http://schema.org/CreativeWork\">\n",
       " <span class=\"text\" itemprop=\"text\">“Try not to become a man of success. Rather become a man of value.”</span>\n",
       " <span>by <small class=\"author\" itemprop=\"author\">Albert Einstein</small>\n",
       " <a href=\"/author/Albert-Einstein\">(about)</a>\n",
       " </span>\n",
       " <div class=\"tags\">\n",
       "             Tags:\n",
       "             <meta class=\"keywords\" content=\"adulthood,success,value\" itemprop=\"keywords\"/>\n",
       " <a class=\"tag\" href=\"/tag/adulthood/page/1/\">adulthood</a>\n",
       " <a class=\"tag\" href=\"/tag/success/page/1/\">success</a>\n",
       " <a class=\"tag\" href=\"/tag/value/page/1/\">value</a>\n",
       " </div>\n",
       " </div>,\n",
       " <div class=\"quote\" itemscope=\"\" itemtype=\"http://schema.org/CreativeWork\">\n",
       " <span class=\"text\" itemprop=\"text\">“It is better to be hated for what you are than to be loved for what you are not.”</span>\n",
       " <span>by <small class=\"author\" itemprop=\"author\">André Gide</small>\n",
       " <a href=\"/author/Andre-Gide\">(about)</a>\n",
       " </span>\n",
       " <div class=\"tags\">\n",
       "             Tags:\n",
       "             <meta class=\"keywords\" content=\"life,love\" itemprop=\"keywords\"/>\n",
       " <a class=\"tag\" href=\"/tag/life/page/1/\">life</a>\n",
       " <a class=\"tag\" href=\"/tag/love/page/1/\">love</a>\n",
       " </div>\n",
       " </div>,\n",
       " <div class=\"quote\" itemscope=\"\" itemtype=\"http://schema.org/CreativeWork\">\n",
       " <span class=\"text\" itemprop=\"text\">“I have not failed. I've just found 10,000 ways that won't work.”</span>\n",
       " <span>by <small class=\"author\" itemprop=\"author\">Thomas A. Edison</small>\n",
       " <a href=\"/author/Thomas-A-Edison\">(about)</a>\n",
       " </span>\n",
       " <div class=\"tags\">\n",
       "             Tags:\n",
       "             <meta class=\"keywords\" content=\"edison,failure,inspirational,paraphrased\" itemprop=\"keywords\"/>\n",
       " <a class=\"tag\" href=\"/tag/edison/page/1/\">edison</a>\n",
       " <a class=\"tag\" href=\"/tag/failure/page/1/\">failure</a>\n",
       " <a class=\"tag\" href=\"/tag/inspirational/page/1/\">inspirational</a>\n",
       " <a class=\"tag\" href=\"/tag/paraphrased/page/1/\">paraphrased</a>\n",
       " </div>\n",
       " </div>,\n",
       " <div class=\"quote\" itemscope=\"\" itemtype=\"http://schema.org/CreativeWork\">\n",
       " <span class=\"text\" itemprop=\"text\">“A woman is like a tea bag; you never know how strong it is until it's in hot water.”</span>\n",
       " <span>by <small class=\"author\" itemprop=\"author\">Eleanor Roosevelt</small>\n",
       " <a href=\"/author/Eleanor-Roosevelt\">(about)</a>\n",
       " </span>\n",
       " <div class=\"tags\">\n",
       "             Tags:\n",
       "             <meta class=\"keywords\" content=\"misattributed-eleanor-roosevelt\" itemprop=\"keywords\"/>\n",
       " <a class=\"tag\" href=\"/tag/misattributed-eleanor-roosevelt/page/1/\">misattributed-eleanor-roosevelt</a>\n",
       " </div>\n",
       " </div>,\n",
       " <div class=\"quote\" itemscope=\"\" itemtype=\"http://schema.org/CreativeWork\">\n",
       " <span class=\"text\" itemprop=\"text\">“A day without sunshine is like, you know, night.”</span>\n",
       " <span>by <small class=\"author\" itemprop=\"author\">Steve Martin</small>\n",
       " <a href=\"/author/Steve-Martin\">(about)</a>\n",
       " </span>\n",
       " <div class=\"tags\">\n",
       "             Tags:\n",
       "             <meta class=\"keywords\" content=\"humor,obvious,simile\" itemprop=\"keywords\"/>\n",
       " <a class=\"tag\" href=\"/tag/humor/page/1/\">humor</a>\n",
       " <a class=\"tag\" href=\"/tag/obvious/page/1/\">obvious</a>\n",
       " <a class=\"tag\" href=\"/tag/simile/page/1/\">simile</a>\n",
       " </div>\n",
       " </div>]"
      ]
     },
     "execution_count": 40,
     "metadata": {},
     "output_type": "execute_result"
    }
   ],
   "source": [
    "quotes"
   ]
  },
  {
   "cell_type": "code",
   "execution_count": 51,
   "metadata": {},
   "outputs": [
    {
     "name": "stdout",
     "output_type": "stream",
     "text": [
      "['The']\n"
     ]
    }
   ],
   "source": [
    "import re\n",
    "\n",
    "txt = \"The rain in Spain\"\n",
    "\n",
    "#Check if the string starts with \"The\":\n",
    "\n",
    "x = re.findall(\"\\AThe\", txt)\n",
    "\n",
    "print(x)\n"
   ]
  },
  {
   "cell_type": "code",
   "execution_count": 52,
   "metadata": {},
   "outputs": [
    {
     "name": "stdout",
     "output_type": "stream",
     "text": [
      "[]\n"
     ]
    }
   ],
   "source": [
    "import re\n",
    "\n",
    "txt = \"The rain in Spain\"\n",
    "\n",
    "#Check if \"ain\" is present at the beginning of a WORD:\n",
    "\n",
    "x = re.findall(r\"\\bain\", txt)\n",
    "\n",
    "print(x)"
   ]
  },
  {
   "cell_type": "code",
   "execution_count": 53,
   "metadata": {},
   "outputs": [
    {
     "name": "stdout",
     "output_type": "stream",
     "text": [
      "['ain', 'ain']\n"
     ]
    }
   ],
   "source": [
    "import re\n",
    "\n",
    "txt = \"The rain in Spain\"\n",
    "\n",
    "#Check if \"ain\" is present at the end of a WORD:\n",
    "\n",
    "x = re.findall(r\"ain\\b\", txt)\n",
    "\n",
    "print(x)"
   ]
  },
  {
   "cell_type": "code",
   "execution_count": 54,
   "metadata": {},
   "outputs": [
    {
     "name": "stdout",
     "output_type": "stream",
     "text": [
      "['ain', 'ain']\n"
     ]
    }
   ],
   "source": [
    "import re\n",
    "\n",
    "txt = \"The rain in Spain\"\n",
    "\n",
    "#Check if \"ain\" is present, but NOT at the beginning of a word:\n",
    "\n",
    "x = re.findall(r\"\\Bain\", txt)\n",
    "\n",
    "print(x)\n"
   ]
  },
  {
   "cell_type": "code",
   "execution_count": 55,
   "metadata": {},
   "outputs": [
    {
     "name": "stdout",
     "output_type": "stream",
     "text": [
      "[]\n"
     ]
    }
   ],
   "source": [
    "import re\n",
    "\n",
    "txt = \"The rain in Spain\"\n",
    "\n",
    "#Check if the string contains any digits (numbers from 0-9):\n",
    "\n",
    "x = re.findall(\"\\d\", txt)\n",
    "\n",
    "print(x)\n"
   ]
  },
  {
   "cell_type": "code",
   "execution_count": 56,
   "metadata": {},
   "outputs": [
    {
     "name": "stdout",
     "output_type": "stream",
     "text": [
      "['T', 'h', 'e', ' ', 'r', 'a', 'i', 'n', ' ', 'i', 'n', ' ', 'S', 'p', 'a', 'i', 'n']\n"
     ]
    }
   ],
   "source": [
    "import re\n",
    "\n",
    "txt = \"The rain in Spain\"\n",
    "\n",
    "#Return a match at every no-digit character:\n",
    "\n",
    "x = re.findall(\"\\D\", txt)\n",
    "\n",
    "print(x)"
   ]
  },
  {
   "cell_type": "code",
   "execution_count": 57,
   "metadata": {},
   "outputs": [
    {
     "name": "stdout",
     "output_type": "stream",
     "text": [
      "[' ', ' ', ' ']\n"
     ]
    }
   ],
   "source": [
    "import re\n",
    "\n",
    "txt = \"The rain in Spain\"\n",
    "\n",
    "#Return a match at every white-space character:\n",
    "\n",
    "x = re.findall(\"\\s\", txt)\n",
    "\n",
    "print(x)"
   ]
  },
  {
   "cell_type": "code",
   "execution_count": 58,
   "metadata": {},
   "outputs": [
    {
     "name": "stdout",
     "output_type": "stream",
     "text": [
      "['T', 'h', 'e', 'r', 'a', 'i', 'n', 'i', 'n', 'S', 'p', 'a', 'i', 'n']\n"
     ]
    }
   ],
   "source": [
    "import re\n",
    "\n",
    "txt = \"The rain in Spain\"\n",
    "\n",
    "#Return a match at every NON white-space character:\n",
    "\n",
    "x = re.findall(\"\\S\", txt)\n",
    "\n",
    "print(x)"
   ]
  },
  {
   "cell_type": "code",
   "execution_count": 59,
   "metadata": {},
   "outputs": [
    {
     "name": "stdout",
     "output_type": "stream",
     "text": [
      "['T', 'h', 'e', 'r', 'a', 'i', 'n', 'i', 'n', 'S', 'p', 'a', 'i', 'n']\n"
     ]
    }
   ],
   "source": [
    "import re\n",
    "\n",
    "txt = \"The rain in Spain\"\n",
    "\n",
    "#Return a match at every word character (characters from a to Z, digits from 0-9, and the underscore _ character):\n",
    "\n",
    "x = re.findall(\"\\w\", txt)\n",
    "\n",
    "print(x)"
   ]
  },
  {
   "cell_type": "code",
   "execution_count": 60,
   "metadata": {},
   "outputs": [
    {
     "name": "stdout",
     "output_type": "stream",
     "text": [
      "[' ', ' ', ' ']\n"
     ]
    }
   ],
   "source": [
    "import re\n",
    "\n",
    "txt = \"The rain in Spain\"\n",
    "\n",
    "#Return a match at every NON word character (characters NOT between a and Z. Like \"!\", \"?\" white-space etc.):\n",
    "\n",
    "x = re.findall(\"\\W\", txt)\n",
    "\n",
    "print(x)"
   ]
  },
  {
   "cell_type": "code",
   "execution_count": 61,
   "metadata": {},
   "outputs": [
    {
     "name": "stdout",
     "output_type": "stream",
     "text": [
      "['Spain']\n"
     ]
    }
   ],
   "source": [
    "import re\n",
    "\n",
    "txt = \"The rain in Spain\"\n",
    "\n",
    "#Check if the string ends with \"Spain\":\n",
    "\n",
    "x = re.findall(\"Spain\\Z\", txt)\n",
    "\n",
    "print(x)"
   ]
  },
  {
   "cell_type": "code",
   "execution_count": 62,
   "metadata": {},
   "outputs": [
    {
     "name": "stdout",
     "output_type": "stream",
     "text": [
      "['r', 'a', 'n', 'n', 'a', 'n']\n"
     ]
    }
   ],
   "source": [
    "import re\n",
    "\n",
    "txt = \"The rain in Spain\"\n",
    "\n",
    "#Check if the string has any a, r, or n characters:\n",
    "\n",
    "x = re.findall(\"[arn]\", txt)\n",
    "\n",
    "print(x)"
   ]
  },
  {
   "cell_type": "code",
   "execution_count": 63,
   "metadata": {},
   "outputs": [
    {
     "name": "stdout",
     "output_type": "stream",
     "text": [
      "['h', 'e', 'a', 'i', 'n', 'i', 'n', 'a', 'i', 'n']\n"
     ]
    }
   ],
   "source": [
    "import re\n",
    "\n",
    "txt = \"The rain in Spain\"\n",
    "\n",
    "#Check if the string has any characters between a and n:\n",
    "\n",
    "x = re.findall(\"[a-n]\", txt)\n",
    "\n",
    "print(x)"
   ]
  },
  {
   "cell_type": "code",
   "execution_count": 64,
   "metadata": {},
   "outputs": [
    {
     "name": "stdout",
     "output_type": "stream",
     "text": [
      "['T', 'h', 'e', ' ', 'i', ' ', 'i', ' ', 'S', 'p', 'i']\n"
     ]
    }
   ],
   "source": [
    "import re\n",
    "\n",
    "txt = \"The rain in Spain\"\n",
    "\n",
    "#Check if the string has other characters than a, r, or n:\n",
    "\n",
    "x = re.findall(\"[^arn]\", txt)\n",
    "\n",
    "print(x)"
   ]
  },
  {
   "cell_type": "code",
   "execution_count": 65,
   "metadata": {},
   "outputs": [
    {
     "name": "stdout",
     "output_type": "stream",
     "text": [
      "[]\n"
     ]
    }
   ],
   "source": [
    "import re\n",
    "\n",
    "txt = \"The rain in Spain\"\n",
    "\n",
    "#Check if the string has any 0, 1, 2, or 3 digits:\n",
    "\n",
    "x = re.findall(\"[0123]\", txt)\n",
    "\n",
    "print(x)"
   ]
  },
  {
   "cell_type": "code",
   "execution_count": 66,
   "metadata": {},
   "outputs": [
    {
     "name": "stdout",
     "output_type": "stream",
     "text": [
      "['8', '1', '1', '4', '5']\n"
     ]
    }
   ],
   "source": [
    "import re\n",
    "\n",
    "txt = \"8 times before 11:45 AM\"\n",
    "\n",
    "#Check if the string has any digits:\n",
    "\n",
    "x = re.findall(\"[0-9]\", txt)\n",
    "\n",
    "print(x)\n"
   ]
  },
  {
   "cell_type": "code",
   "execution_count": 67,
   "metadata": {},
   "outputs": [
    {
     "name": "stdout",
     "output_type": "stream",
     "text": [
      "['11', '45']\n"
     ]
    }
   ],
   "source": [
    "import re\n",
    "\n",
    "txt = \"8 times before 11:45 AM\"\n",
    "\n",
    "#Check if the string has any two-digit numbers, from 00 to 59:\n",
    "\n",
    "x = re.findall(\"[0-5][0-9]\", txt)\n",
    "\n",
    "print(x)"
   ]
  },
  {
   "cell_type": "code",
   "execution_count": 68,
   "metadata": {},
   "outputs": [
    {
     "name": "stdout",
     "output_type": "stream",
     "text": [
      "['t', 'i', 'm', 'e', 's', 'b', 'e', 'f', 'o', 'r', 'e', 'A', 'M']\n"
     ]
    }
   ],
   "source": [
    "import re\n",
    "\n",
    "txt = \"8 times before 11:45 AM\"\n",
    "\n",
    "#Check if the string has any characters from a to z lower case, and A to Z upper case:\n",
    "\n",
    "x = re.findall(\"[a-zA-Z]\", txt)\n",
    "\n",
    "print(x)"
   ]
  },
  {
   "cell_type": "code",
   "execution_count": 69,
   "metadata": {},
   "outputs": [
    {
     "name": "stdout",
     "output_type": "stream",
     "text": [
      "[]\n"
     ]
    }
   ],
   "source": [
    "import re\n",
    "\n",
    "txt = \"8 times before 11:45 AM\"\n",
    "\n",
    "#Check if the string has any + characters:\n",
    "\n",
    "x = re.findall(\"[+]\", txt)\n",
    "\n",
    "print(x)"
   ]
  },
  {
   "cell_type": "code",
   "execution_count": 71,
   "metadata": {},
   "outputs": [
    {
     "name": "stdout",
     "output_type": "stream",
     "text": [
      "['ai', 'ai']\n"
     ]
    }
   ],
   "source": [
    "import re\n",
    "\n",
    "#Return a list containing every occurrence of \"ai\":\n",
    "\n",
    "txt = \"The rain in Spain\"\n",
    "x = re.findall(\"ai\", txt)\n",
    "print(x)"
   ]
  },
  {
   "cell_type": "code",
   "execution_count": 72,
   "metadata": {},
   "outputs": [
    {
     "name": "stdout",
     "output_type": "stream",
     "text": [
      "[]\n"
     ]
    }
   ],
   "source": [
    "import re\n",
    "\n",
    "txt = \"The rain in Spain\"\n",
    "\n",
    "#Check if \"Portugal\" is in the string:\n",
    "\n",
    "x = re.findall(\"Portugal\", txt)\n",
    "print(x)"
   ]
  },
  {
   "cell_type": "code",
   "execution_count": 73,
   "metadata": {},
   "outputs": [
    {
     "name": "stdout",
     "output_type": "stream",
     "text": [
      "The first white-space character is located in position: 3\n"
     ]
    }
   ],
   "source": [
    "import re\n",
    "\n",
    "txt = \"The rain in Spain\"\n",
    "x = re.search(\"\\s\", txt)\n",
    "\n",
    "print(\"The first white-space character is located in position:\", x.start()) "
   ]
  },
  {
   "cell_type": "code",
   "execution_count": 74,
   "metadata": {},
   "outputs": [
    {
     "name": "stdout",
     "output_type": "stream",
     "text": [
      "None\n"
     ]
    }
   ],
   "source": [
    "import re\n",
    "\n",
    "txt = \"The rain in Spain\"\n",
    "x = re.search(\"Portugal\", txt)\n",
    "print(x)"
   ]
  },
  {
   "cell_type": "code",
   "execution_count": 75,
   "metadata": {},
   "outputs": [
    {
     "name": "stdout",
     "output_type": "stream",
     "text": [
      "['The', 'rain', 'in', 'Spain']\n"
     ]
    }
   ],
   "source": [
    "import re\n",
    "\n",
    "#Split the string at every white-space character:\n",
    "\n",
    "txt = \"The rain in Spain\"\n",
    "x = re.split(\"\\s\", txt)\n",
    "print(x)\n"
   ]
  },
  {
   "cell_type": "code",
   "execution_count": 76,
   "metadata": {},
   "outputs": [
    {
     "name": "stdout",
     "output_type": "stream",
     "text": [
      "['The', 'rain in Spain']\n"
     ]
    }
   ],
   "source": [
    "import re\n",
    "\n",
    "#Split the string at the first white-space character:\n",
    "\n",
    "txt = \"The rain in Spain\"\n",
    "x = re.split(\"\\s\", txt, 1)\n",
    "print(x)\n"
   ]
  },
  {
   "cell_type": "code",
   "execution_count": 77,
   "metadata": {},
   "outputs": [
    {
     "name": "stdout",
     "output_type": "stream",
     "text": [
      "The9rain9in9Spain\n"
     ]
    }
   ],
   "source": [
    "import re\n",
    "\n",
    "#Replace all white-space characters with the digit \"9\":\n",
    "\n",
    "txt = \"The rain in Spain\"\n",
    "x = re.sub(\"\\s\", \"9\", txt)\n",
    "print(x)"
   ]
  },
  {
   "cell_type": "code",
   "execution_count": 78,
   "metadata": {},
   "outputs": [
    {
     "name": "stdout",
     "output_type": "stream",
     "text": [
      "The9rain9in Spain\n"
     ]
    }
   ],
   "source": [
    "import re\n",
    "\n",
    "#Replace the first two occurrences of a white-space character with the digit 9:\n",
    "\n",
    "txt = \"The rain in Spain\"\n",
    "x = re.sub(\"\\s\", \"9\", txt, 2)\n",
    "print(x)"
   ]
  },
  {
   "cell_type": "code",
   "execution_count": 79,
   "metadata": {},
   "outputs": [
    {
     "name": "stdout",
     "output_type": "stream",
     "text": [
      "<re.Match object; span=(5, 7), match='ai'>\n"
     ]
    }
   ],
   "source": [
    "import re\n",
    "\n",
    "#The search() function returns a Match object:\n",
    "\n",
    "txt = \"The rain in Spain\"\n",
    "x = re.search(\"ai\", txt)\n",
    "print(x)\n"
   ]
  },
  {
   "cell_type": "code",
   "execution_count": 83,
   "metadata": {},
   "outputs": [
    {
     "name": "stdout",
     "output_type": "stream",
     "text": [
      "<re.Match object; span=(12, 17), match='Spain'>\n",
      "(12, 17)\n"
     ]
    }
   ],
   "source": [
    "import re\n",
    "\n",
    "#Search for an upper case \"S\" character in the beginning of a word, and print its position:\n",
    "\n",
    "txt = \"The rain in Spain\"\n",
    "x = re.search(r\"\\bS\\w+\", txt)\n",
    "print(x)\n",
    "print(x.span())"
   ]
  },
  {
   "cell_type": "code",
   "execution_count": 84,
   "metadata": {},
   "outputs": [
    {
     "name": "stdout",
     "output_type": "stream",
     "text": [
      "<re.Match object; span=(12, 17), match='Spain'>\n",
      "The rain in Spain\n"
     ]
    }
   ],
   "source": [
    "import re\n",
    "\n",
    "#The string property returns the search string:\n",
    "\n",
    "txt = \"The rain in Spain\"\n",
    "x = re.search(r\"\\bS\\w+\", txt)\n",
    "print(x)\n",
    "print(x.string)"
   ]
  },
  {
   "cell_type": "code",
   "execution_count": 85,
   "metadata": {},
   "outputs": [
    {
     "name": "stdout",
     "output_type": "stream",
     "text": [
      "<re.Match object; span=(12, 17), match='Spain'>\n",
      "Spain\n"
     ]
    }
   ],
   "source": [
    "import re\n",
    "\n",
    "#Search for an upper case \"S\" character in the beginning of a word, and print the word:\n",
    "\n",
    "txt = \"The rain in Spain\"\n",
    "x = re.search(r\"\\bS\\w+\", txt)\n",
    "print(x)\n",
    "print(x.group())"
   ]
  },
  {
   "cell_type": "code",
   "execution_count": null,
   "metadata": {},
   "outputs": [],
   "source": []
  }
 ],
 "metadata": {
  "kernelspec": {
   "display_name": "Python 3",
   "language": "python",
   "name": "python3"
  },
  "language_info": {
   "codemirror_mode": {
    "name": "ipython",
    "version": 3
   },
   "file_extension": ".py",
   "mimetype": "text/x-python",
   "name": "python",
   "nbconvert_exporter": "python",
   "pygments_lexer": "ipython3",
   "version": "3.8.3"
  }
 },
 "nbformat": 4,
 "nbformat_minor": 4
}
